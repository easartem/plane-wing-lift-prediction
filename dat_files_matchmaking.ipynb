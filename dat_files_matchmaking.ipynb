{
 "cells": [
  {
   "cell_type": "code",
   "execution_count": 3002,
   "metadata": {},
   "outputs": [],
   "source": [
    "import pandas as pd\n",
    "import numpy as np\n",
    "import regex as re"
   ]
  },
  {
   "cell_type": "markdown",
   "metadata": {},
   "source": [
    "# Get CSV"
   ]
  },
  {
   "cell_type": "code",
   "execution_count": 3003,
   "metadata": {},
   "outputs": [],
   "source": [
    "pd.set_option('display.max_row', 8353 )"
   ]
  },
  {
   "cell_type": "code",
   "execution_count": 3004,
   "metadata": {},
   "outputs": [
    {
     "name": "stdout",
     "output_type": "stream",
     "text": [
      "(8353, 2)\n"
     ]
    },
    {
     "data": {
      "text/html": [
       "<div>\n",
       "<style scoped>\n",
       "    .dataframe tbody tr th:only-of-type {\n",
       "        vertical-align: middle;\n",
       "    }\n",
       "\n",
       "    .dataframe tbody tr th {\n",
       "        vertical-align: top;\n",
       "    }\n",
       "\n",
       "    .dataframe thead th {\n",
       "        text-align: right;\n",
       "    }\n",
       "</style>\n",
       "<table border=\"1\" class=\"dataframe\">\n",
       "  <thead>\n",
       "    <tr style=\"text-align: right;\">\n",
       "      <th></th>\n",
       "      <th>Name</th>\n",
       "      <th>Size</th>\n",
       "    </tr>\n",
       "  </thead>\n",
       "  <tbody>\n",
       "    <tr>\n",
       "      <th>0</th>\n",
       "      <td>a18.DAT</td>\n",
       "      <td>945</td>\n",
       "    </tr>\n",
       "    <tr>\n",
       "      <th>1</th>\n",
       "      <td>a18sm.DAT</td>\n",
       "      <td>1795</td>\n",
       "    </tr>\n",
       "    <tr>\n",
       "      <th>2</th>\n",
       "      <td>A6014-S.DAT</td>\n",
       "      <td>6116</td>\n",
       "    </tr>\n",
       "    <tr>\n",
       "      <th>3</th>\n",
       "      <td>A6016-S.DAT</td>\n",
       "      <td>5914</td>\n",
       "    </tr>\n",
       "    <tr>\n",
       "      <th>4</th>\n",
       "      <td>A6018-S.DAT</td>\n",
       "      <td>5889</td>\n",
       "    </tr>\n",
       "  </tbody>\n",
       "</table>\n",
       "</div>"
      ],
      "text/plain": [
       "          Name  Size\n",
       "0      a18.DAT   945\n",
       "1    a18sm.DAT  1795\n",
       "2  A6014-S.DAT  6116\n",
       "3  A6016-S.DAT  5914\n",
       "4  A6018-S.DAT  5889"
      ]
     },
     "execution_count": 3004,
     "metadata": {},
     "output_type": "execute_result"
    }
   ],
   "source": [
    "df_dat = pd.read_csv('dat_files_index.csv', usecols=('name', 'size'))\n",
    "df_dat.rename(columns={'name':'Name', 'size':'Size'}, inplace=True)\n",
    "print(df_dat.shape)\n",
    "df_dat.head()"
   ]
  },
  {
   "cell_type": "code",
   "execution_count": 3005,
   "metadata": {},
   "outputs": [
    {
     "name": "stdout",
     "output_type": "stream",
     "text": [
      "(6324, 2)\n"
     ]
    },
    {
     "data": {
      "text/html": [
       "<div>\n",
       "<style scoped>\n",
       "    .dataframe tbody tr th:only-of-type {\n",
       "        vertical-align: middle;\n",
       "    }\n",
       "\n",
       "    .dataframe tbody tr th {\n",
       "        vertical-align: top;\n",
       "    }\n",
       "\n",
       "    .dataframe thead th {\n",
       "        text-align: right;\n",
       "    }\n",
       "</style>\n",
       "<table border=\"1\" class=\"dataframe\">\n",
       "  <thead>\n",
       "    <tr style=\"text-align: right;\">\n",
       "      <th></th>\n",
       "      <th>Name</th>\n",
       "      <th>Family</th>\n",
       "    </tr>\n",
       "  </thead>\n",
       "  <tbody>\n",
       "    <tr>\n",
       "      <th>0</th>\n",
       "      <td>63A108 MOD C</td>\n",
       "      <td>NASA</td>\n",
       "    </tr>\n",
       "    <tr>\n",
       "      <th>1</th>\n",
       "      <td>A18</td>\n",
       "      <td>Uncategorized</td>\n",
       "    </tr>\n",
       "    <tr>\n",
       "      <th>2</th>\n",
       "      <td>A18 (SMOOTHED)</td>\n",
       "      <td>Uncategorized</td>\n",
       "    </tr>\n",
       "    <tr>\n",
       "      <th>3</th>\n",
       "      <td>A6014-S</td>\n",
       "      <td>Ayers</td>\n",
       "    </tr>\n",
       "    <tr>\n",
       "      <th>4</th>\n",
       "      <td>A6016-S</td>\n",
       "      <td>Ayers</td>\n",
       "    </tr>\n",
       "  </tbody>\n",
       "</table>\n",
       "</div>"
      ],
      "text/plain": [
       "             Name         Family\n",
       "0    63A108 MOD C           NASA\n",
       "1             A18  Uncategorized\n",
       "2  A18 (SMOOTHED)  Uncategorized\n",
       "3         A6014-S          Ayers\n",
       "4         A6016-S          Ayers"
      ]
     },
     "execution_count": 3005,
     "metadata": {},
     "output_type": "execute_result"
    }
   ],
   "source": [
    "df_bigtable = pd.read_csv('data/ailes_avion.csv', usecols=('Name', 'Family'))\n",
    "print(df_bigtable.shape)\n",
    "df_bigtable.head()"
   ]
  },
  {
   "cell_type": "markdown",
   "metadata": {},
   "source": [
    "# Basic Regex and merge"
   ]
  },
  {
   "cell_type": "code",
   "execution_count": 3006,
   "metadata": {},
   "outputs": [],
   "source": [
    "# Create a column Name_modified with all names in lowercase and without the .DAT ending \n",
    "df_dat['Name_modified'] =  df_dat['Name'].apply(lambda x : (re.split(\".DAT$\", str(x)))[0])\n",
    "df_dat['Name_modified'] = df_dat['Name_modified'].apply(lambda x : str(x).lower())\n",
    "# Create a column Name_modified with all names in lowercase\n",
    "df_bigtable['Name_modified'] = df_bigtable['Name'].apply(lambda x : str(x).lower())"
   ]
  },
  {
   "cell_type": "code",
   "execution_count": 3007,
   "metadata": {},
   "outputs": [],
   "source": [
    "# Count the number of family in big table\n",
    "#df_bigtable['Family'].value_counts()"
   ]
  },
  {
   "cell_type": "code",
   "execution_count": 3008,
   "metadata": {},
   "outputs": [
    {
     "name": "stdout",
     "output_type": "stream",
     "text": [
      "Le dataset contient 6324 valeurs dont 4905 correspondent aux fichiers dat.\n",
      "Il reste 1419 valeurs à matcher.\n"
     ]
    },
    {
     "data": {
      "text/html": [
       "<div>\n",
       "<style scoped>\n",
       "    .dataframe tbody tr th:only-of-type {\n",
       "        vertical-align: middle;\n",
       "    }\n",
       "\n",
       "    .dataframe tbody tr th {\n",
       "        vertical-align: top;\n",
       "    }\n",
       "\n",
       "    .dataframe thead th {\n",
       "        text-align: right;\n",
       "    }\n",
       "</style>\n",
       "<table border=\"1\" class=\"dataframe\">\n",
       "  <thead>\n",
       "    <tr style=\"text-align: right;\">\n",
       "      <th></th>\n",
       "      <th>Name_big</th>\n",
       "      <th>Family</th>\n",
       "      <th>Name_modified</th>\n",
       "      <th>Name_dat</th>\n",
       "      <th>Size</th>\n",
       "    </tr>\n",
       "  </thead>\n",
       "  <tbody>\n",
       "    <tr>\n",
       "      <th>0</th>\n",
       "      <td>63A108 MOD C</td>\n",
       "      <td>NASA</td>\n",
       "      <td>63a108 mod c</td>\n",
       "      <td>NaN</td>\n",
       "      <td>NaN</td>\n",
       "    </tr>\n",
       "    <tr>\n",
       "      <th>1</th>\n",
       "      <td>A18</td>\n",
       "      <td>Uncategorized</td>\n",
       "      <td>a18</td>\n",
       "      <td>a18.DAT</td>\n",
       "      <td>945.0</td>\n",
       "    </tr>\n",
       "    <tr>\n",
       "      <th>2</th>\n",
       "      <td>A18 (SMOOTHED)</td>\n",
       "      <td>Uncategorized</td>\n",
       "      <td>a18 (smoothed)</td>\n",
       "      <td>NaN</td>\n",
       "      <td>NaN</td>\n",
       "    </tr>\n",
       "    <tr>\n",
       "      <th>3</th>\n",
       "      <td>A6014-S</td>\n",
       "      <td>Ayers</td>\n",
       "      <td>a6014-s</td>\n",
       "      <td>A6014-S.DAT</td>\n",
       "      <td>6116.0</td>\n",
       "    </tr>\n",
       "    <tr>\n",
       "      <th>4</th>\n",
       "      <td>A6016-S</td>\n",
       "      <td>Ayers</td>\n",
       "      <td>a6016-s</td>\n",
       "      <td>A6016-S.DAT</td>\n",
       "      <td>5914.0</td>\n",
       "    </tr>\n",
       "  </tbody>\n",
       "</table>\n",
       "</div>"
      ],
      "text/plain": [
       "         Name_big         Family   Name_modified     Name_dat    Size\n",
       "0    63A108 MOD C           NASA    63a108 mod c          NaN     NaN\n",
       "1             A18  Uncategorized             a18      a18.DAT   945.0\n",
       "2  A18 (SMOOTHED)  Uncategorized  a18 (smoothed)          NaN     NaN\n",
       "3         A6014-S          Ayers         a6014-s  A6014-S.DAT  6116.0\n",
       "4         A6016-S          Ayers         a6016-s  A6016-S.DAT  5914.0"
      ]
     },
     "execution_count": 3008,
     "metadata": {},
     "output_type": "execute_result"
    }
   ],
   "source": [
    "# By merging using 'left', we obtain 4905 correspondances \n",
    "df_merge = pd.merge(df_bigtable, df_dat, on='Name_modified', how='left', suffixes=('_big', '_dat'))\n",
    "nb_mismatch = df_merge[df_merge['Name_dat'].isna()].shape[0]\n",
    "nb_match = df_merge.shape[0] - nb_mismatch\n",
    "print(f'Le dataset contient {df_merge.shape[0]} valeurs dont {nb_match} correspondent aux fichiers dat.')\n",
    "print(f'Il reste {nb_mismatch} valeurs à matcher.')\n",
    "df_merge.head()"
   ]
  },
  {
   "cell_type": "markdown",
   "metadata": {},
   "source": [
    "# Matchmaking using families"
   ]
  },
  {
   "cell_type": "markdown",
   "metadata": {},
   "source": [
    "Plus tard, il faudrait ajouter une valeur qui indique à quel point on est sûr du matchmaking"
   ]
  },
  {
   "cell_type": "code",
   "execution_count": 3009,
   "metadata": {},
   "outputs": [
    {
     "data": {
      "text/plain": [
       "Family\n",
       "Gottingen        382\n",
       "Eppler           201\n",
       "Uncategorized    153\n",
       "Wortmann         112\n",
       "NASA              54\n",
       "Name: nb_na, dtype: int64"
      ]
     },
     "execution_count": 3009,
     "metadata": {},
     "output_type": "execute_result"
    }
   ],
   "source": [
    "# Count the number of missing values per family \n",
    "family = df_merge.groupby(['Family']).count()\n",
    "mask_family = (family['Name_big'] != family['Name_dat'])\n",
    "family_na = family[mask_family].copy()\n",
    "family_na['nb_na'] = family_na['Name_big'] - family_na['Size']\n",
    "# We are interested by the 5 families with the most of na\n",
    "family_na['nb_na'].sort_values(ascending=False).head(5)"
   ]
  },
  {
   "cell_type": "markdown",
   "metadata": {},
   "source": [
    "### **1. Create dataframes with wings left to match**"
   ]
  },
  {
   "cell_type": "code",
   "execution_count": 3010,
   "metadata": {},
   "outputs": [
    {
     "name": "stdout",
     "output_type": "stream",
     "text": [
      "Unmatched values left in the dat folder : (3448, 5)\n",
      "Unmatched values left in big table : (1419, 5)\n"
     ]
    }
   ],
   "source": [
    "# Create df_dat_left and df_big_left\n",
    "df_dat_left = pd.merge(df_bigtable, df_dat, on='Name_modified', how='right', suffixes=('_big', '_dat'))\n",
    "df_dat_left = df_dat_left[df_dat_left['Name_big'].isna()]\n",
    "print(f\"Unmatched values left in the dat folder : {df_dat_left.shape}\")\n",
    "df_big_left = df_merge[df_merge['Name_dat'].isna()].copy()\n",
    "print(f\"Unmatched values left in big table : {df_big_left.shape}\")\n",
    "\n",
    "# Create a new column for each df containing the first letter of each wing\n",
    "df_dat_left['First letter'] = [x[0] for x in df_dat_left['Name_modified'].values]\n",
    "df_big_left['First letter'] = [x[0] for x in df_big_left['Name_modified'].values]\n",
    "\n",
    "# Create a new column for each df with z copy of the modified name to further work on\n",
    "df_dat_left['Name_modified_by_family'] = df_dat_left['Name_modified'].copy()\n",
    "df_big_left['Name_modified_by_family'] = df_big_left['Name_modified'].copy()"
   ]
  },
  {
   "cell_type": "code",
   "execution_count": 3011,
   "metadata": {},
   "outputs": [],
   "source": [
    "# df_dat_left ----> ['Name_big', 'Family', 'Name_modified', 'Name_dat', 'Size', 'First letter', 'Name_modified_by_family']\n",
    "# Name_big and Family are NaN\n",
    "df_dat_left.drop(columns=['Name_big', 'Family'], inplace=True)\n",
    "# df_big_left ----> ['Name_big', 'Family', 'Name_modified', 'Name_dat', 'Size', 'First letter', 'Name_modified_by_family']\n",
    "# Name_dat and Size are NaN\n",
    "df_big_left.drop(columns=['Name_dat', 'Size'], inplace=True)"
   ]
  },
  {
   "cell_type": "markdown",
   "metadata": {},
   "source": [
    "### **2. Regex to match the family Yost,Eiffel,Eppeler**"
   ]
  },
  {
   "cell_type": "markdown",
   "metadata": {},
   "source": [
    "- Family yost : correspondance if deleting the spaces points and / from big e\n",
    "- Family eiffel : correspondance if deleting the spaces and content between parenthesis + special case for eiffel 10 (wright) - 1903 wright flyer airfoil\t\n",
    "- Family eppler : correspondance if replacing eppler by e and removing spaces"
   ]
  },
  {
   "cell_type": "code",
   "execution_count": 3012,
   "metadata": {},
   "outputs": [
    {
     "name": "stdout",
     "output_type": "stream",
     "text": [
      "Big table number of wings left beginning by e : (221, 5)\n",
      "Dat folder number of wings left beginning by e : (219, 5)\n",
      "Difference : 2\n"
     ]
    }
   ],
   "source": [
    "big_e = df_big_left[df_big_left['First letter'] == 'e']\n",
    "dat_e = df_dat_left[df_dat_left['First letter'] == 'e']\n",
    "print(f'Big table number of wings left beginning by e : {big_e.shape}')\n",
    "print(f'Dat folder number of wings left beginning by e : {dat_e.shape}')\n",
    "print(f'Difference : {big_e.shape[0] - dat_e.shape[0]}')"
   ]
  },
  {
   "cell_type": "code",
   "execution_count": 3013,
   "metadata": {},
   "outputs": [],
   "source": [
    "# Family yost\n",
    "big_e.loc[big_e['Family'] == 'Yost', 'Name_modified_by_family'] = big_e.loc[big_e['Family'] == 'Yost', 'Name_modified_by_family'].apply(lambda x : (re.sub(\"\\s\", \"\", str(x))))\n",
    "big_e.loc[big_e['Family'] == 'Yost', 'Name_modified_by_family'] = big_e.loc[big_e['Family'] == 'Yost', 'Name_modified_by_family'].apply(lambda x : (re.sub(\"\\.\", \"\", str(x))))\n",
    "big_e.loc[big_e['Family'] == 'Yost', 'Name_modified_by_family'] = big_e.loc[big_e['Family'] == 'Yost', 'Name_modified_by_family'].apply(lambda x : (re.sub(\"/\", \"\", str(x))))\n",
    "\n",
    "# Family eiffel\n",
    "big_e.loc[big_e['Family'] == 'Eiffel', 'Name_modified_by_family'] = big_e.loc[big_e['Family'] == 'Eiffel', 'Name_modified_by_family'].apply(lambda x : (re.sub('\\(.*?\\)', \"\", str(x))))\n",
    "big_e.loc[big_e['Family'] == 'Eiffel', 'Name_modified_by_family'] = big_e.loc[big_e['Family'] == 'Eiffel', 'Name_modified_by_family'].apply(lambda x : (re.sub(\"\\s\", \"\", str(x))))\n",
    "big_e.loc[big_e['Family'] == 'Eiffel', 'Name_modified_by_family'] = big_e.loc[big_e['Family'] == 'Eiffel', 'Name_modified_by_family'].apply(lambda x : (re.split(\"-\", str(x)))[0])\n",
    "\n",
    "# Family eppler\n",
    "big_e.loc[big_e['Family'] == 'Eppler', 'Name_modified_by_family'] = big_e.loc[big_e['Family'] == 'Eppler', 'Name_modified_by_family'].apply(lambda x : (re.sub(\"eppler\", \"e\", str(x))))\n",
    "big_e.loc[big_e['Family'] == 'Eppler', 'Name_modified_by_family'] = big_e.loc[big_e['Family'] == 'Eppler', 'Name_modified_by_family'].apply(lambda x : (re.sub(\"\\s\", \"\", str(x))))"
   ]
  },
  {
   "cell_type": "code",
   "execution_count": 3014,
   "metadata": {},
   "outputs": [
    {
     "name": "stdout",
     "output_type": "stream",
     "text": [
      "Index(['Name_big', 'Family', 'Name_modified', 'First letter',\n",
      "       'Name_modified_by_family_left', 'Name_modified_by_family_big'],\n",
      "      dtype='object')\n"
     ]
    }
   ],
   "source": [
    "# Incorporating the new name found (Name_modified_by_family) into the dataset with the bigtable wings left to match\n",
    "df_big_left = pd.merge(df_big_left, big_e[['Name_big', 'Name_modified_by_family']], on='Name_big', how='left', suffixes=('_left', '_big'))\n",
    "print(df_big_left.columns)\n",
    "#df_big_left.drop(columns=['Name_modified_by_family_big'], inplace=True)\n",
    "df_big_left.rename(columns={'Name_modified_by_family_left':'Name_modified_by_family_original', 'Name_modified_by_family_big':'Name_modified_by_family'}, inplace=True)"
   ]
  },
  {
   "cell_type": "code",
   "execution_count": 3015,
   "metadata": {},
   "outputs": [
    {
     "data": {
      "text/html": [
       "<div>\n",
       "<style scoped>\n",
       "    .dataframe tbody tr th:only-of-type {\n",
       "        vertical-align: middle;\n",
       "    }\n",
       "\n",
       "    .dataframe tbody tr th {\n",
       "        vertical-align: top;\n",
       "    }\n",
       "\n",
       "    .dataframe thead th {\n",
       "        text-align: right;\n",
       "    }\n",
       "</style>\n",
       "<table border=\"1\" class=\"dataframe\">\n",
       "  <thead>\n",
       "    <tr style=\"text-align: right;\">\n",
       "      <th></th>\n",
       "      <th>Name_big</th>\n",
       "      <th>Family</th>\n",
       "      <th>Name_modified</th>\n",
       "      <th>First letter</th>\n",
       "      <th>Name_modified_by_family_original</th>\n",
       "      <th>Name_modified_by_family</th>\n",
       "    </tr>\n",
       "  </thead>\n",
       "  <tbody>\n",
       "    <tr>\n",
       "      <th>0</th>\n",
       "      <td>63A108 MOD C</td>\n",
       "      <td>NASA</td>\n",
       "      <td>63a108 mod c</td>\n",
       "      <td>6</td>\n",
       "      <td>63a108 mod c</td>\n",
       "      <td>NaN</td>\n",
       "    </tr>\n",
       "    <tr>\n",
       "      <th>1</th>\n",
       "      <td>A18 (SMOOTHED)</td>\n",
       "      <td>Uncategorized</td>\n",
       "      <td>a18 (smoothed)</td>\n",
       "      <td>a</td>\n",
       "      <td>a18 (smoothed)</td>\n",
       "      <td>NaN</td>\n",
       "    </tr>\n",
       "    <tr>\n",
       "      <th>2</th>\n",
       "      <td>AG03 (FLAT AFT BOTTOM)</td>\n",
       "      <td>Drela</td>\n",
       "      <td>ag03 (flat aft bottom)</td>\n",
       "      <td>a</td>\n",
       "      <td>ag03 (flat aft bottom)</td>\n",
       "      <td>NaN</td>\n",
       "    </tr>\n",
       "    <tr>\n",
       "      <th>3</th>\n",
       "      <td>AG44CT -02F</td>\n",
       "      <td>Drela</td>\n",
       "      <td>ag44ct -02f</td>\n",
       "      <td>a</td>\n",
       "      <td>ag44ct -02f</td>\n",
       "      <td>NaN</td>\n",
       "    </tr>\n",
       "    <tr>\n",
       "      <th>4</th>\n",
       "      <td>AG455CT -02F ROT.</td>\n",
       "      <td>Drela</td>\n",
       "      <td>ag455ct -02f rot.</td>\n",
       "      <td>a</td>\n",
       "      <td>ag455ct -02f rot.</td>\n",
       "      <td>NaN</td>\n",
       "    </tr>\n",
       "  </tbody>\n",
       "</table>\n",
       "</div>"
      ],
      "text/plain": [
       "                 Name_big         Family           Name_modified First letter  \\\n",
       "0            63A108 MOD C           NASA            63a108 mod c            6   \n",
       "1          A18 (SMOOTHED)  Uncategorized          a18 (smoothed)            a   \n",
       "2  AG03 (FLAT AFT BOTTOM)          Drela  ag03 (flat aft bottom)            a   \n",
       "3             AG44CT -02F          Drela             ag44ct -02f            a   \n",
       "4       AG455CT -02F ROT.          Drela       ag455ct -02f rot.            a   \n",
       "\n",
       "  Name_modified_by_family_original Name_modified_by_family  \n",
       "0                     63a108 mod c                     NaN  \n",
       "1                   a18 (smoothed)                     NaN  \n",
       "2           ag03 (flat aft bottom)                     NaN  \n",
       "3                      ag44ct -02f                     NaN  \n",
       "4                ag455ct -02f rot.                     NaN  "
      ]
     },
     "execution_count": 3015,
     "metadata": {},
     "output_type": "execute_result"
    }
   ],
   "source": [
    "df_big_left.head()"
   ]
  },
  {
   "cell_type": "code",
   "execution_count": 3016,
   "metadata": {},
   "outputs": [
    {
     "name": "stdout",
     "output_type": "stream",
     "text": [
      "(1419, 10)\n",
      "Le dataset contient 1419 valeurs dont 199 correspondent aux fichiers dat.\n",
      "Il reste 1220 valeurs à matcher.\n"
     ]
    },
    {
     "data": {
      "text/html": [
       "<div>\n",
       "<style scoped>\n",
       "    .dataframe tbody tr th:only-of-type {\n",
       "        vertical-align: middle;\n",
       "    }\n",
       "\n",
       "    .dataframe tbody tr th {\n",
       "        vertical-align: top;\n",
       "    }\n",
       "\n",
       "    .dataframe thead th {\n",
       "        text-align: right;\n",
       "    }\n",
       "</style>\n",
       "<table border=\"1\" class=\"dataframe\">\n",
       "  <thead>\n",
       "    <tr style=\"text-align: right;\">\n",
       "      <th></th>\n",
       "      <th>Name_big</th>\n",
       "      <th>Family</th>\n",
       "      <th>Name_modified_big</th>\n",
       "      <th>First letter_big</th>\n",
       "      <th>Name_modified_by_family_original</th>\n",
       "      <th>Name_modified_by_family</th>\n",
       "      <th>Name_modified_dat</th>\n",
       "      <th>Name_dat</th>\n",
       "      <th>Size</th>\n",
       "      <th>First letter_dat</th>\n",
       "    </tr>\n",
       "  </thead>\n",
       "  <tbody>\n",
       "    <tr>\n",
       "      <th>0</th>\n",
       "      <td>63A108 MOD C</td>\n",
       "      <td>NASA</td>\n",
       "      <td>63a108 mod c</td>\n",
       "      <td>6</td>\n",
       "      <td>63a108 mod c</td>\n",
       "      <td>NaN</td>\n",
       "      <td>NaN</td>\n",
       "      <td>NaN</td>\n",
       "      <td>NaN</td>\n",
       "      <td>NaN</td>\n",
       "    </tr>\n",
       "    <tr>\n",
       "      <th>1</th>\n",
       "      <td>A18 (SMOOTHED)</td>\n",
       "      <td>Uncategorized</td>\n",
       "      <td>a18 (smoothed)</td>\n",
       "      <td>a</td>\n",
       "      <td>a18 (smoothed)</td>\n",
       "      <td>NaN</td>\n",
       "      <td>NaN</td>\n",
       "      <td>NaN</td>\n",
       "      <td>NaN</td>\n",
       "      <td>NaN</td>\n",
       "    </tr>\n",
       "    <tr>\n",
       "      <th>2</th>\n",
       "      <td>AG03 (FLAT AFT BOTTOM)</td>\n",
       "      <td>Drela</td>\n",
       "      <td>ag03 (flat aft bottom)</td>\n",
       "      <td>a</td>\n",
       "      <td>ag03 (flat aft bottom)</td>\n",
       "      <td>NaN</td>\n",
       "      <td>NaN</td>\n",
       "      <td>NaN</td>\n",
       "      <td>NaN</td>\n",
       "      <td>NaN</td>\n",
       "    </tr>\n",
       "    <tr>\n",
       "      <th>3</th>\n",
       "      <td>AG44CT -02F</td>\n",
       "      <td>Drela</td>\n",
       "      <td>ag44ct -02f</td>\n",
       "      <td>a</td>\n",
       "      <td>ag44ct -02f</td>\n",
       "      <td>NaN</td>\n",
       "      <td>NaN</td>\n",
       "      <td>NaN</td>\n",
       "      <td>NaN</td>\n",
       "      <td>NaN</td>\n",
       "    </tr>\n",
       "    <tr>\n",
       "      <th>4</th>\n",
       "      <td>AG455CT -02F ROT.</td>\n",
       "      <td>Drela</td>\n",
       "      <td>ag455ct -02f rot.</td>\n",
       "      <td>a</td>\n",
       "      <td>ag455ct -02f rot.</td>\n",
       "      <td>NaN</td>\n",
       "      <td>NaN</td>\n",
       "      <td>NaN</td>\n",
       "      <td>NaN</td>\n",
       "      <td>NaN</td>\n",
       "    </tr>\n",
       "  </tbody>\n",
       "</table>\n",
       "</div>"
      ],
      "text/plain": [
       "                 Name_big         Family       Name_modified_big  \\\n",
       "0            63A108 MOD C           NASA            63a108 mod c   \n",
       "1          A18 (SMOOTHED)  Uncategorized          a18 (smoothed)   \n",
       "2  AG03 (FLAT AFT BOTTOM)          Drela  ag03 (flat aft bottom)   \n",
       "3             AG44CT -02F          Drela             ag44ct -02f   \n",
       "4       AG455CT -02F ROT.          Drela       ag455ct -02f rot.   \n",
       "\n",
       "  First letter_big Name_modified_by_family_original Name_modified_by_family  \\\n",
       "0                6                     63a108 mod c                     NaN   \n",
       "1                a                   a18 (smoothed)                     NaN   \n",
       "2                a           ag03 (flat aft bottom)                     NaN   \n",
       "3                a                      ag44ct -02f                     NaN   \n",
       "4                a                ag455ct -02f rot.                     NaN   \n",
       "\n",
       "  Name_modified_dat Name_dat  Size First letter_dat  \n",
       "0               NaN      NaN   NaN              NaN  \n",
       "1               NaN      NaN   NaN              NaN  \n",
       "2               NaN      NaN   NaN              NaN  \n",
       "3               NaN      NaN   NaN              NaN  \n",
       "4               NaN      NaN   NaN              NaN  "
      ]
     },
     "execution_count": 3016,
     "metadata": {},
     "output_type": "execute_result"
    }
   ],
   "source": [
    "# By merging using 'left', we obtain 4905 correspondances \n",
    "df_merge_e = pd.merge(df_big_left, df_dat_left, on='Name_modified_by_family', how='left', suffixes=('_big', '_dat'))\n",
    "print(df_merge_e.shape)\n",
    "nb_mismatch = df_merge_e[df_merge_e['Name_dat'].isna()].shape[0]\n",
    "nb_match = df_merge_e.shape[0] - nb_mismatch\n",
    "print(f'Le dataset contient {df_merge_e.shape[0]} valeurs dont {nb_match} correspondent aux fichiers dat.')\n",
    "print(f'Il reste {nb_mismatch} valeurs à matcher.')\n",
    "df_merge_e.head()"
   ]
  },
  {
   "cell_type": "markdown",
   "metadata": {},
   "source": [
    "### **3. Regex to match the family Gottingen**"
   ]
  },
  {
   "cell_type": "code",
   "execution_count": 3017,
   "metadata": {},
   "outputs": [
    {
     "name": "stdout",
     "output_type": "stream",
     "text": [
      "Unmatched values left in the dat folder : (3249, 5)\n",
      "Unmatched values left in big table : (1220, 6)\n"
     ]
    }
   ],
   "source": [
    "# Create df_dat_left and df_big_left\n",
    "df_dat_left = pd.merge(df_merge_e, df_dat_left, on='Name_modified_by_family', how='right', suffixes=('_big', '_dat'))\n",
    "df_dat_left = df_dat_left[df_dat_left['Name_big'].isna()]\n",
    "df_dat_left.dropna(axis=1, how='all', inplace=True)\n",
    "df_dat_left = df_dat_left.set_axis([re.sub('_dat', \"\", str(col)) for col in df_dat_left.columns], axis=1)\n",
    "print(f\"Unmatched values left in the dat folder : {df_dat_left.shape}\")\n",
    "df_big_left = df_merge_e[df_merge_e['Name_dat'].isna()].copy()\n",
    "df_big_left.dropna(axis=1, how='all', inplace=True)\n",
    "df_big_left = df_big_left.set_axis([re.sub('_big', \"\", str(col)) for col in df_big_left.columns], axis=1)\n",
    "print(f\"Unmatched values left in big table : {df_big_left.shape}\")"
   ]
  },
  {
   "cell_type": "code",
   "execution_count": 3018,
   "metadata": {},
   "outputs": [
    {
     "name": "stdout",
     "output_type": "stream",
     "text": [
      "Big table number of wings left beginning by g : (406, 6)\n",
      "Dat folder number of wings left beginning by g : (408, 5)\n",
      "Difference : -2\n"
     ]
    }
   ],
   "source": [
    "big_g = df_big_left[df_big_left['First letter'] == 'g']\n",
    "dat_g = df_dat_left[df_dat_left['First letter'] == 'g']\n",
    "print(f'Big table number of wings left beginning by g : {big_g.shape}')\n",
    "print(f'Dat folder number of wings left beginning by g : {dat_g.shape}')\n",
    "print(f'Difference : {big_g.shape[0] - dat_g.shape[0]}')"
   ]
  },
  {
   "cell_type": "code",
   "execution_count": 3019,
   "metadata": {},
   "outputs": [],
   "source": [
    "big_g = big_g.copy()"
   ]
  },
  {
   "cell_type": "code",
   "execution_count": 3020,
   "metadata": {},
   "outputs": [],
   "source": [
    "# Family exceptions beginning by 'g'\n",
    "big_g.loc[big_g['Name_modified'] == 'gu25-5(11)8', 'Name_modified_by_family'] = 'gu255118'\n",
    "big_g.loc[big_g['Name_modified'] == 'gs-1', 'Name_modified_by_family'] = 'gs1'\n",
    "big_g.loc[big_g['Name_modified'] == 'griffith 30% suction airfoil', 'Name_modified_by_family'] = 'griffith30symsuction'\n",
    "big_g.loc[big_g['Name_modified'] == 'goe 167 (v.karman prop.2)', 'Name_modified_by_family'] = 'goe167'\n",
    "big_g.loc[big_g['Name_modified'] == 'glenn martin 2', 'Name_modified_by_family'] = 'glennmartin2'\n",
    "big_g.loc[big_g['Name_modified'] == 'glenn martin 3', 'Name_modified_by_family'] = 'glennmartin3'\n",
    "big_g.loc[big_g['Name_modified'] == 'glenn martin 4', 'Name_modified_by_family'] = 'glennmartin4'\n",
    "# Family Gottingen\n",
    "big_g.loc[big_g['Family'] == 'Gottingen', 'Name_modified_by_family'] = big_g.loc[big_g['Family'] == 'Gottingen', 'Name_modified'].apply(lambda x : (re.sub(\"\\s\", \"\", str(x))))\n",
    "big_g.loc[big_g['Family'] == 'Gottingen', 'Name_modified_by_family'] = big_g.loc[big_g['Family'] == 'Gottingen', 'Name_modified_by_family'].apply(lambda x : (re.sub('\\(.*?\\)', \"\", str(x))))"
   ]
  },
  {
   "cell_type": "code",
   "execution_count": 3021,
   "metadata": {},
   "outputs": [
    {
     "data": {
      "text/plain": [
       "Index(['Name', 'Family', 'Name_modified', 'First letter',\n",
       "       'Name_modified_by_family_original', 'Name_modified_by_family'],\n",
       "      dtype='object')"
      ]
     },
     "execution_count": 3021,
     "metadata": {},
     "output_type": "execute_result"
    }
   ],
   "source": [
    "big_g.columns"
   ]
  },
  {
   "cell_type": "code",
   "execution_count": 3022,
   "metadata": {},
   "outputs": [
    {
     "data": {
      "text/plain": [
       "Index(['Name', 'Family', 'Name_modified', 'First letter',\n",
       "       'Name_modified_by_family_original', 'Name_modified_by_family'],\n",
       "      dtype='object')"
      ]
     },
     "execution_count": 3022,
     "metadata": {},
     "output_type": "execute_result"
    }
   ],
   "source": [
    "df_big_left.columns"
   ]
  },
  {
   "cell_type": "code",
   "execution_count": 3023,
   "metadata": {},
   "outputs": [
    {
     "name": "stdout",
     "output_type": "stream",
     "text": [
      "Index(['Name', 'Family', 'Name_modified', 'First letter',\n",
      "       'Name_modified_by_family_original', 'Name_modified_by_family_left',\n",
      "       'Name_modified_by_family_big'],\n",
      "      dtype='object')\n"
     ]
    }
   ],
   "source": [
    "# Incorporating the new name found (Name_modified_by_family) into the dataset with the bigtable wings left to match\n",
    "df_big_left = pd.merge(df_big_left, big_g[['Name', 'Name_modified_by_family']], on='Name', how='left', suffixes=('_left', '_big'))\n",
    "print(df_big_left.columns)\n",
    "df_big_left.rename(columns={'Name_modified_by_family_left':'Name_modified_by_family_e', 'Name_modified_by_family_big':'Name_modified_by_family'}, inplace=True)"
   ]
  },
  {
   "cell_type": "code",
   "execution_count": 3024,
   "metadata": {},
   "outputs": [
    {
     "name": "stdout",
     "output_type": "stream",
     "text": [
      "(1220, 11)\n",
      "Le dataset contient 1220 valeurs dont 379 correspondent aux fichiers dat.\n",
      "Il reste 841 valeurs à matcher.\n"
     ]
    },
    {
     "data": {
      "text/html": [
       "<div>\n",
       "<style scoped>\n",
       "    .dataframe tbody tr th:only-of-type {\n",
       "        vertical-align: middle;\n",
       "    }\n",
       "\n",
       "    .dataframe tbody tr th {\n",
       "        vertical-align: top;\n",
       "    }\n",
       "\n",
       "    .dataframe thead th {\n",
       "        text-align: right;\n",
       "    }\n",
       "</style>\n",
       "<table border=\"1\" class=\"dataframe\">\n",
       "  <thead>\n",
       "    <tr style=\"text-align: right;\">\n",
       "      <th></th>\n",
       "      <th>Name_big</th>\n",
       "      <th>Family</th>\n",
       "      <th>Name_modified_big</th>\n",
       "      <th>First letter_big</th>\n",
       "      <th>Name_modified_by_family_original</th>\n",
       "      <th>Name_modified_by_family_e</th>\n",
       "      <th>Name_modified_by_family</th>\n",
       "      <th>Name_modified_dat</th>\n",
       "      <th>Name_dat</th>\n",
       "      <th>Size</th>\n",
       "      <th>First letter_dat</th>\n",
       "    </tr>\n",
       "  </thead>\n",
       "  <tbody>\n",
       "    <tr>\n",
       "      <th>0</th>\n",
       "      <td>63A108 MOD C</td>\n",
       "      <td>NASA</td>\n",
       "      <td>63a108 mod c</td>\n",
       "      <td>6</td>\n",
       "      <td>63a108 mod c</td>\n",
       "      <td>NaN</td>\n",
       "      <td>NaN</td>\n",
       "      <td>NaN</td>\n",
       "      <td>NaN</td>\n",
       "      <td>NaN</td>\n",
       "      <td>NaN</td>\n",
       "    </tr>\n",
       "    <tr>\n",
       "      <th>1</th>\n",
       "      <td>A18 (SMOOTHED)</td>\n",
       "      <td>Uncategorized</td>\n",
       "      <td>a18 (smoothed)</td>\n",
       "      <td>a</td>\n",
       "      <td>a18 (smoothed)</td>\n",
       "      <td>NaN</td>\n",
       "      <td>NaN</td>\n",
       "      <td>NaN</td>\n",
       "      <td>NaN</td>\n",
       "      <td>NaN</td>\n",
       "      <td>NaN</td>\n",
       "    </tr>\n",
       "    <tr>\n",
       "      <th>2</th>\n",
       "      <td>AG03 (FLAT AFT BOTTOM)</td>\n",
       "      <td>Drela</td>\n",
       "      <td>ag03 (flat aft bottom)</td>\n",
       "      <td>a</td>\n",
       "      <td>ag03 (flat aft bottom)</td>\n",
       "      <td>NaN</td>\n",
       "      <td>NaN</td>\n",
       "      <td>NaN</td>\n",
       "      <td>NaN</td>\n",
       "      <td>NaN</td>\n",
       "      <td>NaN</td>\n",
       "    </tr>\n",
       "    <tr>\n",
       "      <th>3</th>\n",
       "      <td>AG44CT -02F</td>\n",
       "      <td>Drela</td>\n",
       "      <td>ag44ct -02f</td>\n",
       "      <td>a</td>\n",
       "      <td>ag44ct -02f</td>\n",
       "      <td>NaN</td>\n",
       "      <td>NaN</td>\n",
       "      <td>NaN</td>\n",
       "      <td>NaN</td>\n",
       "      <td>NaN</td>\n",
       "      <td>NaN</td>\n",
       "    </tr>\n",
       "    <tr>\n",
       "      <th>4</th>\n",
       "      <td>AG455CT -02F ROT.</td>\n",
       "      <td>Drela</td>\n",
       "      <td>ag455ct -02f rot.</td>\n",
       "      <td>a</td>\n",
       "      <td>ag455ct -02f rot.</td>\n",
       "      <td>NaN</td>\n",
       "      <td>NaN</td>\n",
       "      <td>NaN</td>\n",
       "      <td>NaN</td>\n",
       "      <td>NaN</td>\n",
       "      <td>NaN</td>\n",
       "    </tr>\n",
       "  </tbody>\n",
       "</table>\n",
       "</div>"
      ],
      "text/plain": [
       "                 Name_big         Family       Name_modified_big  \\\n",
       "0            63A108 MOD C           NASA            63a108 mod c   \n",
       "1          A18 (SMOOTHED)  Uncategorized          a18 (smoothed)   \n",
       "2  AG03 (FLAT AFT BOTTOM)          Drela  ag03 (flat aft bottom)   \n",
       "3             AG44CT -02F          Drela             ag44ct -02f   \n",
       "4       AG455CT -02F ROT.          Drela       ag455ct -02f rot.   \n",
       "\n",
       "  First letter_big Name_modified_by_family_original Name_modified_by_family_e  \\\n",
       "0                6                     63a108 mod c                       NaN   \n",
       "1                a                   a18 (smoothed)                       NaN   \n",
       "2                a           ag03 (flat aft bottom)                       NaN   \n",
       "3                a                      ag44ct -02f                       NaN   \n",
       "4                a                ag455ct -02f rot.                       NaN   \n",
       "\n",
       "  Name_modified_by_family Name_modified_dat Name_dat  Size First letter_dat  \n",
       "0                     NaN               NaN      NaN   NaN              NaN  \n",
       "1                     NaN               NaN      NaN   NaN              NaN  \n",
       "2                     NaN               NaN      NaN   NaN              NaN  \n",
       "3                     NaN               NaN      NaN   NaN              NaN  \n",
       "4                     NaN               NaN      NaN   NaN              NaN  "
      ]
     },
     "execution_count": 3024,
     "metadata": {},
     "output_type": "execute_result"
    }
   ],
   "source": [
    "# By merging using 'inner', we obtain xx correspondances \n",
    "df_merge_g = pd.merge(df_big_left, df_dat_left, on='Name_modified_by_family', how='left', suffixes=('_big', '_dat'))\n",
    "df_merge_g.dropna(axis=1, how='all', inplace=True)\n",
    "print(df_merge_g.shape)\n",
    "nb_mismatch = df_merge_g[df_merge_g['Name_dat'].isna()].shape[0]\n",
    "nb_match = df_merge_g.shape[0] - nb_mismatch\n",
    "print(f'Le dataset contient {df_merge_g.shape[0]} valeurs dont {nb_match} correspondent aux fichiers dat.')\n",
    "print(f'Il reste {nb_mismatch} valeurs à matcher.')\n",
    "df_merge_g.head()"
   ]
  },
  {
   "cell_type": "markdown",
   "metadata": {},
   "source": [
    "### **4. Autre famille**"
   ]
  },
  {
   "cell_type": "code",
   "execution_count": 3031,
   "metadata": {},
   "outputs": [
    {
     "name": "stdout",
     "output_type": "stream",
     "text": [
      "Unmatched values left in the dat folder : (2870, 5)\n",
      "Unmatched values left in big table : (841, 7)\n"
     ]
    }
   ],
   "source": [
    "# Create df_dat_left and df_big_left\n",
    "df_dat_left = pd.merge(df_merge_g, df_dat_left, on='Name_modified_by_family', how='right', suffixes=('_big', '_dat'))\n",
    "df_dat_left = df_dat_left[df_dat_left['Name_big'].isna()]\n",
    "df_dat_left.dropna(axis=1, how='all', inplace=True)\n",
    "df_dat_left = df_dat_left.set_axis([re.sub('_dat', \"\", str(col)) for col in df_dat_left.columns], axis=1)\n",
    "print(f\"Unmatched values left in the dat folder : {df_dat_left.shape}\")\n",
    "df_big_left = df_merge_g[df_merge_g['Name_dat'].isna()].copy()\n",
    "df_big_left.dropna(axis=1, how='all', inplace=True)\n",
    "df_big_left = df_big_left.set_axis([re.sub('_big', \"\", str(col)) for col in df_big_left.columns], axis=1)\n",
    "print(f\"Unmatched values left in big table : {df_big_left.shape}\")"
   ]
  },
  {
   "cell_type": "code",
   "execution_count": null,
   "metadata": {},
   "outputs": [],
   "source": [
    "# df_big_left3.dropna(axis=1, how='all', inplace=True)\n",
    "# df_dat_left3.dropna(axis=1, how='all', inplace=True)\n",
    "# big_w = df_big_left3[df_big_left3['First letter_big2'] == 'w']\n",
    "# dat_w = df_dat_left3[df_dat_left3['First letter'] == 'w']\n",
    "# print(f'Big table number of wings left beginning by g : {big_w.shape}')\n",
    "# print(f'Dat folder number of wings left beginning by g : {dat_w.shape}')\n",
    "# print(f'Difference : {big_w.shape[0] - dat_w.shape[0]}')"
   ]
  }
 ],
 "metadata": {
  "kernelspec": {
   "display_name": "base",
   "language": "python",
   "name": "python3"
  },
  "language_info": {
   "codemirror_mode": {
    "name": "ipython",
    "version": 3
   },
   "file_extension": ".py",
   "mimetype": "text/x-python",
   "name": "python",
   "nbconvert_exporter": "python",
   "pygments_lexer": "ipython3",
   "version": "3.11.5"
  }
 },
 "nbformat": 4,
 "nbformat_minor": 2
}
