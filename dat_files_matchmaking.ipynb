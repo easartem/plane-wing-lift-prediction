{
 "cells": [
  {
   "cell_type": "code",
   "execution_count": 139,
   "metadata": {},
   "outputs": [],
   "source": [
    "import pandas as pd\n",
    "import numpy as np\n",
    "import regex as re"
   ]
  },
  {
   "cell_type": "code",
   "execution_count": null,
   "metadata": {},
   "outputs": [],
   "source": [
    "# import pandas as pd\n",
    "# import json\n",
    "\n",
    "# with open('ailes_avion.json') as f:\n",
    "#     data = json.load(f)\n",
    "\n",
    "# # Use pd.json_normalize to convert the JSON to a DataFrame\n",
    "# df = pd.json_normalize(data)\n",
    "\n",
    "# # Rename the columns for clarity\n",
    "# df.columns = ['Name', 'Link', 'Family', 'Thickness(%)', 'x-Location_of_Max_Thk(%)', 'Camber(%)', 'Data_Sources', 'Cl_Max', 'Cl/Cd_Max', 'Cd@Cl=0.1', 'Cd@Cl=0.4', 'Cd@Cl=0.6']\n",
    "\n",
    "# # Create a csv file\n",
    "# df.to_csv(\"ailes_avion.csv\", index=False)\n",
    "# # Display the DataFrame\n",
    "# df.head(5)"
   ]
  },
  {
   "cell_type": "markdown",
   "metadata": {},
   "source": [
    "# Get CSV"
   ]
  },
  {
   "cell_type": "code",
   "execution_count": 140,
   "metadata": {},
   "outputs": [],
   "source": [
    "pd.set_option('display.max_row', 8353 )"
   ]
  },
  {
   "cell_type": "code",
   "execution_count": 141,
   "metadata": {},
   "outputs": [
    {
     "name": "stdout",
     "output_type": "stream",
     "text": [
      "(8353, 2)\n"
     ]
    },
    {
     "data": {
      "text/html": [
       "<div>\n",
       "<style scoped>\n",
       "    .dataframe tbody tr th:only-of-type {\n",
       "        vertical-align: middle;\n",
       "    }\n",
       "\n",
       "    .dataframe tbody tr th {\n",
       "        vertical-align: top;\n",
       "    }\n",
       "\n",
       "    .dataframe thead th {\n",
       "        text-align: right;\n",
       "    }\n",
       "</style>\n",
       "<table border=\"1\" class=\"dataframe\">\n",
       "  <thead>\n",
       "    <tr style=\"text-align: right;\">\n",
       "      <th></th>\n",
       "      <th>Name</th>\n",
       "      <th>Size</th>\n",
       "    </tr>\n",
       "  </thead>\n",
       "  <tbody>\n",
       "    <tr>\n",
       "      <th>0</th>\n",
       "      <td>a18.DAT</td>\n",
       "      <td>945</td>\n",
       "    </tr>\n",
       "    <tr>\n",
       "      <th>1</th>\n",
       "      <td>a18sm.DAT</td>\n",
       "      <td>1795</td>\n",
       "    </tr>\n",
       "    <tr>\n",
       "      <th>2</th>\n",
       "      <td>A6014-S.DAT</td>\n",
       "      <td>6116</td>\n",
       "    </tr>\n",
       "    <tr>\n",
       "      <th>3</th>\n",
       "      <td>A6016-S.DAT</td>\n",
       "      <td>5914</td>\n",
       "    </tr>\n",
       "    <tr>\n",
       "      <th>4</th>\n",
       "      <td>A6018-S.DAT</td>\n",
       "      <td>5889</td>\n",
       "    </tr>\n",
       "  </tbody>\n",
       "</table>\n",
       "</div>"
      ],
      "text/plain": [
       "          Name  Size\n",
       "0      a18.DAT   945\n",
       "1    a18sm.DAT  1795\n",
       "2  A6014-S.DAT  6116\n",
       "3  A6016-S.DAT  5914\n",
       "4  A6018-S.DAT  5889"
      ]
     },
     "execution_count": 141,
     "metadata": {},
     "output_type": "execute_result"
    }
   ],
   "source": [
    "df_dat = pd.read_csv('dat_files_index.csv', usecols=('name', 'size'))\n",
    "df_dat.rename(columns={'name':'Name', 'size':'Size'}, inplace=True)\n",
    "print(df_dat.shape)\n",
    "df_dat.head()"
   ]
  },
  {
   "cell_type": "code",
   "execution_count": 142,
   "metadata": {},
   "outputs": [
    {
     "name": "stdout",
     "output_type": "stream",
     "text": [
      "Nombre de doublons dans la bigtable : 0\n",
      "[]\n"
     ]
    }
   ],
   "source": [
    "# Checking if the dataset contains duplicates\n",
    "doublon_datfile = df_dat['Name'].value_counts().index[df_dat['Name'].value_counts().values > 1]\n",
    "print(f'Nombre de doublons dans la bigtable : {len(doublon_datfile)}')\n",
    "print([i for i in doublon_datfile])"
   ]
  },
  {
   "cell_type": "code",
   "execution_count": 143,
   "metadata": {},
   "outputs": [
    {
     "name": "stdout",
     "output_type": "stream",
     "text": [
      "(6324, 2)\n"
     ]
    },
    {
     "data": {
      "text/html": [
       "<div>\n",
       "<style scoped>\n",
       "    .dataframe tbody tr th:only-of-type {\n",
       "        vertical-align: middle;\n",
       "    }\n",
       "\n",
       "    .dataframe tbody tr th {\n",
       "        vertical-align: top;\n",
       "    }\n",
       "\n",
       "    .dataframe thead th {\n",
       "        text-align: right;\n",
       "    }\n",
       "</style>\n",
       "<table border=\"1\" class=\"dataframe\">\n",
       "  <thead>\n",
       "    <tr style=\"text-align: right;\">\n",
       "      <th></th>\n",
       "      <th>Name</th>\n",
       "      <th>Family</th>\n",
       "    </tr>\n",
       "  </thead>\n",
       "  <tbody>\n",
       "    <tr>\n",
       "      <th>0</th>\n",
       "      <td>63A108 MOD C</td>\n",
       "      <td>NASA</td>\n",
       "    </tr>\n",
       "    <tr>\n",
       "      <th>1</th>\n",
       "      <td>A18</td>\n",
       "      <td>Uncategorized</td>\n",
       "    </tr>\n",
       "    <tr>\n",
       "      <th>2</th>\n",
       "      <td>A18 (SMOOTHED)</td>\n",
       "      <td>Uncategorized</td>\n",
       "    </tr>\n",
       "    <tr>\n",
       "      <th>3</th>\n",
       "      <td>A6014-S</td>\n",
       "      <td>Ayers</td>\n",
       "    </tr>\n",
       "    <tr>\n",
       "      <th>4</th>\n",
       "      <td>A6016-S</td>\n",
       "      <td>Ayers</td>\n",
       "    </tr>\n",
       "  </tbody>\n",
       "</table>\n",
       "</div>"
      ],
      "text/plain": [
       "             Name         Family\n",
       "0    63A108 MOD C           NASA\n",
       "1             A18  Uncategorized\n",
       "2  A18 (SMOOTHED)  Uncategorized\n",
       "3         A6014-S          Ayers\n",
       "4         A6016-S          Ayers"
      ]
     },
     "execution_count": 143,
     "metadata": {},
     "output_type": "execute_result"
    }
   ],
   "source": [
    "df_bigtable = pd.read_csv('data/ailes_avion.csv', usecols=('Name', 'Family'))\n",
    "print(df_bigtable.shape)\n",
    "df_bigtable.head()"
   ]
  },
  {
   "cell_type": "code",
   "execution_count": 144,
   "metadata": {},
   "outputs": [
    {
     "name": "stdout",
     "output_type": "stream",
     "text": [
      "Nombre de doublons dans la bigtable : 2\n",
      "['FX 66-17AII-182', 'BOEING 737 MIDSPAN']\n"
     ]
    }
   ],
   "source": [
    "# Checking if the dataset contains duplicates\n",
    "doublon_bigtable = df_bigtable['Name'].value_counts().index[df_bigtable['Name'].value_counts().values > 1]\n",
    "print(f'Nombre de doublons dans la bigtable : {len(doublon_bigtable)}')\n",
    "print([i for i in doublon_bigtable])"
   ]
  },
  {
   "cell_type": "markdown",
   "metadata": {},
   "source": [
    "# Basic Regex and merge"
   ]
  },
  {
   "cell_type": "code",
   "execution_count": 145,
   "metadata": {},
   "outputs": [],
   "source": [
    "# Create a column Name_modified with all names in lowercase and without the .DAT ending \n",
    "df_dat['Name_modified'] =  df_dat['Name'].apply(lambda x : (re.split(\".DAT$\", str(x)))[0])\n",
    "df_dat['Name_modified'] = df_dat['Name_modified'].apply(lambda x : str(x).lower())\n",
    "# Create a column Name_modified with all names in lowercase\n",
    "df_bigtable['Name_modified'] = df_bigtable['Name'].apply(lambda x : str(x).lower())"
   ]
  },
  {
   "cell_type": "code",
   "execution_count": 146,
   "metadata": {},
   "outputs": [],
   "source": [
    "# Manual affectation of the duplicates after verification\n",
    "df_bigtable.loc[596, ['Name_modified']] = 'fx6617ai'\n",
    "df_bigtable.loc[597, ['Name_modified']] = 'fx6617a2'\n",
    "df_bigtable.loc[154, ['Name_modified']] = 'b737c'\n",
    "df_bigtable.loc[155, ['Name_modified']] = 'b737b'"
   ]
  },
  {
   "cell_type": "code",
   "execution_count": 147,
   "metadata": {},
   "outputs": [],
   "source": [
    "# Count the number of family in big table\n",
    "#df_bigtable['Family'].value_counts()"
   ]
  },
  {
   "cell_type": "code",
   "execution_count": 148,
   "metadata": {},
   "outputs": [
    {
     "name": "stdout",
     "output_type": "stream",
     "text": [
      "Le dataset contient 6324 valeurs dont 4909 correspondent aux fichiers dat.\n",
      "Il reste 1415 valeurs à matcher.\n"
     ]
    },
    {
     "data": {
      "text/html": [
       "<div>\n",
       "<style scoped>\n",
       "    .dataframe tbody tr th:only-of-type {\n",
       "        vertical-align: middle;\n",
       "    }\n",
       "\n",
       "    .dataframe tbody tr th {\n",
       "        vertical-align: top;\n",
       "    }\n",
       "\n",
       "    .dataframe thead th {\n",
       "        text-align: right;\n",
       "    }\n",
       "</style>\n",
       "<table border=\"1\" class=\"dataframe\">\n",
       "  <thead>\n",
       "    <tr style=\"text-align: right;\">\n",
       "      <th></th>\n",
       "      <th>Name_big</th>\n",
       "      <th>Family</th>\n",
       "      <th>Name_modified</th>\n",
       "      <th>Name_dat</th>\n",
       "      <th>Size</th>\n",
       "    </tr>\n",
       "  </thead>\n",
       "  <tbody>\n",
       "    <tr>\n",
       "      <th>0</th>\n",
       "      <td>63A108 MOD C</td>\n",
       "      <td>NASA</td>\n",
       "      <td>63a108 mod c</td>\n",
       "      <td>NaN</td>\n",
       "      <td>NaN</td>\n",
       "    </tr>\n",
       "    <tr>\n",
       "      <th>1</th>\n",
       "      <td>A18</td>\n",
       "      <td>Uncategorized</td>\n",
       "      <td>a18</td>\n",
       "      <td>a18.DAT</td>\n",
       "      <td>945.0</td>\n",
       "    </tr>\n",
       "    <tr>\n",
       "      <th>2</th>\n",
       "      <td>A18 (SMOOTHED)</td>\n",
       "      <td>Uncategorized</td>\n",
       "      <td>a18 (smoothed)</td>\n",
       "      <td>NaN</td>\n",
       "      <td>NaN</td>\n",
       "    </tr>\n",
       "    <tr>\n",
       "      <th>3</th>\n",
       "      <td>A6014-S</td>\n",
       "      <td>Ayers</td>\n",
       "      <td>a6014-s</td>\n",
       "      <td>A6014-S.DAT</td>\n",
       "      <td>6116.0</td>\n",
       "    </tr>\n",
       "    <tr>\n",
       "      <th>4</th>\n",
       "      <td>A6016-S</td>\n",
       "      <td>Ayers</td>\n",
       "      <td>a6016-s</td>\n",
       "      <td>A6016-S.DAT</td>\n",
       "      <td>5914.0</td>\n",
       "    </tr>\n",
       "  </tbody>\n",
       "</table>\n",
       "</div>"
      ],
      "text/plain": [
       "         Name_big         Family   Name_modified     Name_dat    Size\n",
       "0    63A108 MOD C           NASA    63a108 mod c          NaN     NaN\n",
       "1             A18  Uncategorized             a18      a18.DAT   945.0\n",
       "2  A18 (SMOOTHED)  Uncategorized  a18 (smoothed)          NaN     NaN\n",
       "3         A6014-S          Ayers         a6014-s  A6014-S.DAT  6116.0\n",
       "4         A6016-S          Ayers         a6016-s  A6016-S.DAT  5914.0"
      ]
     },
     "execution_count": 148,
     "metadata": {},
     "output_type": "execute_result"
    }
   ],
   "source": [
    "# By merging using 'left', we obtain 4905 correspondances \n",
    "df_merge = pd.merge(df_bigtable, df_dat, on='Name_modified', how='left', suffixes=('_big', '_dat'))\n",
    "nb_mismatch = df_merge[df_merge['Name_dat'].isna()].shape[0]\n",
    "nb_match = df_merge.shape[0] - nb_mismatch\n",
    "print(f'Le dataset contient {df_merge.shape[0]} valeurs dont {nb_match} correspondent aux fichiers dat.')\n",
    "print(f'Il reste {nb_mismatch} valeurs à matcher.')\n",
    "df_merge.head()"
   ]
  },
  {
   "cell_type": "markdown",
   "metadata": {},
   "source": [
    "# Matchmaking using families"
   ]
  },
  {
   "cell_type": "markdown",
   "metadata": {},
   "source": [
    "Plus tard, il faudrait ajouter une valeur qui indique à quel point on est sûr du matchmaking"
   ]
  },
  {
   "cell_type": "code",
   "execution_count": 149,
   "metadata": {},
   "outputs": [
    {
     "data": {
      "text/plain": [
       "Family\n",
       "Gottingen        382\n",
       "Eppler           201\n",
       "Uncategorized    153\n",
       "Wortmann         110\n",
       "NASA              54\n",
       "Name: nb_na, dtype: int64"
      ]
     },
     "execution_count": 149,
     "metadata": {},
     "output_type": "execute_result"
    }
   ],
   "source": [
    "# Count the number of missing values per family \n",
    "family = df_merge.groupby(['Family']).count()\n",
    "mask_family = (family['Name_big'] != family['Name_dat'])\n",
    "family_na = family[mask_family].copy()\n",
    "family_na['nb_na'] = family_na['Name_big'] - family_na['Size']\n",
    "# We are interested by the 5 families with the most of na\n",
    "family_na['nb_na'].sort_values(ascending=False).head(5)"
   ]
  },
  {
   "cell_type": "markdown",
   "metadata": {},
   "source": [
    "### **1. Create dataframes with wings left to match**"
   ]
  },
  {
   "cell_type": "code",
   "execution_count": 150,
   "metadata": {},
   "outputs": [
    {
     "name": "stdout",
     "output_type": "stream",
     "text": [
      "Unmatched values left in the dat folder : (3444, 5)\n",
      "Unmatched values left in big table : (1415, 5)\n"
     ]
    }
   ],
   "source": [
    "# Create df_dat_left and df_big_left\n",
    "df_dat_left = pd.merge(df_bigtable, df_dat, on='Name_modified', how='right', suffixes=('_big', '_dat'))\n",
    "df_dat_left = df_dat_left[df_dat_left['Name_big'].isna()]\n",
    "print(f\"Unmatched values left in the dat folder : {df_dat_left.shape}\")\n",
    "df_big_left = df_merge[df_merge['Name_dat'].isna()].copy()\n",
    "print(f\"Unmatched values left in big table : {df_big_left.shape}\")\n",
    "\n",
    "# Create a new column for each df containing the first letter of each wing\n",
    "df_dat_left['First letter'] = [x[0] for x in df_dat_left['Name_modified'].values]\n",
    "df_big_left['First letter'] = [x[0] for x in df_big_left['Name_modified'].values]\n",
    "\n",
    "# Create a new column for each df with z copy of the modified name to further work on\n",
    "df_dat_left['Name_modified_by_family'] = df_dat_left['Name_modified'].copy()\n",
    "df_big_left['Name_modified_by_family'] = df_big_left['Name_modified'].copy()"
   ]
  },
  {
   "cell_type": "code",
   "execution_count": 151,
   "metadata": {},
   "outputs": [],
   "source": [
    "# df_dat_left ----> ['Name_big', 'Family', 'Name_modified', 'Name_dat', 'Size', 'First letter', 'Name_modified_by_family']\n",
    "# Name_big and Family are NaN\n",
    "df_dat_left.drop(columns=['Name_big', 'Family'], inplace=True)\n",
    "# df_big_left ----> ['Name_big', 'Family', 'Name_modified', 'Name_dat', 'Size', 'First letter', 'Name_modified_by_family']\n",
    "# Name_dat and Size are NaN\n",
    "df_big_left.drop(columns=['Name_dat', 'Size'], inplace=True)"
   ]
  },
  {
   "cell_type": "markdown",
   "metadata": {},
   "source": [
    "### **2. Regex to match the family Yost,Eiffel,Eppeler**"
   ]
  },
  {
   "cell_type": "markdown",
   "metadata": {},
   "source": [
    "- Family yost : correspondance if deleting the spaces points and / from big e\n",
    "- Family eiffel : correspondance if deleting the spaces and content between parenthesis + special case for eiffel 10 (wright) - 1903 wright flyer airfoil\t\n",
    "- Family eppler : correspondance if replacing eppler by e and removing spaces"
   ]
  },
  {
   "cell_type": "code",
   "execution_count": 152,
   "metadata": {},
   "outputs": [
    {
     "name": "stdout",
     "output_type": "stream",
     "text": [
      "Big table number of wings left beginning by e : (221, 5)\n",
      "Dat folder number of wings left beginning by e : (219, 5)\n",
      "Difference : 2\n"
     ]
    }
   ],
   "source": [
    "big_e = df_big_left[df_big_left['First letter'] == 'e']\n",
    "dat_e = df_dat_left[df_dat_left['First letter'] == 'e']\n",
    "print(f'Big table number of wings left beginning by e : {big_e.shape}')\n",
    "print(f'Dat folder number of wings left beginning by e : {dat_e.shape}')\n",
    "print(f'Difference : {big_e.shape[0] - dat_e.shape[0]}')"
   ]
  },
  {
   "cell_type": "code",
   "execution_count": 153,
   "metadata": {},
   "outputs": [],
   "source": [
    "# Family yost\n",
    "big_e.loc[big_e['Family'] == 'Yost', 'Name_modified_by_family'] = big_e.loc[big_e['Family'] == 'Yost', 'Name_modified_by_family'].apply(lambda x : (re.sub(\"\\s\", \"\", str(x))))\n",
    "big_e.loc[big_e['Family'] == 'Yost', 'Name_modified_by_family'] = big_e.loc[big_e['Family'] == 'Yost', 'Name_modified_by_family'].apply(lambda x : (re.sub(\"\\.\", \"\", str(x))))\n",
    "big_e.loc[big_e['Family'] == 'Yost', 'Name_modified_by_family'] = big_e.loc[big_e['Family'] == 'Yost', 'Name_modified_by_family'].apply(lambda x : (re.sub(\"/\", \"\", str(x))))\n",
    "\n",
    "# Family eiffel\n",
    "big_e.loc[big_e['Family'] == 'Eiffel', 'Name_modified_by_family'] = big_e.loc[big_e['Family'] == 'Eiffel', 'Name_modified_by_family'].apply(lambda x : (re.sub('\\(.*?\\)', \"\", str(x))))\n",
    "big_e.loc[big_e['Family'] == 'Eiffel', 'Name_modified_by_family'] = big_e.loc[big_e['Family'] == 'Eiffel', 'Name_modified_by_family'].apply(lambda x : (re.sub(\"\\s\", \"\", str(x))))\n",
    "big_e.loc[big_e['Family'] == 'Eiffel', 'Name_modified_by_family'] = big_e.loc[big_e['Family'] == 'Eiffel', 'Name_modified_by_family'].apply(lambda x : (re.split(\"-\", str(x)))[0])\n",
    "\n",
    "# Family eppler\n",
    "big_e.loc[big_e['Family'] == 'Eppler', 'Name_modified_by_family'] = big_e.loc[big_e['Family'] == 'Eppler', 'Name_modified_by_family'].apply(lambda x : (re.sub(\"eppler\", \"e\", str(x))))\n",
    "big_e.loc[big_e['Family'] == 'Eppler', 'Name_modified_by_family'] = big_e.loc[big_e['Family'] == 'Eppler', 'Name_modified_by_family'].apply(lambda x : (re.sub(\"\\s\", \"\", str(x))))"
   ]
  },
  {
   "cell_type": "code",
   "execution_count": 154,
   "metadata": {},
   "outputs": [
    {
     "name": "stdout",
     "output_type": "stream",
     "text": [
      "Index(['Name_big', 'Family', 'Name_modified', 'First letter',\n",
      "       'Name_modified_by_family_left', 'Name_modified_by_family_big'],\n",
      "      dtype='object')\n"
     ]
    }
   ],
   "source": [
    "# Incorporating the new name found (Name_modified_by_family) into the dataset with the bigtable wings left to match\n",
    "df_big_left = pd.merge(df_big_left, big_e[['Name_big', 'Name_modified_by_family']], on='Name_big', how='left', suffixes=('_left', '_big'))\n",
    "print(df_big_left.columns)\n",
    "#df_big_left.drop(columns=['Name_modified_by_family_big'], inplace=True)\n",
    "df_big_left.rename(columns={'Name_modified_by_family_left':'Name_modified_by_family_original', 'Name_modified_by_family_big':'Name_modified_by_family'}, inplace=True)"
   ]
  },
  {
   "cell_type": "code",
   "execution_count": 155,
   "metadata": {},
   "outputs": [
    {
     "name": "stdout",
     "output_type": "stream",
     "text": [
      "(1415, 10)\n",
      "Le dataset contient 1415 valeurs dont 199 correspondent aux fichiers dat.\n",
      "Il reste 1216 valeurs à matcher.\n"
     ]
    },
    {
     "data": {
      "text/html": [
       "<div>\n",
       "<style scoped>\n",
       "    .dataframe tbody tr th:only-of-type {\n",
       "        vertical-align: middle;\n",
       "    }\n",
       "\n",
       "    .dataframe tbody tr th {\n",
       "        vertical-align: top;\n",
       "    }\n",
       "\n",
       "    .dataframe thead th {\n",
       "        text-align: right;\n",
       "    }\n",
       "</style>\n",
       "<table border=\"1\" class=\"dataframe\">\n",
       "  <thead>\n",
       "    <tr style=\"text-align: right;\">\n",
       "      <th></th>\n",
       "      <th>Name_big</th>\n",
       "      <th>Family</th>\n",
       "      <th>Name_modified_big</th>\n",
       "      <th>First letter_big</th>\n",
       "      <th>Name_modified_by_family_original</th>\n",
       "      <th>Name_modified_by_family</th>\n",
       "      <th>Name_modified_dat</th>\n",
       "      <th>Name_dat</th>\n",
       "      <th>Size</th>\n",
       "      <th>First letter_dat</th>\n",
       "    </tr>\n",
       "  </thead>\n",
       "  <tbody>\n",
       "    <tr>\n",
       "      <th>0</th>\n",
       "      <td>63A108 MOD C</td>\n",
       "      <td>NASA</td>\n",
       "      <td>63a108 mod c</td>\n",
       "      <td>6</td>\n",
       "      <td>63a108 mod c</td>\n",
       "      <td>NaN</td>\n",
       "      <td>NaN</td>\n",
       "      <td>NaN</td>\n",
       "      <td>NaN</td>\n",
       "      <td>NaN</td>\n",
       "    </tr>\n",
       "    <tr>\n",
       "      <th>1</th>\n",
       "      <td>A18 (SMOOTHED)</td>\n",
       "      <td>Uncategorized</td>\n",
       "      <td>a18 (smoothed)</td>\n",
       "      <td>a</td>\n",
       "      <td>a18 (smoothed)</td>\n",
       "      <td>NaN</td>\n",
       "      <td>NaN</td>\n",
       "      <td>NaN</td>\n",
       "      <td>NaN</td>\n",
       "      <td>NaN</td>\n",
       "    </tr>\n",
       "    <tr>\n",
       "      <th>2</th>\n",
       "      <td>AG03 (FLAT AFT BOTTOM)</td>\n",
       "      <td>Drela</td>\n",
       "      <td>ag03 (flat aft bottom)</td>\n",
       "      <td>a</td>\n",
       "      <td>ag03 (flat aft bottom)</td>\n",
       "      <td>NaN</td>\n",
       "      <td>NaN</td>\n",
       "      <td>NaN</td>\n",
       "      <td>NaN</td>\n",
       "      <td>NaN</td>\n",
       "    </tr>\n",
       "    <tr>\n",
       "      <th>3</th>\n",
       "      <td>AG44CT -02F</td>\n",
       "      <td>Drela</td>\n",
       "      <td>ag44ct -02f</td>\n",
       "      <td>a</td>\n",
       "      <td>ag44ct -02f</td>\n",
       "      <td>NaN</td>\n",
       "      <td>NaN</td>\n",
       "      <td>NaN</td>\n",
       "      <td>NaN</td>\n",
       "      <td>NaN</td>\n",
       "    </tr>\n",
       "    <tr>\n",
       "      <th>4</th>\n",
       "      <td>AG455CT -02F ROT.</td>\n",
       "      <td>Drela</td>\n",
       "      <td>ag455ct -02f rot.</td>\n",
       "      <td>a</td>\n",
       "      <td>ag455ct -02f rot.</td>\n",
       "      <td>NaN</td>\n",
       "      <td>NaN</td>\n",
       "      <td>NaN</td>\n",
       "      <td>NaN</td>\n",
       "      <td>NaN</td>\n",
       "    </tr>\n",
       "  </tbody>\n",
       "</table>\n",
       "</div>"
      ],
      "text/plain": [
       "                 Name_big         Family       Name_modified_big  \\\n",
       "0            63A108 MOD C           NASA            63a108 mod c   \n",
       "1          A18 (SMOOTHED)  Uncategorized          a18 (smoothed)   \n",
       "2  AG03 (FLAT AFT BOTTOM)          Drela  ag03 (flat aft bottom)   \n",
       "3             AG44CT -02F          Drela             ag44ct -02f   \n",
       "4       AG455CT -02F ROT.          Drela       ag455ct -02f rot.   \n",
       "\n",
       "  First letter_big Name_modified_by_family_original Name_modified_by_family  \\\n",
       "0                6                     63a108 mod c                     NaN   \n",
       "1                a                   a18 (smoothed)                     NaN   \n",
       "2                a           ag03 (flat aft bottom)                     NaN   \n",
       "3                a                      ag44ct -02f                     NaN   \n",
       "4                a                ag455ct -02f rot.                     NaN   \n",
       "\n",
       "  Name_modified_dat Name_dat  Size First letter_dat  \n",
       "0               NaN      NaN   NaN              NaN  \n",
       "1               NaN      NaN   NaN              NaN  \n",
       "2               NaN      NaN   NaN              NaN  \n",
       "3               NaN      NaN   NaN              NaN  \n",
       "4               NaN      NaN   NaN              NaN  "
      ]
     },
     "execution_count": 155,
     "metadata": {},
     "output_type": "execute_result"
    }
   ],
   "source": [
    "# By merging using 'left', we obtain 4905 correspondances \n",
    "df_merge_e = pd.merge(df_big_left, df_dat_left, on='Name_modified_by_family', how='left', suffixes=('_big', '_dat'))\n",
    "print(df_merge_e.shape)\n",
    "nb_mismatch = df_merge_e[df_merge_e['Name_dat'].isna()].shape[0]\n",
    "nb_match = df_merge_e.shape[0] - nb_mismatch\n",
    "print(f'Le dataset contient {df_merge_e.shape[0]} valeurs dont {nb_match} correspondent aux fichiers dat.')\n",
    "print(f'Il reste {nb_mismatch} valeurs à matcher.')\n",
    "df_merge_e.head()"
   ]
  },
  {
   "cell_type": "markdown",
   "metadata": {},
   "source": [
    "### **3. Regex to match the family Gottingen**"
   ]
  },
  {
   "cell_type": "code",
   "execution_count": 156,
   "metadata": {},
   "outputs": [
    {
     "name": "stdout",
     "output_type": "stream",
     "text": [
      "Unmatched values left in the dat folder : (3245, 5)\n",
      "Unmatched values left in big table : (1216, 6)\n"
     ]
    }
   ],
   "source": [
    "# Create df_dat_left and df_big_left\n",
    "df_dat_left = pd.merge(df_merge_e, df_dat_left, on='Name_modified_by_family', how='right', suffixes=('_big', '_dat'))\n",
    "df_dat_left = df_dat_left[df_dat_left['Name_big'].isna()]\n",
    "df_dat_left.dropna(axis=1, how='all', inplace=True)\n",
    "df_dat_left = df_dat_left.set_axis([re.sub('_dat', \"\", str(col)) for col in df_dat_left.columns], axis=1)\n",
    "print(f\"Unmatched values left in the dat folder : {df_dat_left.shape}\")\n",
    "df_big_left = df_merge_e[df_merge_e['Name_dat'].isna()].copy()\n",
    "df_big_left.dropna(axis=1, how='all', inplace=True)\n",
    "df_big_left = df_big_left.set_axis([re.sub('_big', \"\", str(col)) for col in df_big_left.columns], axis=1)\n",
    "print(f\"Unmatched values left in big table : {df_big_left.shape}\")"
   ]
  },
  {
   "cell_type": "code",
   "execution_count": 157,
   "metadata": {},
   "outputs": [
    {
     "name": "stdout",
     "output_type": "stream",
     "text": [
      "Big table number of wings left beginning by g : (406, 6)\n",
      "Dat folder number of wings left beginning by g : (408, 5)\n",
      "Difference : -2\n"
     ]
    }
   ],
   "source": [
    "big_g = df_big_left[df_big_left['First letter'] == 'g']\n",
    "dat_g = df_dat_left[df_dat_left['First letter'] == 'g']\n",
    "print(f'Big table number of wings left beginning by g : {big_g.shape}')\n",
    "print(f'Dat folder number of wings left beginning by g : {dat_g.shape}')\n",
    "print(f'Difference : {big_g.shape[0] - dat_g.shape[0]}')"
   ]
  },
  {
   "cell_type": "code",
   "execution_count": 158,
   "metadata": {},
   "outputs": [],
   "source": [
    "big_g = big_g.copy()"
   ]
  },
  {
   "cell_type": "code",
   "execution_count": 159,
   "metadata": {},
   "outputs": [],
   "source": [
    "# Family exceptions beginning by 'g'\n",
    "big_g.loc[big_g['Name_modified'] == 'gu25-5(11)8', 'Name_modified_by_family'] = 'gu255118'\n",
    "big_g.loc[big_g['Name_modified'] == 'gs-1', 'Name_modified_by_family'] = 'gs1'\n",
    "big_g.loc[big_g['Name_modified'] == 'griffith 30% suction airfoil', 'Name_modified_by_family'] = 'griffith30symsuction'\n",
    "big_g.loc[big_g['Name_modified'] == 'goe 167 (v.karman prop.2)', 'Name_modified_by_family'] = 'goe167'\n",
    "big_g.loc[big_g['Name_modified'] == 'glenn martin 2', 'Name_modified_by_family'] = 'glennmartin2'\n",
    "big_g.loc[big_g['Name_modified'] == 'glenn martin 3', 'Name_modified_by_family'] = 'glennmartin3'\n",
    "big_g.loc[big_g['Name_modified'] == 'glenn martin 4', 'Name_modified_by_family'] = 'glennmartin4'\n",
    "# Family Gottingen\n",
    "big_g.loc[big_g['Family'] == 'Gottingen', 'Name_modified_by_family'] = big_g.loc[big_g['Family'] == 'Gottingen', 'Name_modified'].apply(lambda x : (re.sub(\"\\s\", \"\", str(x))))\n",
    "big_g.loc[big_g['Family'] == 'Gottingen', 'Name_modified_by_family'] = big_g.loc[big_g['Family'] == 'Gottingen', 'Name_modified_by_family'].apply(lambda x : (re.sub('\\(.*?\\)', \"\", str(x))))"
   ]
  },
  {
   "cell_type": "code",
   "execution_count": 160,
   "metadata": {},
   "outputs": [
    {
     "data": {
      "text/plain": [
       "Index(['Name', 'Family', 'Name_modified', 'First letter',\n",
       "       'Name_modified_by_family_original', 'Name_modified_by_family'],\n",
       "      dtype='object')"
      ]
     },
     "execution_count": 160,
     "metadata": {},
     "output_type": "execute_result"
    }
   ],
   "source": [
    "big_g.columns"
   ]
  },
  {
   "cell_type": "code",
   "execution_count": 161,
   "metadata": {},
   "outputs": [
    {
     "data": {
      "text/plain": [
       "Index(['Name', 'Family', 'Name_modified', 'First letter',\n",
       "       'Name_modified_by_family_original', 'Name_modified_by_family'],\n",
       "      dtype='object')"
      ]
     },
     "execution_count": 161,
     "metadata": {},
     "output_type": "execute_result"
    }
   ],
   "source": [
    "df_big_left.columns"
   ]
  },
  {
   "cell_type": "code",
   "execution_count": 162,
   "metadata": {},
   "outputs": [
    {
     "name": "stdout",
     "output_type": "stream",
     "text": [
      "Index(['Name', 'Family', 'Name_modified', 'First letter',\n",
      "       'Name_modified_by_family_original', 'Name_modified_by_family_left',\n",
      "       'Name_modified_by_family_big'],\n",
      "      dtype='object')\n"
     ]
    }
   ],
   "source": [
    "# Incorporating the new name found (Name_modified_by_family) into the dataset with the bigtable wings left to match\n",
    "df_big_left = pd.merge(df_big_left, big_g[['Name', 'Name_modified_by_family']], on='Name', how='left', suffixes=('_left', '_big'))\n",
    "print(df_big_left.columns)\n",
    "df_big_left.rename(columns={'Name_modified_by_family_left':'Name_modified_by_family_e', 'Name_modified_by_family_big':'Name_modified_by_family'}, inplace=True)"
   ]
  },
  {
   "cell_type": "code",
   "execution_count": 163,
   "metadata": {},
   "outputs": [
    {
     "name": "stdout",
     "output_type": "stream",
     "text": [
      "(1216, 11)\n",
      "Le dataset contient 1216 valeurs dont 379 correspondent aux fichiers dat.\n",
      "Il reste 837 valeurs à matcher.\n"
     ]
    },
    {
     "data": {
      "text/html": [
       "<div>\n",
       "<style scoped>\n",
       "    .dataframe tbody tr th:only-of-type {\n",
       "        vertical-align: middle;\n",
       "    }\n",
       "\n",
       "    .dataframe tbody tr th {\n",
       "        vertical-align: top;\n",
       "    }\n",
       "\n",
       "    .dataframe thead th {\n",
       "        text-align: right;\n",
       "    }\n",
       "</style>\n",
       "<table border=\"1\" class=\"dataframe\">\n",
       "  <thead>\n",
       "    <tr style=\"text-align: right;\">\n",
       "      <th></th>\n",
       "      <th>Name_big</th>\n",
       "      <th>Family</th>\n",
       "      <th>Name_modified_big</th>\n",
       "      <th>First letter_big</th>\n",
       "      <th>Name_modified_by_family_original</th>\n",
       "      <th>Name_modified_by_family_e</th>\n",
       "      <th>Name_modified_by_family</th>\n",
       "      <th>Name_modified_dat</th>\n",
       "      <th>Name_dat</th>\n",
       "      <th>Size</th>\n",
       "      <th>First letter_dat</th>\n",
       "    </tr>\n",
       "  </thead>\n",
       "  <tbody>\n",
       "    <tr>\n",
       "      <th>0</th>\n",
       "      <td>63A108 MOD C</td>\n",
       "      <td>NASA</td>\n",
       "      <td>63a108 mod c</td>\n",
       "      <td>6</td>\n",
       "      <td>63a108 mod c</td>\n",
       "      <td>NaN</td>\n",
       "      <td>NaN</td>\n",
       "      <td>NaN</td>\n",
       "      <td>NaN</td>\n",
       "      <td>NaN</td>\n",
       "      <td>NaN</td>\n",
       "    </tr>\n",
       "    <tr>\n",
       "      <th>1</th>\n",
       "      <td>A18 (SMOOTHED)</td>\n",
       "      <td>Uncategorized</td>\n",
       "      <td>a18 (smoothed)</td>\n",
       "      <td>a</td>\n",
       "      <td>a18 (smoothed)</td>\n",
       "      <td>NaN</td>\n",
       "      <td>NaN</td>\n",
       "      <td>NaN</td>\n",
       "      <td>NaN</td>\n",
       "      <td>NaN</td>\n",
       "      <td>NaN</td>\n",
       "    </tr>\n",
       "    <tr>\n",
       "      <th>2</th>\n",
       "      <td>AG03 (FLAT AFT BOTTOM)</td>\n",
       "      <td>Drela</td>\n",
       "      <td>ag03 (flat aft bottom)</td>\n",
       "      <td>a</td>\n",
       "      <td>ag03 (flat aft bottom)</td>\n",
       "      <td>NaN</td>\n",
       "      <td>NaN</td>\n",
       "      <td>NaN</td>\n",
       "      <td>NaN</td>\n",
       "      <td>NaN</td>\n",
       "      <td>NaN</td>\n",
       "    </tr>\n",
       "    <tr>\n",
       "      <th>3</th>\n",
       "      <td>AG44CT -02F</td>\n",
       "      <td>Drela</td>\n",
       "      <td>ag44ct -02f</td>\n",
       "      <td>a</td>\n",
       "      <td>ag44ct -02f</td>\n",
       "      <td>NaN</td>\n",
       "      <td>NaN</td>\n",
       "      <td>NaN</td>\n",
       "      <td>NaN</td>\n",
       "      <td>NaN</td>\n",
       "      <td>NaN</td>\n",
       "    </tr>\n",
       "    <tr>\n",
       "      <th>4</th>\n",
       "      <td>AG455CT -02F ROT.</td>\n",
       "      <td>Drela</td>\n",
       "      <td>ag455ct -02f rot.</td>\n",
       "      <td>a</td>\n",
       "      <td>ag455ct -02f rot.</td>\n",
       "      <td>NaN</td>\n",
       "      <td>NaN</td>\n",
       "      <td>NaN</td>\n",
       "      <td>NaN</td>\n",
       "      <td>NaN</td>\n",
       "      <td>NaN</td>\n",
       "    </tr>\n",
       "  </tbody>\n",
       "</table>\n",
       "</div>"
      ],
      "text/plain": [
       "                 Name_big         Family       Name_modified_big  \\\n",
       "0            63A108 MOD C           NASA            63a108 mod c   \n",
       "1          A18 (SMOOTHED)  Uncategorized          a18 (smoothed)   \n",
       "2  AG03 (FLAT AFT BOTTOM)          Drela  ag03 (flat aft bottom)   \n",
       "3             AG44CT -02F          Drela             ag44ct -02f   \n",
       "4       AG455CT -02F ROT.          Drela       ag455ct -02f rot.   \n",
       "\n",
       "  First letter_big Name_modified_by_family_original Name_modified_by_family_e  \\\n",
       "0                6                     63a108 mod c                       NaN   \n",
       "1                a                   a18 (smoothed)                       NaN   \n",
       "2                a           ag03 (flat aft bottom)                       NaN   \n",
       "3                a                      ag44ct -02f                       NaN   \n",
       "4                a                ag455ct -02f rot.                       NaN   \n",
       "\n",
       "  Name_modified_by_family Name_modified_dat Name_dat  Size First letter_dat  \n",
       "0                     NaN               NaN      NaN   NaN              NaN  \n",
       "1                     NaN               NaN      NaN   NaN              NaN  \n",
       "2                     NaN               NaN      NaN   NaN              NaN  \n",
       "3                     NaN               NaN      NaN   NaN              NaN  \n",
       "4                     NaN               NaN      NaN   NaN              NaN  "
      ]
     },
     "execution_count": 163,
     "metadata": {},
     "output_type": "execute_result"
    }
   ],
   "source": [
    "# By merging using 'inner', we obtain xx correspondances \n",
    "df_merge_g = pd.merge(df_big_left, df_dat_left, on='Name_modified_by_family', how='left', suffixes=('_big', '_dat'))\n",
    "df_merge_g.dropna(axis=1, how='all', inplace=True)\n",
    "print(df_merge_g.shape)\n",
    "nb_mismatch = df_merge_g[df_merge_g['Name_dat'].isna()].shape[0]\n",
    "nb_match = df_merge_g.shape[0] - nb_mismatch\n",
    "print(f'Le dataset contient {df_merge_g.shape[0]} valeurs dont {nb_match} correspondent aux fichiers dat.')\n",
    "print(f'Il reste {nb_mismatch} valeurs à matcher.')\n",
    "df_merge_g.head()"
   ]
  },
  {
   "cell_type": "markdown",
   "metadata": {},
   "source": [
    "### **4. Global regex with quick manual verif**"
   ]
  },
  {
   "cell_type": "code",
   "execution_count": 164,
   "metadata": {},
   "outputs": [
    {
     "name": "stdout",
     "output_type": "stream",
     "text": [
      "Unmatched values left in the dat folder : (2866, 5)\n",
      "Unmatched values left in big table : (837, 7)\n"
     ]
    }
   ],
   "source": [
    "# Create df_dat_left and df_big_left\n",
    "df_dat_left = pd.merge(df_merge_g, df_dat_left, on='Name_modified_by_family', how='right', suffixes=('_big', '_dat'))\n",
    "df_dat_left = df_dat_left[df_dat_left['Name_big'].isna()]\n",
    "df_dat_left.dropna(axis=1, how='all', inplace=True)\n",
    "df_dat_left = df_dat_left.set_axis([re.sub('_dat', \"\", str(col)) for col in df_dat_left.columns], axis=1)\n",
    "print(f\"Unmatched values left in the dat folder : {df_dat_left.shape}\")\n",
    "df_big_left = df_merge_g[df_merge_g['Name_dat'].isna()].copy()\n",
    "df_big_left.dropna(axis=1, how='all', inplace=True)\n",
    "df_big_left = df_big_left.set_axis([re.sub('_big', \"\", str(col)) for col in df_big_left.columns], axis=1)\n",
    "print(f\"Unmatched values left in big table : {df_big_left.shape}\")"
   ]
  },
  {
   "cell_type": "code",
   "execution_count": 165,
   "metadata": {},
   "outputs": [
    {
     "data": {
      "text/plain": [
       "Index(['Name', 'Family', 'Name_modified', 'First letter',\n",
       "       'Name_modified_by_family_original', 'Name_modified_by_family_e',\n",
       "       'Name_modified_by_family'],\n",
       "      dtype='object')"
      ]
     },
     "execution_count": 165,
     "metadata": {},
     "output_type": "execute_result"
    }
   ],
   "source": [
    "df_big_left.columns"
   ]
  },
  {
   "cell_type": "code",
   "execution_count": 166,
   "metadata": {},
   "outputs": [
    {
     "data": {
      "text/html": [
       "<div>\n",
       "<style scoped>\n",
       "    .dataframe tbody tr th:only-of-type {\n",
       "        vertical-align: middle;\n",
       "    }\n",
       "\n",
       "    .dataframe tbody tr th {\n",
       "        vertical-align: top;\n",
       "    }\n",
       "\n",
       "    .dataframe thead th {\n",
       "        text-align: right;\n",
       "    }\n",
       "</style>\n",
       "<table border=\"1\" class=\"dataframe\">\n",
       "  <thead>\n",
       "    <tr style=\"text-align: right;\">\n",
       "      <th></th>\n",
       "      <th>Name_modified_by_family</th>\n",
       "      <th>Name_modified</th>\n",
       "      <th>Name</th>\n",
       "      <th>Size</th>\n",
       "      <th>First letter</th>\n",
       "      <th>Name_modified_final</th>\n",
       "    </tr>\n",
       "  </thead>\n",
       "  <tbody>\n",
       "    <tr>\n",
       "      <th>0</th>\n",
       "      <td>a18sm</td>\n",
       "      <td>a18sm</td>\n",
       "      <td>a18sm.DAT</td>\n",
       "      <td>1795</td>\n",
       "      <td>a</td>\n",
       "      <td>a18sm</td>\n",
       "    </tr>\n",
       "    <tr>\n",
       "      <th>1</th>\n",
       "      <td>a63a108c</td>\n",
       "      <td>a63a108c</td>\n",
       "      <td>a63a108c.DAT</td>\n",
       "      <td>2278</td>\n",
       "      <td>a</td>\n",
       "      <td>a63a108c</td>\n",
       "    </tr>\n",
       "    <tr>\n",
       "      <th>2</th>\n",
       "      <td>ag03</td>\n",
       "      <td>ag03</td>\n",
       "      <td>ag03.DAT</td>\n",
       "      <td>4091</td>\n",
       "      <td>a</td>\n",
       "      <td>ag03</td>\n",
       "    </tr>\n",
       "    <tr>\n",
       "      <th>3</th>\n",
       "      <td>ag44ct02r</td>\n",
       "      <td>ag44ct02r</td>\n",
       "      <td>ag44ct02r.DAT</td>\n",
       "      <td>3856</td>\n",
       "      <td>a</td>\n",
       "      <td>ag44ct02r</td>\n",
       "    </tr>\n",
       "    <tr>\n",
       "      <th>4</th>\n",
       "      <td>ag455ct02r</td>\n",
       "      <td>ag455ct02r</td>\n",
       "      <td>ag455ct02r.DAT</td>\n",
       "      <td>3859</td>\n",
       "      <td>a</td>\n",
       "      <td>ag455ct02r</td>\n",
       "    </tr>\n",
       "  </tbody>\n",
       "</table>\n",
       "</div>"
      ],
      "text/plain": [
       "  Name_modified_by_family Name_modified            Name  Size First letter  \\\n",
       "0                   a18sm         a18sm       a18sm.DAT  1795            a   \n",
       "1                a63a108c      a63a108c    a63a108c.DAT  2278            a   \n",
       "2                    ag03          ag03        ag03.DAT  4091            a   \n",
       "3               ag44ct02r     ag44ct02r   ag44ct02r.DAT  3856            a   \n",
       "4              ag455ct02r    ag455ct02r  ag455ct02r.DAT  3859            a   \n",
       "\n",
       "  Name_modified_final  \n",
       "0               a18sm  \n",
       "1            a63a108c  \n",
       "2                ag03  \n",
       "3           ag44ct02r  \n",
       "4          ag455ct02r  "
      ]
     },
     "execution_count": 166,
     "metadata": {},
     "output_type": "execute_result"
    }
   ],
   "source": [
    "# remove space and - then /\n",
    "df_big_left['Name_modified_final'] = df_big_left['Name_modified'].copy()\n",
    "df_big_left['Name_modified_final'] = df_big_left.loc[:, 'Name_modified_final'].apply(lambda x : (re.sub(\"\\s\", \"\", str(x))))\n",
    "df_big_left['Name_modified_final'] = df_big_left.loc[:, 'Name_modified_final'].apply(lambda x : (re.sub(\"-\", \"\", str(x))))\n",
    "df_big_left['Name_modified_final'] = df_big_left.loc[:, 'Name_modified_final'].apply(lambda x : (re.sub(\"%\", \"\", str(x))))\n",
    "\n",
    "df_dat_left['Name_modified_final'] = df_dat_left['Name_modified'].copy()\n",
    "df_dat_left['Name_modified_final'] = df_dat_left.loc[:, 'Name_modified_final'].apply(lambda x : (re.sub(\"\\s\", \"\", str(x))))\n",
    "df_dat_left['Name_modified_final'] = df_dat_left.loc[:, 'Name_modified_final'].apply(lambda x : (re.sub(\"-\", \"\", str(x))))\n",
    "df_big_left['Name_modified_final'] = df_big_left.loc[:, 'Name_modified_final'].apply(lambda x : (re.sub(\"%\", \"\", str(x))))\n",
    "\n",
    "df_dat_left.head()"
   ]
  },
  {
   "cell_type": "code",
   "execution_count": 167,
   "metadata": {},
   "outputs": [
    {
     "name": "stdout",
     "output_type": "stream",
     "text": [
      "(837, 13)\n",
      "Le dataset contient 837 valeurs dont 245 correspondent aux fichiers dat.\n",
      "Il reste 592 valeurs à matcher.\n"
     ]
    },
    {
     "data": {
      "text/html": [
       "<div>\n",
       "<style scoped>\n",
       "    .dataframe tbody tr th:only-of-type {\n",
       "        vertical-align: middle;\n",
       "    }\n",
       "\n",
       "    .dataframe tbody tr th {\n",
       "        vertical-align: top;\n",
       "    }\n",
       "\n",
       "    .dataframe thead th {\n",
       "        text-align: right;\n",
       "    }\n",
       "</style>\n",
       "<table border=\"1\" class=\"dataframe\">\n",
       "  <thead>\n",
       "    <tr style=\"text-align: right;\">\n",
       "      <th></th>\n",
       "      <th>Name_big</th>\n",
       "      <th>Family</th>\n",
       "      <th>Name_modified_big</th>\n",
       "      <th>First letter_big</th>\n",
       "      <th>Name_modified_by_family_original</th>\n",
       "      <th>Name_modified_by_family_e</th>\n",
       "      <th>Name_modified_by_family_big</th>\n",
       "      <th>Name_modified_final</th>\n",
       "      <th>Name_modified_by_family_dat</th>\n",
       "      <th>Name_modified_dat</th>\n",
       "      <th>Name_dat</th>\n",
       "      <th>Size</th>\n",
       "      <th>First letter_dat</th>\n",
       "    </tr>\n",
       "  </thead>\n",
       "  <tbody>\n",
       "    <tr>\n",
       "      <th>0</th>\n",
       "      <td>63A108 MOD C</td>\n",
       "      <td>NASA</td>\n",
       "      <td>63a108 mod c</td>\n",
       "      <td>6</td>\n",
       "      <td>63a108 mod c</td>\n",
       "      <td>NaN</td>\n",
       "      <td>NaN</td>\n",
       "      <td>63a108modc</td>\n",
       "      <td>NaN</td>\n",
       "      <td>NaN</td>\n",
       "      <td>NaN</td>\n",
       "      <td>NaN</td>\n",
       "      <td>NaN</td>\n",
       "    </tr>\n",
       "    <tr>\n",
       "      <th>1</th>\n",
       "      <td>A18 (SMOOTHED)</td>\n",
       "      <td>Uncategorized</td>\n",
       "      <td>a18 (smoothed)</td>\n",
       "      <td>a</td>\n",
       "      <td>a18 (smoothed)</td>\n",
       "      <td>NaN</td>\n",
       "      <td>NaN</td>\n",
       "      <td>a18(smoothed)</td>\n",
       "      <td>NaN</td>\n",
       "      <td>NaN</td>\n",
       "      <td>NaN</td>\n",
       "      <td>NaN</td>\n",
       "      <td>NaN</td>\n",
       "    </tr>\n",
       "    <tr>\n",
       "      <th>2</th>\n",
       "      <td>AG03 (FLAT AFT BOTTOM)</td>\n",
       "      <td>Drela</td>\n",
       "      <td>ag03 (flat aft bottom)</td>\n",
       "      <td>a</td>\n",
       "      <td>ag03 (flat aft bottom)</td>\n",
       "      <td>NaN</td>\n",
       "      <td>NaN</td>\n",
       "      <td>ag03(flataftbottom)</td>\n",
       "      <td>NaN</td>\n",
       "      <td>NaN</td>\n",
       "      <td>NaN</td>\n",
       "      <td>NaN</td>\n",
       "      <td>NaN</td>\n",
       "    </tr>\n",
       "    <tr>\n",
       "      <th>3</th>\n",
       "      <td>AG44CT -02F</td>\n",
       "      <td>Drela</td>\n",
       "      <td>ag44ct -02f</td>\n",
       "      <td>a</td>\n",
       "      <td>ag44ct -02f</td>\n",
       "      <td>NaN</td>\n",
       "      <td>NaN</td>\n",
       "      <td>ag44ct02f</td>\n",
       "      <td>NaN</td>\n",
       "      <td>NaN</td>\n",
       "      <td>NaN</td>\n",
       "      <td>NaN</td>\n",
       "      <td>NaN</td>\n",
       "    </tr>\n",
       "    <tr>\n",
       "      <th>4</th>\n",
       "      <td>AG455CT -02F ROT.</td>\n",
       "      <td>Drela</td>\n",
       "      <td>ag455ct -02f rot.</td>\n",
       "      <td>a</td>\n",
       "      <td>ag455ct -02f rot.</td>\n",
       "      <td>NaN</td>\n",
       "      <td>NaN</td>\n",
       "      <td>ag455ct02frot.</td>\n",
       "      <td>NaN</td>\n",
       "      <td>NaN</td>\n",
       "      <td>NaN</td>\n",
       "      <td>NaN</td>\n",
       "      <td>NaN</td>\n",
       "    </tr>\n",
       "  </tbody>\n",
       "</table>\n",
       "</div>"
      ],
      "text/plain": [
       "                 Name_big         Family       Name_modified_big  \\\n",
       "0            63A108 MOD C           NASA            63a108 mod c   \n",
       "1          A18 (SMOOTHED)  Uncategorized          a18 (smoothed)   \n",
       "2  AG03 (FLAT AFT BOTTOM)          Drela  ag03 (flat aft bottom)   \n",
       "3             AG44CT -02F          Drela             ag44ct -02f   \n",
       "4       AG455CT -02F ROT.          Drela       ag455ct -02f rot.   \n",
       "\n",
       "  First letter_big Name_modified_by_family_original Name_modified_by_family_e  \\\n",
       "0                6                     63a108 mod c                       NaN   \n",
       "1                a                   a18 (smoothed)                       NaN   \n",
       "2                a           ag03 (flat aft bottom)                       NaN   \n",
       "3                a                      ag44ct -02f                       NaN   \n",
       "4                a                ag455ct -02f rot.                       NaN   \n",
       "\n",
       "  Name_modified_by_family_big  Name_modified_final  \\\n",
       "0                         NaN           63a108modc   \n",
       "1                         NaN        a18(smoothed)   \n",
       "2                         NaN  ag03(flataftbottom)   \n",
       "3                         NaN            ag44ct02f   \n",
       "4                         NaN       ag455ct02frot.   \n",
       "\n",
       "  Name_modified_by_family_dat Name_modified_dat Name_dat  Size  \\\n",
       "0                         NaN               NaN      NaN   NaN   \n",
       "1                         NaN               NaN      NaN   NaN   \n",
       "2                         NaN               NaN      NaN   NaN   \n",
       "3                         NaN               NaN      NaN   NaN   \n",
       "4                         NaN               NaN      NaN   NaN   \n",
       "\n",
       "  First letter_dat  \n",
       "0              NaN  \n",
       "1              NaN  \n",
       "2              NaN  \n",
       "3              NaN  \n",
       "4              NaN  "
      ]
     },
     "execution_count": 167,
     "metadata": {},
     "output_type": "execute_result"
    }
   ],
   "source": [
    "# By merging using 'inner', we obtain xx correspondances \n",
    "df_merge_final = pd.merge(df_big_left, df_dat_left, on='Name_modified_final', how='left', suffixes=('_big', '_dat'))\n",
    "df_merge_final.dropna(axis=1, how='all', inplace=True)\n",
    "print(df_merge_final.shape)\n",
    "nb_mismatch = df_merge_final[df_merge_final['Name_dat'].isna()].shape[0]\n",
    "nb_match = df_merge_final.shape[0] - nb_mismatch\n",
    "print(f'Le dataset contient {df_merge_final.shape[0]} valeurs dont {nb_match} correspondent aux fichiers dat.')\n",
    "print(f'Il reste {nb_mismatch} valeurs à matcher.')\n",
    "df_merge_final.head()"
   ]
  },
  {
   "cell_type": "code",
   "execution_count": 168,
   "metadata": {},
   "outputs": [],
   "source": [
    "df_merge_final = df_merge_final[['Name_big', 'Family', 'Name_modified_big', 'Name_modified_final', 'Name_modified_dat', 'Name_dat']]"
   ]
  },
  {
   "cell_type": "markdown",
   "metadata": {},
   "source": [
    "### **5. keep trying**"
   ]
  },
  {
   "cell_type": "code",
   "execution_count": 169,
   "metadata": {},
   "outputs": [
    {
     "name": "stdout",
     "output_type": "stream",
     "text": [
      "Unmatched values left in the dat folder : (2621, 6)\n",
      "Unmatched values left in big table : (592, 4)\n"
     ]
    }
   ],
   "source": [
    "# Create df_dat_left and df_big_left\n",
    "df_dat_left = pd.merge(df_merge_final, df_dat_left, on='Name_modified_final', how='right', suffixes=('_big', '_dat'))\n",
    "df_dat_left = df_dat_left[df_dat_left['Name_big'].isna()]\n",
    "df_dat_left.dropna(axis=1, how='all', inplace=True)\n",
    "df_dat_left = df_dat_left.set_axis([re.sub('_dat', \"\", str(col)) for col in df_dat_left.columns], axis=1)\n",
    "print(f\"Unmatched values left in the dat folder : {df_dat_left.shape}\")\n",
    "df_big_left = df_merge_final[df_merge_final['Name_dat'].isna()].copy()\n",
    "df_big_left.dropna(axis=1, how='all', inplace=True)\n",
    "df_big_left = df_big_left.set_axis([re.sub('_big', \"\", str(col)) for col in df_big_left.columns], axis=1)\n",
    "print(f\"Unmatched values left in big table : {df_big_left.shape}\")"
   ]
  },
  {
   "cell_type": "code",
   "execution_count": 170,
   "metadata": {},
   "outputs": [
    {
     "name": "stdout",
     "output_type": "stream",
     "text": [
      "(592, 4)\n",
      "(2621, 6)\n"
     ]
    },
    {
     "data": {
      "text/html": [
       "<div>\n",
       "<style scoped>\n",
       "    .dataframe tbody tr th:only-of-type {\n",
       "        vertical-align: middle;\n",
       "    }\n",
       "\n",
       "    .dataframe tbody tr th {\n",
       "        vertical-align: top;\n",
       "    }\n",
       "\n",
       "    .dataframe thead th {\n",
       "        text-align: right;\n",
       "    }\n",
       "</style>\n",
       "<table border=\"1\" class=\"dataframe\">\n",
       "  <thead>\n",
       "    <tr style=\"text-align: right;\">\n",
       "      <th></th>\n",
       "      <th>Name_modified_final</th>\n",
       "      <th>Name_modified_by_family</th>\n",
       "      <th>Name_modified</th>\n",
       "      <th>Name</th>\n",
       "      <th>Size</th>\n",
       "      <th>First letter</th>\n",
       "    </tr>\n",
       "  </thead>\n",
       "  <tbody>\n",
       "    <tr>\n",
       "      <th>0</th>\n",
       "      <td>a18sm</td>\n",
       "      <td>a18sm</td>\n",
       "      <td>a18sm</td>\n",
       "      <td>a18sm.DAT</td>\n",
       "      <td>1795</td>\n",
       "      <td>a</td>\n",
       "    </tr>\n",
       "    <tr>\n",
       "      <th>1</th>\n",
       "      <td>a63a108c</td>\n",
       "      <td>a63a108c</td>\n",
       "      <td>a63a108c</td>\n",
       "      <td>a63a108c.DAT</td>\n",
       "      <td>2278</td>\n",
       "      <td>a</td>\n",
       "    </tr>\n",
       "    <tr>\n",
       "      <th>2</th>\n",
       "      <td>ag03</td>\n",
       "      <td>ag03</td>\n",
       "      <td>ag03</td>\n",
       "      <td>ag03.DAT</td>\n",
       "      <td>4091</td>\n",
       "      <td>a</td>\n",
       "    </tr>\n",
       "    <tr>\n",
       "      <th>3</th>\n",
       "      <td>ag44ct02r</td>\n",
       "      <td>ag44ct02r</td>\n",
       "      <td>ag44ct02r</td>\n",
       "      <td>ag44ct02r.DAT</td>\n",
       "      <td>3856</td>\n",
       "      <td>a</td>\n",
       "    </tr>\n",
       "    <tr>\n",
       "      <th>4</th>\n",
       "      <td>ag455ct02r</td>\n",
       "      <td>ag455ct02r</td>\n",
       "      <td>ag455ct02r</td>\n",
       "      <td>ag455ct02r.DAT</td>\n",
       "      <td>3859</td>\n",
       "      <td>a</td>\n",
       "    </tr>\n",
       "  </tbody>\n",
       "</table>\n",
       "</div>"
      ],
      "text/plain": [
       "  Name_modified_final Name_modified_by_family Name_modified            Name  \\\n",
       "0               a18sm                   a18sm         a18sm       a18sm.DAT   \n",
       "1            a63a108c                a63a108c      a63a108c    a63a108c.DAT   \n",
       "2                ag03                    ag03          ag03        ag03.DAT   \n",
       "3           ag44ct02r               ag44ct02r     ag44ct02r   ag44ct02r.DAT   \n",
       "4          ag455ct02r              ag455ct02r    ag455ct02r  ag455ct02r.DAT   \n",
       "\n",
       "   Size First letter  \n",
       "0  1795            a  \n",
       "1  2278            a  \n",
       "2  4091            a  \n",
       "3  3856            a  \n",
       "4  3859            a  "
      ]
     },
     "execution_count": 170,
     "metadata": {},
     "output_type": "execute_result"
    }
   ],
   "source": [
    "# remove space and . then /\n",
    "df_big_left['Name_modified_final'] = df_big_left['Name_modified'].copy()\n",
    "df_big_left['Name_modified_final'] = df_big_left.loc[:, 'Name_modified_final'].apply(lambda x : (re.sub(\"\\s\", \"\", str(x))))\n",
    "df_big_left['Name_modified_final'] = df_big_left.loc[:, 'Name_modified_final'].apply(lambda x : (re.sub(\"\\.\", \"\", str(x))))\n",
    "df_big_left['Name_modified_final'] = df_big_left.loc[:, 'Name_modified_final'].apply(lambda x : (re.sub(\"/\", \"\", str(x))))\n",
    "df_big_left['Name_modified_final'] = df_big_left.loc[:, 'Name_modified_final'].apply(lambda x : (re.sub(\"-\", \"\", str(x))))\n",
    "df_big_left['Name_modified_final'] = df_big_left.loc[:, 'Name_modified_final'].apply(lambda x : (re.sub(\"%\", \"\", str(x))))\n",
    "df_big_left['Name_modified_final'] = df_big_left.loc[:, 'Name_modified_final'].apply(lambda x : (re.sub(\"\\(\", \"\", str(x))))\n",
    "df_big_left['Name_modified_final'] = df_big_left.loc[:, 'Name_modified_final'].apply(lambda x : (re.sub(\"\\)\", \"\", str(x))))\n",
    "\n",
    "\n",
    "print(df_big_left.shape)\n",
    "df_dat_left['Name_modified_final'] = df_dat_left['Name_modified'].copy()\n",
    "df_dat_left['Name_modified_final'] = df_dat_left.loc[:, 'Name_modified_final'].apply(lambda x : (re.sub(\"\\s\", \"\", str(x))))\n",
    "df_dat_left['Name_modified_final'] = df_dat_left.loc[:, 'Name_modified_final'].apply(lambda x : (re.sub(\"\\.\", \"\", str(x))))\n",
    "df_dat_left['Name_modified_final'] = df_dat_left.loc[:, 'Name_modified_final'].apply(lambda x : (re.sub(\"/\", \"\", str(x))))\n",
    "df_dat_left['Name_modified_final'] = df_dat_left.loc[:, 'Name_modified_final'].apply(lambda x : (re.sub(\"-\", \"\", str(x))))\n",
    "df_dat_left['Name_modified_final'] = df_dat_left.loc[:, 'Name_modified_final'].apply(lambda x : (re.sub(\"%\", \"\", str(x))))\n",
    "df_dat_left['Name_modified_final'] = df_dat_left.loc[:, 'Name_modified_final'].apply(lambda x : (re.sub(\"\\(\", \"\", str(x))))\n",
    "df_dat_left['Name_modified_final'] = df_dat_left.loc[:, 'Name_modified_final'].apply(lambda x : (re.sub(\"\\)\", \"\", str(x))))\n",
    "\n",
    "print(df_dat_left.shape)\n",
    "\n",
    "df_dat_left.head()"
   ]
  },
  {
   "cell_type": "code",
   "execution_count": 171,
   "metadata": {},
   "outputs": [
    {
     "data": {
      "text/plain": [
       "(592, 9)"
      ]
     },
     "execution_count": 171,
     "metadata": {},
     "output_type": "execute_result"
    }
   ],
   "source": [
    "df_merge_final2 = pd.merge(df_big_left, df_dat_left, on='Name_modified_final', how='left', suffixes=('_big', '_dat'))\n",
    "df_merge_final2.shape"
   ]
  },
  {
   "cell_type": "code",
   "execution_count": 172,
   "metadata": {},
   "outputs": [
    {
     "name": "stdout",
     "output_type": "stream",
     "text": [
      "(592, 9)\n",
      "Le dataset contient 592 valeurs dont 86 correspondent aux fichiers dat.\n",
      "Il reste 506 valeurs à matcher.\n"
     ]
    },
    {
     "data": {
      "text/html": [
       "<div>\n",
       "<style scoped>\n",
       "    .dataframe tbody tr th:only-of-type {\n",
       "        vertical-align: middle;\n",
       "    }\n",
       "\n",
       "    .dataframe tbody tr th {\n",
       "        vertical-align: top;\n",
       "    }\n",
       "\n",
       "    .dataframe thead th {\n",
       "        text-align: right;\n",
       "    }\n",
       "</style>\n",
       "<table border=\"1\" class=\"dataframe\">\n",
       "  <thead>\n",
       "    <tr style=\"text-align: right;\">\n",
       "      <th></th>\n",
       "      <th>Name_big</th>\n",
       "      <th>Family</th>\n",
       "      <th>Name_modified_big</th>\n",
       "      <th>Name_modified_final</th>\n",
       "      <th>Name_modified_by_family</th>\n",
       "      <th>Name_modified_dat</th>\n",
       "      <th>Name_dat</th>\n",
       "      <th>Size</th>\n",
       "      <th>First letter</th>\n",
       "    </tr>\n",
       "  </thead>\n",
       "  <tbody>\n",
       "    <tr>\n",
       "      <th>0</th>\n",
       "      <td>63A108 MOD C</td>\n",
       "      <td>NASA</td>\n",
       "      <td>63a108 mod c</td>\n",
       "      <td>63a108modc</td>\n",
       "      <td>NaN</td>\n",
       "      <td>NaN</td>\n",
       "      <td>NaN</td>\n",
       "      <td>NaN</td>\n",
       "      <td>NaN</td>\n",
       "    </tr>\n",
       "    <tr>\n",
       "      <th>1</th>\n",
       "      <td>A18 (SMOOTHED)</td>\n",
       "      <td>Uncategorized</td>\n",
       "      <td>a18 (smoothed)</td>\n",
       "      <td>a18smoothed</td>\n",
       "      <td>NaN</td>\n",
       "      <td>NaN</td>\n",
       "      <td>NaN</td>\n",
       "      <td>NaN</td>\n",
       "      <td>NaN</td>\n",
       "    </tr>\n",
       "    <tr>\n",
       "      <th>2</th>\n",
       "      <td>AG03 (FLAT AFT BOTTOM)</td>\n",
       "      <td>Drela</td>\n",
       "      <td>ag03 (flat aft bottom)</td>\n",
       "      <td>ag03flataftbottom</td>\n",
       "      <td>NaN</td>\n",
       "      <td>NaN</td>\n",
       "      <td>NaN</td>\n",
       "      <td>NaN</td>\n",
       "      <td>NaN</td>\n",
       "    </tr>\n",
       "    <tr>\n",
       "      <th>3</th>\n",
       "      <td>AG44CT -02F</td>\n",
       "      <td>Drela</td>\n",
       "      <td>ag44ct -02f</td>\n",
       "      <td>ag44ct02f</td>\n",
       "      <td>NaN</td>\n",
       "      <td>NaN</td>\n",
       "      <td>NaN</td>\n",
       "      <td>NaN</td>\n",
       "      <td>NaN</td>\n",
       "    </tr>\n",
       "    <tr>\n",
       "      <th>4</th>\n",
       "      <td>AG455CT -02F ROT.</td>\n",
       "      <td>Drela</td>\n",
       "      <td>ag455ct -02f rot.</td>\n",
       "      <td>ag455ct02frot</td>\n",
       "      <td>NaN</td>\n",
       "      <td>NaN</td>\n",
       "      <td>NaN</td>\n",
       "      <td>NaN</td>\n",
       "      <td>NaN</td>\n",
       "    </tr>\n",
       "  </tbody>\n",
       "</table>\n",
       "</div>"
      ],
      "text/plain": [
       "                 Name_big         Family       Name_modified_big  \\\n",
       "0            63A108 MOD C           NASA            63a108 mod c   \n",
       "1          A18 (SMOOTHED)  Uncategorized          a18 (smoothed)   \n",
       "2  AG03 (FLAT AFT BOTTOM)          Drela  ag03 (flat aft bottom)   \n",
       "3             AG44CT -02F          Drela             ag44ct -02f   \n",
       "4       AG455CT -02F ROT.          Drela       ag455ct -02f rot.   \n",
       "\n",
       "  Name_modified_final Name_modified_by_family Name_modified_dat Name_dat  \\\n",
       "0          63a108modc                     NaN               NaN      NaN   \n",
       "1         a18smoothed                     NaN               NaN      NaN   \n",
       "2   ag03flataftbottom                     NaN               NaN      NaN   \n",
       "3           ag44ct02f                     NaN               NaN      NaN   \n",
       "4       ag455ct02frot                     NaN               NaN      NaN   \n",
       "\n",
       "   Size First letter  \n",
       "0   NaN          NaN  \n",
       "1   NaN          NaN  \n",
       "2   NaN          NaN  \n",
       "3   NaN          NaN  \n",
       "4   NaN          NaN  "
      ]
     },
     "execution_count": 172,
     "metadata": {},
     "output_type": "execute_result"
    }
   ],
   "source": [
    "# By merging using 'inner', we obtain xx correspondances \n",
    "df_merge_final2 = pd.merge(df_big_left, df_dat_left, on='Name_modified_final', how='left', suffixes=('_big', '_dat'))\n",
    "df_merge_final2.dropna(axis=1, how='all', inplace=True)\n",
    "print(df_merge_final2.shape)\n",
    "nb_mismatch = df_merge_final2[df_merge_final2['Name_dat'].isna()].shape[0]\n",
    "nb_match = df_merge_final2.shape[0] - nb_mismatch\n",
    "print(f'Le dataset contient {df_merge_final2.shape[0]} valeurs dont {nb_match} correspondent aux fichiers dat.')\n",
    "print(f'Il reste {nb_mismatch} valeurs à matcher.')\n",
    "df_merge_final2.head()"
   ]
  },
  {
   "cell_type": "code",
   "execution_count": 173,
   "metadata": {},
   "outputs": [
    {
     "data": {
      "text/html": [
       "<div>\n",
       "<style scoped>\n",
       "    .dataframe tbody tr th:only-of-type {\n",
       "        vertical-align: middle;\n",
       "    }\n",
       "\n",
       "    .dataframe tbody tr th {\n",
       "        vertical-align: top;\n",
       "    }\n",
       "\n",
       "    .dataframe thead th {\n",
       "        text-align: right;\n",
       "    }\n",
       "</style>\n",
       "<table border=\"1\" class=\"dataframe\">\n",
       "  <thead>\n",
       "    <tr style=\"text-align: right;\">\n",
       "      <th></th>\n",
       "      <th>Name_big</th>\n",
       "      <th>Family</th>\n",
       "      <th>Name_modified_big</th>\n",
       "      <th>Name_modified_final</th>\n",
       "      <th>Name_modified_by_family</th>\n",
       "      <th>Name_modified_dat</th>\n",
       "      <th>Name_dat</th>\n",
       "      <th>Size</th>\n",
       "      <th>First letter</th>\n",
       "    </tr>\n",
       "  </thead>\n",
       "  <tbody>\n",
       "    <tr>\n",
       "      <th>76</th>\n",
       "      <td>D.G.A. 1138</td>\n",
       "      <td>Uncategorized</td>\n",
       "      <td>d.g.a. 1138</td>\n",
       "      <td>dga1138</td>\n",
       "      <td>dga1138</td>\n",
       "      <td>dga1138</td>\n",
       "      <td>dga1138.DAT</td>\n",
       "      <td>776.0</td>\n",
       "      <td>d</td>\n",
       "    </tr>\n",
       "    <tr>\n",
       "      <th>102</th>\n",
       "      <td>DU 86-084/18</td>\n",
       "      <td>Delft</td>\n",
       "      <td>du 86-084/18</td>\n",
       "      <td>du8608418</td>\n",
       "      <td>du8608418</td>\n",
       "      <td>du8608418</td>\n",
       "      <td>du8608418.DAT</td>\n",
       "      <td>2304.0</td>\n",
       "      <td>d</td>\n",
       "    </tr>\n",
       "    <tr>\n",
       "      <th>104</th>\n",
       "      <td>E. BAMBINO 7</td>\n",
       "      <td>Uncategorized</td>\n",
       "      <td>e. bambino 7</td>\n",
       "      <td>ebambino7</td>\n",
       "      <td>ebambino7</td>\n",
       "      <td>ebambino7</td>\n",
       "      <td>ebambino7.DAT</td>\n",
       "      <td>770.0</td>\n",
       "      <td>e</td>\n",
       "    </tr>\n",
       "    <tr>\n",
       "      <th>135</th>\n",
       "      <td>FX 60-126/1</td>\n",
       "      <td>Wortmann</td>\n",
       "      <td>fx 60-126/1</td>\n",
       "      <td>fx601261</td>\n",
       "      <td>fx601261</td>\n",
       "      <td>fx601261</td>\n",
       "      <td>fx601261.DAT</td>\n",
       "      <td>2201.0</td>\n",
       "      <td>f</td>\n",
       "    </tr>\n",
       "    <tr>\n",
       "      <th>151</th>\n",
       "      <td>FX 78-K-140 A/20</td>\n",
       "      <td>Wortmann</td>\n",
       "      <td>fx 78-k-140 a/20</td>\n",
       "      <td>fx78k140a20</td>\n",
       "      <td>fx78k140a20</td>\n",
       "      <td>fx78k140a20</td>\n",
       "      <td>fx78k140a20.DAT</td>\n",
       "      <td>2215.0</td>\n",
       "      <td>f</td>\n",
       "    </tr>\n",
       "  </tbody>\n",
       "</table>\n",
       "</div>"
      ],
      "text/plain": [
       "             Name_big         Family Name_modified_big Name_modified_final  \\\n",
       "76        D.G.A. 1138  Uncategorized       d.g.a. 1138             dga1138   \n",
       "102      DU 86-084/18          Delft      du 86-084/18           du8608418   \n",
       "104      E. BAMBINO 7  Uncategorized      e. bambino 7           ebambino7   \n",
       "135       FX 60-126/1       Wortmann       fx 60-126/1            fx601261   \n",
       "151  FX 78-K-140 A/20       Wortmann  fx 78-k-140 a/20         fx78k140a20   \n",
       "\n",
       "    Name_modified_by_family Name_modified_dat         Name_dat    Size  \\\n",
       "76                  dga1138           dga1138      dga1138.DAT   776.0   \n",
       "102               du8608418         du8608418    du8608418.DAT  2304.0   \n",
       "104               ebambino7         ebambino7    ebambino7.DAT   770.0   \n",
       "135                fx601261          fx601261     fx601261.DAT  2201.0   \n",
       "151             fx78k140a20       fx78k140a20  fx78k140a20.DAT  2215.0   \n",
       "\n",
       "    First letter  \n",
       "76             d  \n",
       "102            d  \n",
       "104            e  \n",
       "135            f  \n",
       "151            f  "
      ]
     },
     "execution_count": 173,
     "metadata": {},
     "output_type": "execute_result"
    }
   ],
   "source": [
    "df_merge_final2[df_merge_final2['Name_dat'].isna() ==  False].head()"
   ]
  },
  {
   "cell_type": "code",
   "execution_count": 174,
   "metadata": {},
   "outputs": [
    {
     "data": {
      "text/plain": [
       "Family\n",
       "Uncategorized    99\n",
       "Hepperle         49\n",
       "Selig et. al.    48\n",
       "Boeing           32\n",
       "Leinauer         25\n",
       "NACA/Munk        24\n",
       "Wortmann         23\n",
       "NASA             20\n",
       "Eppler           19\n",
       "Barth            15\n",
       "Lockheed         14\n",
       "Gulfstream       14\n",
       "NACA             13\n",
       "Pflug            12\n",
       "Althaus          11\n",
       "Gottingen         9\n",
       "Drela             9\n",
       "Sikorsky          8\n",
       "Onera             7\n",
       "Marske            6\n",
       "Name: nb_na, dtype: int64"
      ]
     },
     "execution_count": 174,
     "metadata": {},
     "output_type": "execute_result"
    }
   ],
   "source": [
    "# Count the number of missing values per family \n",
    "family = df_merge_final2.groupby(['Family']).count()\n",
    "mask_family = (family['Name_big'] != family['Name_dat'])\n",
    "family_na = family[mask_family].copy()\n",
    "family_na['nb_na'] = family_na['Name_big'] - family_na['Size']\n",
    "# We are interested by the 5 families with the most of na\n",
    "family_na['nb_na'].sort_values(ascending=False).head(20)"
   ]
  },
  {
   "cell_type": "markdown",
   "metadata": {},
   "source": [
    "### **6. Removing parenthesis while keeping the inside content**"
   ]
  },
  {
   "cell_type": "code",
   "execution_count": 175,
   "metadata": {},
   "outputs": [
    {
     "name": "stdout",
     "output_type": "stream",
     "text": [
      "Unmatched values left in the dat folder : (2535, 6)\n",
      "Unmatched values left in big table : (506, 4)\n"
     ]
    }
   ],
   "source": [
    "# Create df_dat_left and df_big_left\n",
    "df_dat_left = pd.merge(df_merge_final2, df_dat_left, on='Name_modified_final', how='right', suffixes=('_big', '_dat'))\n",
    "df_dat_left = df_dat_left[df_dat_left['Name_big'].isna()]\n",
    "df_dat_left.dropna(axis=1, how='all', inplace=True)\n",
    "df_dat_left = df_dat_left.set_axis([re.sub('_dat', \"\", str(col)) for col in df_dat_left.columns], axis=1)\n",
    "print(f\"Unmatched values left in the dat folder : {df_dat_left.shape}\")\n",
    "df_big_left = df_merge_final2[df_merge_final2['Name_dat'].isna()].copy()\n",
    "df_big_left.dropna(axis=1, how='all', inplace=True)\n",
    "df_big_left = df_big_left.set_axis([re.sub('_big', \"\", str(col)) for col in df_big_left.columns], axis=1)\n",
    "print(f\"Unmatched values left in big table : {df_big_left.shape}\")"
   ]
  },
  {
   "cell_type": "code",
   "execution_count": 176,
   "metadata": {},
   "outputs": [
    {
     "name": "stdout",
     "output_type": "stream",
     "text": [
      "(506, 5)\n",
      "(2535, 7)\n"
     ]
    },
    {
     "data": {
      "text/html": [
       "<div>\n",
       "<style scoped>\n",
       "    .dataframe tbody tr th:only-of-type {\n",
       "        vertical-align: middle;\n",
       "    }\n",
       "\n",
       "    .dataframe tbody tr th {\n",
       "        vertical-align: top;\n",
       "    }\n",
       "\n",
       "    .dataframe thead th {\n",
       "        text-align: right;\n",
       "    }\n",
       "</style>\n",
       "<table border=\"1\" class=\"dataframe\">\n",
       "  <thead>\n",
       "    <tr style=\"text-align: right;\">\n",
       "      <th></th>\n",
       "      <th>Name_modified_final</th>\n",
       "      <th>Name_modified_by_family</th>\n",
       "      <th>Name_modified</th>\n",
       "      <th>Name</th>\n",
       "      <th>Size</th>\n",
       "      <th>First letter</th>\n",
       "      <th>Name_modified_parenthesis</th>\n",
       "    </tr>\n",
       "  </thead>\n",
       "  <tbody>\n",
       "    <tr>\n",
       "      <th>0</th>\n",
       "      <td>a18sm</td>\n",
       "      <td>a18sm</td>\n",
       "      <td>a18sm</td>\n",
       "      <td>a18sm.DAT</td>\n",
       "      <td>1795</td>\n",
       "      <td>a</td>\n",
       "      <td>a18sm</td>\n",
       "    </tr>\n",
       "    <tr>\n",
       "      <th>1</th>\n",
       "      <td>a63a108c</td>\n",
       "      <td>a63a108c</td>\n",
       "      <td>a63a108c</td>\n",
       "      <td>a63a108c.DAT</td>\n",
       "      <td>2278</td>\n",
       "      <td>a</td>\n",
       "      <td>a63a108c</td>\n",
       "    </tr>\n",
       "    <tr>\n",
       "      <th>2</th>\n",
       "      <td>ag03</td>\n",
       "      <td>ag03</td>\n",
       "      <td>ag03</td>\n",
       "      <td>ag03.DAT</td>\n",
       "      <td>4091</td>\n",
       "      <td>a</td>\n",
       "      <td>ag03</td>\n",
       "    </tr>\n",
       "    <tr>\n",
       "      <th>3</th>\n",
       "      <td>ag44ct02r</td>\n",
       "      <td>ag44ct02r</td>\n",
       "      <td>ag44ct02r</td>\n",
       "      <td>ag44ct02r.DAT</td>\n",
       "      <td>3856</td>\n",
       "      <td>a</td>\n",
       "      <td>ag44ct02r</td>\n",
       "    </tr>\n",
       "    <tr>\n",
       "      <th>4</th>\n",
       "      <td>ag455ct02r</td>\n",
       "      <td>ag455ct02r</td>\n",
       "      <td>ag455ct02r</td>\n",
       "      <td>ag455ct02r.DAT</td>\n",
       "      <td>3859</td>\n",
       "      <td>a</td>\n",
       "      <td>ag455ct02r</td>\n",
       "    </tr>\n",
       "  </tbody>\n",
       "</table>\n",
       "</div>"
      ],
      "text/plain": [
       "  Name_modified_final Name_modified_by_family Name_modified            Name  \\\n",
       "0               a18sm                   a18sm         a18sm       a18sm.DAT   \n",
       "1            a63a108c                a63a108c      a63a108c    a63a108c.DAT   \n",
       "2                ag03                    ag03          ag03        ag03.DAT   \n",
       "3           ag44ct02r               ag44ct02r     ag44ct02r   ag44ct02r.DAT   \n",
       "4          ag455ct02r              ag455ct02r    ag455ct02r  ag455ct02r.DAT   \n",
       "\n",
       "   Size First letter Name_modified_parenthesis  \n",
       "0  1795            a                     a18sm  \n",
       "1  2278            a                  a63a108c  \n",
       "2  4091            a                      ag03  \n",
       "3  3856            a                 ag44ct02r  \n",
       "4  3859            a                ag455ct02r  "
      ]
     },
     "execution_count": 176,
     "metadata": {},
     "output_type": "execute_result"
    }
   ],
   "source": [
    "# remove space and . then /\n",
    "df_big_left['Name_modified_parenthesis'] = df_big_left['Name_modified'].copy()\n",
    "df_big_left['Name_modified_parenthesis'] = df_big_left.loc[:, 'Name_modified_parenthesis'].apply(lambda x : (re.sub(\"\\(\", \"\", str(x))))\n",
    "df_big_left['Name_modified_parenthesis'] = df_big_left.loc[:, 'Name_modified_parenthesis'].apply(lambda x : (re.sub(\"\\)\", \"\", str(x))))\n",
    "\n",
    "\n",
    "print(df_big_left.shape)\n",
    "df_dat_left['Name_modified_parenthesis'] = df_dat_left['Name_modified'].copy()\n",
    "df_dat_left['Name_modified_parenthesis'] = df_dat_left.loc[:, 'Name_modified_parenthesis'].apply(lambda x : (re.sub(\"\\(\", \"\", str(x))))\n",
    "df_dat_left['Name_modified_parenthesis'] = df_dat_left.loc[:, 'Name_modified_parenthesis'].apply(lambda x : (re.sub(\"\\)\", \"\", str(x))))\n",
    "\n",
    "print(df_dat_left.shape)\n",
    "\n",
    "df_dat_left.head()"
   ]
  },
  {
   "cell_type": "code",
   "execution_count": 177,
   "metadata": {},
   "outputs": [
    {
     "name": "stdout",
     "output_type": "stream",
     "text": [
      "(506, 11)\n",
      "Le dataset contient 506 valeurs dont 0 correspondent aux fichiers dat.\n",
      "Il reste 506 valeurs à matcher.\n"
     ]
    },
    {
     "data": {
      "text/html": [
       "<div>\n",
       "<style scoped>\n",
       "    .dataframe tbody tr th:only-of-type {\n",
       "        vertical-align: middle;\n",
       "    }\n",
       "\n",
       "    .dataframe tbody tr th {\n",
       "        vertical-align: top;\n",
       "    }\n",
       "\n",
       "    .dataframe thead th {\n",
       "        text-align: right;\n",
       "    }\n",
       "</style>\n",
       "<table border=\"1\" class=\"dataframe\">\n",
       "  <thead>\n",
       "    <tr style=\"text-align: right;\">\n",
       "      <th></th>\n",
       "      <th>Name_big</th>\n",
       "      <th>Family</th>\n",
       "      <th>Name_modified_big</th>\n",
       "      <th>Name_modified_final_big</th>\n",
       "      <th>Name_modified_parenthesis</th>\n",
       "      <th>Name_modified_final_dat</th>\n",
       "      <th>Name_modified_by_family</th>\n",
       "      <th>Name_modified_dat</th>\n",
       "      <th>Name_dat</th>\n",
       "      <th>Size</th>\n",
       "      <th>First letter</th>\n",
       "    </tr>\n",
       "  </thead>\n",
       "  <tbody>\n",
       "    <tr>\n",
       "      <th>0</th>\n",
       "      <td>63A108 MOD C</td>\n",
       "      <td>NASA</td>\n",
       "      <td>63a108 mod c</td>\n",
       "      <td>63a108modc</td>\n",
       "      <td>63a108 mod c</td>\n",
       "      <td>NaN</td>\n",
       "      <td>NaN</td>\n",
       "      <td>NaN</td>\n",
       "      <td>NaN</td>\n",
       "      <td>NaN</td>\n",
       "      <td>NaN</td>\n",
       "    </tr>\n",
       "    <tr>\n",
       "      <th>1</th>\n",
       "      <td>A18 (SMOOTHED)</td>\n",
       "      <td>Uncategorized</td>\n",
       "      <td>a18 (smoothed)</td>\n",
       "      <td>a18smoothed</td>\n",
       "      <td>a18 smoothed</td>\n",
       "      <td>NaN</td>\n",
       "      <td>NaN</td>\n",
       "      <td>NaN</td>\n",
       "      <td>NaN</td>\n",
       "      <td>NaN</td>\n",
       "      <td>NaN</td>\n",
       "    </tr>\n",
       "    <tr>\n",
       "      <th>2</th>\n",
       "      <td>AG03 (FLAT AFT BOTTOM)</td>\n",
       "      <td>Drela</td>\n",
       "      <td>ag03 (flat aft bottom)</td>\n",
       "      <td>ag03flataftbottom</td>\n",
       "      <td>ag03 flat aft bottom</td>\n",
       "      <td>NaN</td>\n",
       "      <td>NaN</td>\n",
       "      <td>NaN</td>\n",
       "      <td>NaN</td>\n",
       "      <td>NaN</td>\n",
       "      <td>NaN</td>\n",
       "    </tr>\n",
       "    <tr>\n",
       "      <th>3</th>\n",
       "      <td>AG44CT -02F</td>\n",
       "      <td>Drela</td>\n",
       "      <td>ag44ct -02f</td>\n",
       "      <td>ag44ct02f</td>\n",
       "      <td>ag44ct -02f</td>\n",
       "      <td>NaN</td>\n",
       "      <td>NaN</td>\n",
       "      <td>NaN</td>\n",
       "      <td>NaN</td>\n",
       "      <td>NaN</td>\n",
       "      <td>NaN</td>\n",
       "    </tr>\n",
       "    <tr>\n",
       "      <th>4</th>\n",
       "      <td>AG455CT -02F ROT.</td>\n",
       "      <td>Drela</td>\n",
       "      <td>ag455ct -02f rot.</td>\n",
       "      <td>ag455ct02frot</td>\n",
       "      <td>ag455ct -02f rot.</td>\n",
       "      <td>NaN</td>\n",
       "      <td>NaN</td>\n",
       "      <td>NaN</td>\n",
       "      <td>NaN</td>\n",
       "      <td>NaN</td>\n",
       "      <td>NaN</td>\n",
       "    </tr>\n",
       "  </tbody>\n",
       "</table>\n",
       "</div>"
      ],
      "text/plain": [
       "                 Name_big         Family       Name_modified_big  \\\n",
       "0            63A108 MOD C           NASA            63a108 mod c   \n",
       "1          A18 (SMOOTHED)  Uncategorized          a18 (smoothed)   \n",
       "2  AG03 (FLAT AFT BOTTOM)          Drela  ag03 (flat aft bottom)   \n",
       "3             AG44CT -02F          Drela             ag44ct -02f   \n",
       "4       AG455CT -02F ROT.          Drela       ag455ct -02f rot.   \n",
       "\n",
       "  Name_modified_final_big Name_modified_parenthesis Name_modified_final_dat  \\\n",
       "0              63a108modc              63a108 mod c                     NaN   \n",
       "1             a18smoothed              a18 smoothed                     NaN   \n",
       "2       ag03flataftbottom      ag03 flat aft bottom                     NaN   \n",
       "3               ag44ct02f               ag44ct -02f                     NaN   \n",
       "4           ag455ct02frot         ag455ct -02f rot.                     NaN   \n",
       "\n",
       "  Name_modified_by_family Name_modified_dat Name_dat  Size First letter  \n",
       "0                     NaN               NaN      NaN   NaN          NaN  \n",
       "1                     NaN               NaN      NaN   NaN          NaN  \n",
       "2                     NaN               NaN      NaN   NaN          NaN  \n",
       "3                     NaN               NaN      NaN   NaN          NaN  \n",
       "4                     NaN               NaN      NaN   NaN          NaN  "
      ]
     },
     "execution_count": 177,
     "metadata": {},
     "output_type": "execute_result"
    }
   ],
   "source": [
    "# By merging using 'inner', we obtain xx correspondances \n",
    "df_merge_final3 = pd.merge(df_big_left, df_dat_left, on='Name_modified_parenthesis', how='left', suffixes=('_big', '_dat'))\n",
    "# df_merge_final3.dropna(axis=1, how='all', inplace=True)\n",
    "print(df_merge_final3.shape)\n",
    "nb_mismatch = df_merge_final3[df_merge_final3['Name_dat'].isna()].shape[0]\n",
    "nb_match = df_merge_final3.shape[0] - nb_mismatch\n",
    "print(f'Le dataset contient {df_merge_final3.shape[0]} valeurs dont {nb_match} correspondent aux fichiers dat.')\n",
    "print(f'Il reste {nb_mismatch} valeurs à matcher.')\n",
    "df_merge_final3.head()"
   ]
  },
  {
   "cell_type": "code",
   "execution_count": 178,
   "metadata": {},
   "outputs": [
    {
     "data": {
      "text/plain": [
       "Family\n",
       "Uncategorized    99\n",
       "Hepperle         49\n",
       "Selig et. al.    48\n",
       "Boeing           32\n",
       "Leinauer         25\n",
       "NACA/Munk        24\n",
       "Wortmann         23\n",
       "NASA             20\n",
       "Eppler           19\n",
       "Barth            15\n",
       "Lockheed         14\n",
       "Gulfstream       14\n",
       "NACA             13\n",
       "Pflug            12\n",
       "Althaus          11\n",
       "Gottingen         9\n",
       "Drela             9\n",
       "Sikorsky          8\n",
       "Onera             7\n",
       "Marske            6\n",
       "Name: nb_na, dtype: int64"
      ]
     },
     "execution_count": 178,
     "metadata": {},
     "output_type": "execute_result"
    }
   ],
   "source": [
    "# Count the number of missing values per family \n",
    "family = df_merge_final3.groupby(['Family']).count()\n",
    "mask_family = (family['Name_big'] != family['Name_dat'])\n",
    "family_na = family[mask_family].copy()\n",
    "family_na['nb_na'] = family_na['Name_big'] - family_na['Size']\n",
    "# We are interested by the 5 families with the most of na\n",
    "family_na['nb_na'].sort_values(ascending=False).head(20)"
   ]
  },
  {
   "cell_type": "markdown",
   "metadata": {},
   "source": [
    "### **7. Removing whats between parenthesis with manual verif**"
   ]
  },
  {
   "cell_type": "code",
   "execution_count": 179,
   "metadata": {},
   "outputs": [
    {
     "name": "stdout",
     "output_type": "stream",
     "text": [
      "Unmatched values left in the dat folder : (2535, 7)\n",
      "Unmatched values left in big table : (506, 5)\n"
     ]
    }
   ],
   "source": [
    "# Create df_dat_left and df_big_left\n",
    "df_dat_left = pd.merge(df_merge_final3, df_dat_left, on='Name_modified_parenthesis', how='right', suffixes=('_big', '_dat'))\n",
    "df_dat_left = df_dat_left[df_dat_left['Name_big'].isna()]\n",
    "df_dat_left.dropna(axis=1, how='all', inplace=True)\n",
    "df_dat_left = df_dat_left.set_axis([re.sub('_dat', \"\", str(col)) for col in df_dat_left.columns], axis=1)\n",
    "print(f\"Unmatched values left in the dat folder : {df_dat_left.shape}\")\n",
    "df_big_left = df_merge_final3[df_merge_final3['Name_dat'].isna()].copy()\n",
    "df_big_left.dropna(axis=1, how='all', inplace=True)\n",
    "df_big_left = df_big_left.set_axis([re.sub('_big', \"\", str(col)) for col in df_big_left.columns], axis=1)\n",
    "print(f\"Unmatched values left in big table : {df_big_left.shape}\")"
   ]
  },
  {
   "cell_type": "code",
   "execution_count": 180,
   "metadata": {},
   "outputs": [
    {
     "name": "stdout",
     "output_type": "stream",
     "text": [
      "(506, 7)\n",
      "(2535, 9)\n"
     ]
    },
    {
     "data": {
      "text/html": [
       "<div>\n",
       "<style scoped>\n",
       "    .dataframe tbody tr th:only-of-type {\n",
       "        vertical-align: middle;\n",
       "    }\n",
       "\n",
       "    .dataframe tbody tr th {\n",
       "        vertical-align: top;\n",
       "    }\n",
       "\n",
       "    .dataframe thead th {\n",
       "        text-align: right;\n",
       "    }\n",
       "</style>\n",
       "<table border=\"1\" class=\"dataframe\">\n",
       "  <thead>\n",
       "    <tr style=\"text-align: right;\">\n",
       "      <th></th>\n",
       "      <th>Name_modified_parenthesis</th>\n",
       "      <th>Name_modified_final</th>\n",
       "      <th>Name_modified_by_family</th>\n",
       "      <th>Name_modified</th>\n",
       "      <th>Name</th>\n",
       "      <th>Size</th>\n",
       "      <th>First letter</th>\n",
       "      <th>Name_without_parenthesisl</th>\n",
       "      <th>parenthesis_content</th>\n",
       "    </tr>\n",
       "  </thead>\n",
       "  <tbody>\n",
       "    <tr>\n",
       "      <th>0</th>\n",
       "      <td>a18sm</td>\n",
       "      <td>a18sm</td>\n",
       "      <td>a18sm</td>\n",
       "      <td>a18sm</td>\n",
       "      <td>a18sm.DAT</td>\n",
       "      <td>1795</td>\n",
       "      <td>a</td>\n",
       "      <td>a18sm</td>\n",
       "      <td>[]</td>\n",
       "    </tr>\n",
       "    <tr>\n",
       "      <th>1</th>\n",
       "      <td>a63a108c</td>\n",
       "      <td>a63a108c</td>\n",
       "      <td>a63a108c</td>\n",
       "      <td>a63a108c</td>\n",
       "      <td>a63a108c.DAT</td>\n",
       "      <td>2278</td>\n",
       "      <td>a</td>\n",
       "      <td>a63a108c</td>\n",
       "      <td>[]</td>\n",
       "    </tr>\n",
       "    <tr>\n",
       "      <th>2</th>\n",
       "      <td>ag03</td>\n",
       "      <td>ag03</td>\n",
       "      <td>ag03</td>\n",
       "      <td>ag03</td>\n",
       "      <td>ag03.DAT</td>\n",
       "      <td>4091</td>\n",
       "      <td>a</td>\n",
       "      <td>ag03</td>\n",
       "      <td>[]</td>\n",
       "    </tr>\n",
       "    <tr>\n",
       "      <th>3</th>\n",
       "      <td>ag44ct02r</td>\n",
       "      <td>ag44ct02r</td>\n",
       "      <td>ag44ct02r</td>\n",
       "      <td>ag44ct02r</td>\n",
       "      <td>ag44ct02r.DAT</td>\n",
       "      <td>3856</td>\n",
       "      <td>a</td>\n",
       "      <td>ag44ct02r</td>\n",
       "      <td>[]</td>\n",
       "    </tr>\n",
       "    <tr>\n",
       "      <th>4</th>\n",
       "      <td>ag455ct02r</td>\n",
       "      <td>ag455ct02r</td>\n",
       "      <td>ag455ct02r</td>\n",
       "      <td>ag455ct02r</td>\n",
       "      <td>ag455ct02r.DAT</td>\n",
       "      <td>3859</td>\n",
       "      <td>a</td>\n",
       "      <td>ag455ct02r</td>\n",
       "      <td>[]</td>\n",
       "    </tr>\n",
       "  </tbody>\n",
       "</table>\n",
       "</div>"
      ],
      "text/plain": [
       "  Name_modified_parenthesis Name_modified_final Name_modified_by_family  \\\n",
       "0                     a18sm               a18sm                   a18sm   \n",
       "1                  a63a108c            a63a108c                a63a108c   \n",
       "2                      ag03                ag03                    ag03   \n",
       "3                 ag44ct02r           ag44ct02r               ag44ct02r   \n",
       "4                ag455ct02r          ag455ct02r              ag455ct02r   \n",
       "\n",
       "  Name_modified            Name  Size First letter Name_without_parenthesisl  \\\n",
       "0         a18sm       a18sm.DAT  1795            a                     a18sm   \n",
       "1      a63a108c    a63a108c.DAT  2278            a                  a63a108c   \n",
       "2          ag03        ag03.DAT  4091            a                      ag03   \n",
       "3     ag44ct02r   ag44ct02r.DAT  3856            a                 ag44ct02r   \n",
       "4    ag455ct02r  ag455ct02r.DAT  3859            a                ag455ct02r   \n",
       "\n",
       "  parenthesis_content  \n",
       "0                  []  \n",
       "1                  []  \n",
       "2                  []  \n",
       "3                  []  \n",
       "4                  []  "
      ]
     },
     "execution_count": 180,
     "metadata": {},
     "output_type": "execute_result"
    }
   ],
   "source": [
    "# remove space and . then /\n",
    "df_big_left['Name_without_parenthesisl'] = df_big_left['Name_modified_final'].copy()\n",
    "df_big_left['Name_without_parenthesisl'] = df_big_left.loc[:, 'Name_without_parenthesisl'].apply(lambda x : (re.sub('\\(.*?\\)', \"\", str(x))))\n",
    "df_big_left['parenthesis_content'] = df_big_left['Name_modified_final'].copy()\n",
    "df_big_left['parenthesis_content'] = df_big_left.loc[:, 'parenthesis_content'].apply(lambda x : (re.findall('\\(.*?\\)', str(x))))\n",
    "# df_big_left['Name_without_parenthesisl'] = df_big_left.loc[:, 'Name_without_parenthesisl'].apply(lambda x : (re.sub(\"\\.\", \"\", str(x))))\n",
    "# df_big_left['Name_without_parenthesisl'] = df_big_left.loc[:, 'Name_without_parenthesisl'].apply(lambda x : (re.sub(\"/\", \"\", str(x))))\n",
    "# df_big_left['Name_without_parenthesisl'] = df_big_left.loc[:, 'Name_without_parenthesisl'].apply(lambda x : (re.sub(\"-\", \"\", str(x))))\n",
    "# df_big_left['Name_without_parenthesisl'] = df_big_left.loc[:, 'Name_without_parenthesisl'].apply(lambda x : (re.sub(\"\\%\", \"\", str(x))))\n",
    "print(df_big_left.shape)\n",
    "df_dat_left['Name_without_parenthesisl'] = df_dat_left['Name_modified_final'].copy()\n",
    "df_dat_left['Name_without_parenthesisl'] = df_dat_left.loc[:, 'Name_without_parenthesisl'].apply(lambda x : (re.sub('\\(.*?\\)', \"\", str(x))))\n",
    "df_dat_left['parenthesis_content'] = df_dat_left['Name_modified_final'].copy()\n",
    "df_dat_left['parenthesis_content'] = df_dat_left.loc[:, 'parenthesis_content'].apply(lambda x : (re.findall('\\(.*?\\)', str(x))))\n",
    "# df_dat_left['Name_without_parenthesisl'] = df_dat_left.loc[:, 'Name_without_parenthesisl'].apply(lambda x : (re.sub(\"\\.\", \"\", str(x))))\n",
    "# df_dat_left['Name_without_parenthesisl'] = df_dat_left.loc[:, 'Name_without_parenthesisl'].apply(lambda x : (re.sub(\"/\", \"\", str(x))))\n",
    "# df_dat_left['Name_without_parenthesisl'] = df_dat_left.loc[:, 'Name_without_parenthesisl'].apply(lambda x : (re.sub(\"-\", \"\", str(x))))\n",
    "# df_dat_left['Name_without_parenthesisl'] = df_dat_left.loc[:, 'Name_without_parenthesisl'].apply(lambda x : (re.sub(\"%\", \"\", str(x))))\n",
    "print(df_dat_left.shape)\n",
    "\n",
    "df_dat_left.head()"
   ]
  },
  {
   "cell_type": "markdown",
   "metadata": {},
   "source": [
    "Traitement des doublons"
   ]
  },
  {
   "cell_type": "code",
   "execution_count": 181,
   "metadata": {},
   "outputs": [
    {
     "name": "stdout",
     "output_type": "stream",
     "text": [
      "Nombre de doublon dans le dossier dat :  0\n",
      "Nombre de doublons dans la bigtable : 1\n",
      "['sikorskysc1094r8']\n"
     ]
    }
   ],
   "source": [
    "# Vérification des doublons après le retrait du contenu entre parenthèses\n",
    "print('Nombre de doublon dans le dossier dat : ', df_dat_left[df_dat_left['Name_without_parenthesisl'].value_counts().values != 1].count().sum())\n",
    "# Aucun doublon pour les ailes du fichier dat\n",
    "doublon_big = df_big_left['Name_without_parenthesisl'].value_counts().index[df_big_left['Name_without_parenthesisl'].value_counts().values > 1]\n",
    "print(f'Nombre de doublons dans la bigtable : {len(doublon_big)}')\n",
    "print([i for i in doublon_big])"
   ]
  },
  {
   "cell_type": "code",
   "execution_count": 182,
   "metadata": {},
   "outputs": [
    {
     "name": "stdout",
     "output_type": "stream",
     "text": [
      "['sikorskysc1094r8']\n",
      "[478, 479]\n"
     ]
    }
   ],
   "source": [
    "doublon_index = []\n",
    "for i in doublon_big:\n",
    "    temp = df_big_left[df_big_left['Name_without_parenthesisl'] == i].index\n",
    "    doublon_index.append(temp[0])\n",
    "    doublon_index.append(temp[1])\n",
    "print(doublon_big.values)\n",
    "print(doublon_index)"
   ]
  },
  {
   "cell_type": "code",
   "execution_count": 183,
   "metadata": {},
   "outputs": [
    {
     "data": {
      "text/html": [
       "<div>\n",
       "<style scoped>\n",
       "    .dataframe tbody tr th:only-of-type {\n",
       "        vertical-align: middle;\n",
       "    }\n",
       "\n",
       "    .dataframe tbody tr th {\n",
       "        vertical-align: top;\n",
       "    }\n",
       "\n",
       "    .dataframe thead th {\n",
       "        text-align: right;\n",
       "    }\n",
       "</style>\n",
       "<table border=\"1\" class=\"dataframe\">\n",
       "  <thead>\n",
       "    <tr style=\"text-align: right;\">\n",
       "      <th></th>\n",
       "      <th>Name</th>\n",
       "      <th>Family</th>\n",
       "      <th>Name_modified</th>\n",
       "      <th>Name_modified_final</th>\n",
       "      <th>Name_modified_parenthesis</th>\n",
       "      <th>Name_without_parenthesisl</th>\n",
       "      <th>parenthesis_content</th>\n",
       "    </tr>\n",
       "  </thead>\n",
       "  <tbody>\n",
       "    <tr>\n",
       "      <th>478</th>\n",
       "      <td>SIKORSKY SC1094 R8</td>\n",
       "      <td>Sikorsky</td>\n",
       "      <td>sikorsky sc1094 r8</td>\n",
       "      <td>sikorskysc1094r8</td>\n",
       "      <td>sikorsky sc1094 r8</td>\n",
       "      <td>sikorskysc1094r8</td>\n",
       "      <td>[]</td>\n",
       "    </tr>\n",
       "    <tr>\n",
       "      <th>479</th>\n",
       "      <td>SIKORSKY SC1094R8</td>\n",
       "      <td>Sikorsky</td>\n",
       "      <td>sikorsky sc1094r8</td>\n",
       "      <td>sikorskysc1094r8</td>\n",
       "      <td>sikorsky sc1094r8</td>\n",
       "      <td>sikorskysc1094r8</td>\n",
       "      <td>[]</td>\n",
       "    </tr>\n",
       "  </tbody>\n",
       "</table>\n",
       "</div>"
      ],
      "text/plain": [
       "                   Name    Family       Name_modified Name_modified_final  \\\n",
       "478  SIKORSKY SC1094 R8  Sikorsky  sikorsky sc1094 r8    sikorskysc1094r8   \n",
       "479   SIKORSKY SC1094R8  Sikorsky   sikorsky sc1094r8    sikorskysc1094r8   \n",
       "\n",
       "    Name_modified_parenthesis Name_without_parenthesisl parenthesis_content  \n",
       "478        sikorsky sc1094 r8          sikorskysc1094r8                  []  \n",
       "479         sikorsky sc1094r8          sikorskysc1094r8                  []  "
      ]
     },
     "execution_count": 183,
     "metadata": {},
     "output_type": "execute_result"
    }
   ],
   "source": [
    "df_big_left.loc[doublon_index, :]"
   ]
  },
  {
   "cell_type": "code",
   "execution_count": 184,
   "metadata": {},
   "outputs": [],
   "source": [
    "# Manual affectation of the duplicates after verification\n",
    "# à vérifier\n",
    "# df_big_left.loc[402, ['Name_without_parenthesisl']] = 'm6_65'\n",
    "# df_big_left.loc[403, ['Name_without_parenthesisl']] = 'm6_85'\n",
    "# df_big_left.loc[450, ['Name_without_parenthesisl']] = 'rc410'\n",
    "# df_big_left.loc[451, ['Name_without_parenthesisl']] = 'rc510'"
   ]
  },
  {
   "cell_type": "code",
   "execution_count": 185,
   "metadata": {},
   "outputs": [
    {
     "data": {
      "text/plain": [
       "(506, 15)"
      ]
     },
     "execution_count": 185,
     "metadata": {},
     "output_type": "execute_result"
    }
   ],
   "source": [
    "df_merge_final4 = pd.merge(df_big_left, df_dat_left, on='Name_without_parenthesisl', how='left', suffixes=('_big', '_dat'))\n",
    "df_merge_final4.shape"
   ]
  },
  {
   "cell_type": "code",
   "execution_count": 186,
   "metadata": {},
   "outputs": [
    {
     "data": {
      "text/plain": [
       "506"
      ]
     },
     "execution_count": 186,
     "metadata": {},
     "output_type": "execute_result"
    }
   ],
   "source": [
    "# Count the number of missing values per family \n",
    "family = df_merge_final4.groupby(['Family']).count()\n",
    "mask_family = (family['Name_big'] != family['Name_dat'])\n",
    "family_na = family[mask_family].copy()\n",
    "family_na['nb_na'] = family_na['Name_big'] - family_na['Size']\n",
    "# We are interested by the 5 families with the most of na\n",
    "family_na['nb_na'].sort_values(ascending=False).sum()"
   ]
  },
  {
   "cell_type": "code",
   "execution_count": 187,
   "metadata": {},
   "outputs": [],
   "source": [
    "# faire des fonctions\n"
   ]
  }
 ],
 "metadata": {
  "kernelspec": {
   "display_name": "base",
   "language": "python",
   "name": "python3"
  },
  "language_info": {
   "codemirror_mode": {
    "name": "ipython",
    "version": 3
   },
   "file_extension": ".py",
   "mimetype": "text/x-python",
   "name": "python",
   "nbconvert_exporter": "python",
   "pygments_lexer": "ipython3",
   "version": "3.11.5"
  }
 },
 "nbformat": 4,
 "nbformat_minor": 2
}
