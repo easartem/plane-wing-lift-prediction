{
 "cells": [
  {
   "cell_type": "code",
   "execution_count": 33,
   "metadata": {},
   "outputs": [],
   "source": [
    "import pandas as pd\n",
    "import numpy as np"
   ]
  },
  {
   "cell_type": "code",
   "execution_count": 34,
   "metadata": {},
   "outputs": [],
   "source": [
    "df_bigtable = pd.read_csv('data/ailes_avion.csv', usecols=['Name', 'Family', 'Thickness(%)', 'x-Location_of_Max_Thk(%)', 'Camber(%)'])\n",
    "df_index = pd.read_csv('data/index_matchmaking.csv', usecols=['Name_big', 'Name_dat'])\n",
    "df_coord = pd.read_csv('data/df_coordinates.csv')"
   ]
  },
  {
   "cell_type": "code",
   "execution_count": 35,
   "metadata": {},
   "outputs": [
    {
     "data": {
      "text/plain": [
       "Index(['Name', 'Family', 'Thickness(%)', 'x-Location_of_Max_Thk(%)',\n",
       "       'Camber(%)'],\n",
       "      dtype='object')"
      ]
     },
     "execution_count": 35,
     "metadata": {},
     "output_type": "execute_result"
    }
   ],
   "source": [
    "df_bigtable.columns"
   ]
  },
  {
   "cell_type": "code",
   "execution_count": 36,
   "metadata": {},
   "outputs": [
    {
     "data": {
      "text/plain": [
       "Index(['Name', 'Name_dat'], dtype='object')"
      ]
     },
     "execution_count": 36,
     "metadata": {},
     "output_type": "execute_result"
    }
   ],
   "source": [
    "df_index.rename(columns={\"Name_big\": \"Name\"}, inplace=True)\n",
    "df_index.columns\n"
   ]
  },
  {
   "cell_type": "code",
   "execution_count": 37,
   "metadata": {},
   "outputs": [],
   "source": [
    "df_bigtable_indexed = pd.merge(df_bigtable, df_index, on=\"Name\", how=\"inner\")"
   ]
  },
  {
   "cell_type": "code",
   "execution_count": 38,
   "metadata": {},
   "outputs": [
    {
     "name": "stdout",
     "output_type": "stream",
     "text": [
      "(6324, 5)\n",
      "(6307, 6)\n",
      "(6303, 2)\n",
      "(6303, 3)\n"
     ]
    }
   ],
   "source": [
    "print(df_bigtable.shape)\n",
    "print(df_bigtable_indexed.shape)\n",
    "print(df_index.shape)\n",
    "print(df_coord.shape)"
   ]
  },
  {
   "cell_type": "code",
   "execution_count": 39,
   "metadata": {},
   "outputs": [
    {
     "data": {
      "text/plain": [
       "Index(['Name', 'Family', 'Thickness(%)', 'x-Location_of_Max_Thk(%)',\n",
       "       'Camber(%)', 'Name_dat'],\n",
       "      dtype='object')"
      ]
     },
     "execution_count": 39,
     "metadata": {},
     "output_type": "execute_result"
    }
   ],
   "source": [
    "df_bigtable_indexed.columns"
   ]
  },
  {
   "cell_type": "code",
   "execution_count": 40,
   "metadata": {},
   "outputs": [
    {
     "data": {
      "text/plain": [
       "Index(['name', 'new_x_coord', 'new_y_coord'], dtype='object')"
      ]
     },
     "execution_count": 40,
     "metadata": {},
     "output_type": "execute_result"
    }
   ],
   "source": [
    "df_coord.columns"
   ]
  },
  {
   "cell_type": "code",
   "execution_count": 41,
   "metadata": {},
   "outputs": [],
   "source": [
    "df_coord.rename(columns={\"name\": \"Name_dat\"}, inplace=True)\n",
    "df_big_coord = pd.merge(df_bigtable_indexed, df_coord, on=\"Name_dat\", how=\"inner\")"
   ]
  },
  {
   "cell_type": "code",
   "execution_count": 42,
   "metadata": {},
   "outputs": [
    {
     "data": {
      "text/html": [
       "<div>\n",
       "<style scoped>\n",
       "    .dataframe tbody tr th:only-of-type {\n",
       "        vertical-align: middle;\n",
       "    }\n",
       "\n",
       "    .dataframe tbody tr th {\n",
       "        vertical-align: top;\n",
       "    }\n",
       "\n",
       "    .dataframe thead th {\n",
       "        text-align: right;\n",
       "    }\n",
       "</style>\n",
       "<table border=\"1\" class=\"dataframe\">\n",
       "  <thead>\n",
       "    <tr style=\"text-align: right;\">\n",
       "      <th></th>\n",
       "      <th>Name</th>\n",
       "      <th>Family</th>\n",
       "      <th>Thickness(%)</th>\n",
       "      <th>x-Location_of_Max_Thk(%)</th>\n",
       "      <th>Camber(%)</th>\n",
       "      <th>Name_dat</th>\n",
       "      <th>new_x_coord</th>\n",
       "      <th>new_y_coord</th>\n",
       "    </tr>\n",
       "  </thead>\n",
       "  <tbody>\n",
       "    <tr>\n",
       "      <th>0</th>\n",
       "      <td>63A108 MOD C</td>\n",
       "      <td>NASA</td>\n",
       "      <td>7.7</td>\n",
       "      <td>30.1</td>\n",
       "      <td>0.6</td>\n",
       "      <td>a63a108c.DAT</td>\n",
       "      <td>[0.         0.02040816 0.04081633 0.06122449 0...</td>\n",
       "      <td>[ 0.         -0.01572449 -0.01982653 -0.022561...</td>\n",
       "    </tr>\n",
       "    <tr>\n",
       "      <th>1</th>\n",
       "      <td>A18</td>\n",
       "      <td>Uncategorized</td>\n",
       "      <td>7.3</td>\n",
       "      <td>30.1</td>\n",
       "      <td>3.2</td>\n",
       "      <td>a18.DAT</td>\n",
       "      <td>[0.         0.02040816 0.04081633 0.06122449 0...</td>\n",
       "      <td>[        nan -0.01334918 -0.01661122 -0.017834...</td>\n",
       "    </tr>\n",
       "    <tr>\n",
       "      <th>2</th>\n",
       "      <td>A18 (SMOOTHED)</td>\n",
       "      <td>Uncategorized</td>\n",
       "      <td>7.3</td>\n",
       "      <td>26.5</td>\n",
       "      <td>3.8</td>\n",
       "      <td>a18sm.DAT</td>\n",
       "      <td>[0.         0.02040816 0.04081633 0.06122449 0...</td>\n",
       "      <td>[        nan -0.01281714 -0.01568143 -0.016827...</td>\n",
       "    </tr>\n",
       "    <tr>\n",
       "      <th>3</th>\n",
       "      <td>A6014-S</td>\n",
       "      <td>Ayers</td>\n",
       "      <td>6.0</td>\n",
       "      <td>30.1</td>\n",
       "      <td>1.4</td>\n",
       "      <td>A6014-S.DAT</td>\n",
       "      <td>[0.         0.02040816 0.04081633 0.06122449 0...</td>\n",
       "      <td>[-7.67755102e-04 -9.59693878e-03 -1.26679592e-...</td>\n",
       "    </tr>\n",
       "    <tr>\n",
       "      <th>4</th>\n",
       "      <td>A6016-S</td>\n",
       "      <td>Ayers</td>\n",
       "      <td>6.0</td>\n",
       "      <td>30.1</td>\n",
       "      <td>1.6</td>\n",
       "      <td>A6016-S.DAT</td>\n",
       "      <td>[0.         0.02040816 0.04081633 0.06122449 0...</td>\n",
       "      <td>[ 0.00000000e+00 -8.77632653e-03 -1.11391837e-...</td>\n",
       "    </tr>\n",
       "    <tr>\n",
       "      <th>...</th>\n",
       "      <td>...</td>\n",
       "      <td>...</td>\n",
       "      <td>...</td>\n",
       "      <td>...</td>\n",
       "      <td>...</td>\n",
       "      <td>...</td>\n",
       "      <td>...</td>\n",
       "      <td>...</td>\n",
       "    </tr>\n",
       "    <tr>\n",
       "      <th>6302</th>\n",
       "      <td>ZONE-25</td>\n",
       "      <td>Taylor</td>\n",
       "      <td>5.0</td>\n",
       "      <td>17.0</td>\n",
       "      <td>1.2</td>\n",
       "      <td>Zone-25.DAT</td>\n",
       "      <td>[0.         0.02040816 0.04081633 0.06122449 0...</td>\n",
       "      <td>[        nan -0.00918419 -0.01151417 -0.012845...</td>\n",
       "    </tr>\n",
       "    <tr>\n",
       "      <th>6303</th>\n",
       "      <td>ZONE-36</td>\n",
       "      <td>Taylor</td>\n",
       "      <td>5.1</td>\n",
       "      <td>18.4</td>\n",
       "      <td>1.4</td>\n",
       "      <td>Zone-36.DAT</td>\n",
       "      <td>[0.         0.02040816 0.04081633 0.06122449 0...</td>\n",
       "      <td>[            nan -9.25439571e-03 -1.13429457e-...</td>\n",
       "    </tr>\n",
       "    <tr>\n",
       "      <th>6304</th>\n",
       "      <td>ZONE-40</td>\n",
       "      <td>Taylor</td>\n",
       "      <td>5.3</td>\n",
       "      <td>18.4</td>\n",
       "      <td>1.4</td>\n",
       "      <td>Zone-40.DAT</td>\n",
       "      <td>[0.         0.02040816 0.04081633 0.06122449 0...</td>\n",
       "      <td>[        nan -0.00929562 -0.01167274 -0.012861...</td>\n",
       "    </tr>\n",
       "    <tr>\n",
       "      <th>6305</th>\n",
       "      <td>ZONE-46</td>\n",
       "      <td>Taylor</td>\n",
       "      <td>5.5</td>\n",
       "      <td>19.9</td>\n",
       "      <td>1.5</td>\n",
       "      <td>Zone-46.DAT</td>\n",
       "      <td>[0.         0.02040816 0.04081633 0.06122449 0...</td>\n",
       "      <td>[        nan -0.00944521 -0.01181254 -0.012996...</td>\n",
       "    </tr>\n",
       "    <tr>\n",
       "      <th>6306</th>\n",
       "      <td>ZONE-52</td>\n",
       "      <td>Taylor</td>\n",
       "      <td>6.1</td>\n",
       "      <td>21.4</td>\n",
       "      <td>1.6</td>\n",
       "      <td>Zone-52.DAT</td>\n",
       "      <td>[0.         0.02040816 0.04081633 0.06122449 0...</td>\n",
       "      <td>[ 0.         -0.01021112 -0.01284625 -0.014493...</td>\n",
       "    </tr>\n",
       "  </tbody>\n",
       "</table>\n",
       "<p>6307 rows × 8 columns</p>\n",
       "</div>"
      ],
      "text/plain": [
       "                Name         Family  Thickness(%)  x-Location_of_Max_Thk(%)  \\\n",
       "0       63A108 MOD C           NASA           7.7                      30.1   \n",
       "1                A18  Uncategorized           7.3                      30.1   \n",
       "2     A18 (SMOOTHED)  Uncategorized           7.3                      26.5   \n",
       "3            A6014-S          Ayers           6.0                      30.1   \n",
       "4            A6016-S          Ayers           6.0                      30.1   \n",
       "...              ...            ...           ...                       ...   \n",
       "6302         ZONE-25         Taylor           5.0                      17.0   \n",
       "6303         ZONE-36         Taylor           5.1                      18.4   \n",
       "6304         ZONE-40         Taylor           5.3                      18.4   \n",
       "6305         ZONE-46         Taylor           5.5                      19.9   \n",
       "6306         ZONE-52         Taylor           6.1                      21.4   \n",
       "\n",
       "     Camber(%)      Name_dat  \\\n",
       "0          0.6  a63a108c.DAT   \n",
       "1          3.2       a18.DAT   \n",
       "2          3.8     a18sm.DAT   \n",
       "3          1.4   A6014-S.DAT   \n",
       "4          1.6   A6016-S.DAT   \n",
       "...        ...           ...   \n",
       "6302       1.2   Zone-25.DAT   \n",
       "6303       1.4   Zone-36.DAT   \n",
       "6304       1.4   Zone-40.DAT   \n",
       "6305       1.5   Zone-46.DAT   \n",
       "6306       1.6   Zone-52.DAT   \n",
       "\n",
       "                                            new_x_coord  \\\n",
       "0     [0.         0.02040816 0.04081633 0.06122449 0...   \n",
       "1     [0.         0.02040816 0.04081633 0.06122449 0...   \n",
       "2     [0.         0.02040816 0.04081633 0.06122449 0...   \n",
       "3     [0.         0.02040816 0.04081633 0.06122449 0...   \n",
       "4     [0.         0.02040816 0.04081633 0.06122449 0...   \n",
       "...                                                 ...   \n",
       "6302  [0.         0.02040816 0.04081633 0.06122449 0...   \n",
       "6303  [0.         0.02040816 0.04081633 0.06122449 0...   \n",
       "6304  [0.         0.02040816 0.04081633 0.06122449 0...   \n",
       "6305  [0.         0.02040816 0.04081633 0.06122449 0...   \n",
       "6306  [0.         0.02040816 0.04081633 0.06122449 0...   \n",
       "\n",
       "                                            new_y_coord  \n",
       "0     [ 0.         -0.01572449 -0.01982653 -0.022561...  \n",
       "1     [        nan -0.01334918 -0.01661122 -0.017834...  \n",
       "2     [        nan -0.01281714 -0.01568143 -0.016827...  \n",
       "3     [-7.67755102e-04 -9.59693878e-03 -1.26679592e-...  \n",
       "4     [ 0.00000000e+00 -8.77632653e-03 -1.11391837e-...  \n",
       "...                                                 ...  \n",
       "6302  [        nan -0.00918419 -0.01151417 -0.012845...  \n",
       "6303  [            nan -9.25439571e-03 -1.13429457e-...  \n",
       "6304  [        nan -0.00929562 -0.01167274 -0.012861...  \n",
       "6305  [        nan -0.00944521 -0.01181254 -0.012996...  \n",
       "6306  [ 0.         -0.01021112 -0.01284625 -0.014493...  \n",
       "\n",
       "[6307 rows x 8 columns]"
      ]
     },
     "execution_count": 42,
     "metadata": {},
     "output_type": "execute_result"
    }
   ],
   "source": [
    "df_big_coord"
   ]
  }
 ],
 "metadata": {
  "kernelspec": {
   "display_name": "base",
   "language": "python",
   "name": "python3"
  },
  "language_info": {
   "codemirror_mode": {
    "name": "ipython",
    "version": 3
   },
   "file_extension": ".py",
   "mimetype": "text/x-python",
   "name": "python",
   "nbconvert_exporter": "python",
   "pygments_lexer": "ipython3",
   "version": "3.11.5"
  }
 },
 "nbformat": 4,
 "nbformat_minor": 2
}
