{
 "cells": [
  {
   "cell_type": "code",
   "execution_count": 761,
   "metadata": {},
   "outputs": [],
   "source": [
    "import os\n",
    "import pandas as pd\n",
    "import numpy as np\n",
    "import regex as re"
   ]
  },
  {
   "cell_type": "markdown",
   "metadata": {},
   "source": [
    "# Set Up"
   ]
  },
  {
   "cell_type": "markdown",
   "metadata": {},
   "source": [
    "### Get CSV and check duplicates"
   ]
  },
  {
   "cell_type": "code",
   "execution_count": 762,
   "metadata": {},
   "outputs": [],
   "source": [
    "pd.set_option('display.max_row', 8353 )"
   ]
  },
  {
   "cell_type": "code",
   "execution_count": 763,
   "metadata": {},
   "outputs": [
    {
     "name": "stdout",
     "output_type": "stream",
     "text": [
      "(8353, 2)\n"
     ]
    },
    {
     "data": {
      "text/html": [
       "<div>\n",
       "<style scoped>\n",
       "    .dataframe tbody tr th:only-of-type {\n",
       "        vertical-align: middle;\n",
       "    }\n",
       "\n",
       "    .dataframe tbody tr th {\n",
       "        vertical-align: top;\n",
       "    }\n",
       "\n",
       "    .dataframe thead th {\n",
       "        text-align: right;\n",
       "    }\n",
       "</style>\n",
       "<table border=\"1\" class=\"dataframe\">\n",
       "  <thead>\n",
       "    <tr style=\"text-align: right;\">\n",
       "      <th></th>\n",
       "      <th>Name</th>\n",
       "      <th>Size</th>\n",
       "    </tr>\n",
       "  </thead>\n",
       "  <tbody>\n",
       "    <tr>\n",
       "      <th>0</th>\n",
       "      <td>a18.DAT</td>\n",
       "      <td>945</td>\n",
       "    </tr>\n",
       "    <tr>\n",
       "      <th>1</th>\n",
       "      <td>a18sm.DAT</td>\n",
       "      <td>1795</td>\n",
       "    </tr>\n",
       "    <tr>\n",
       "      <th>2</th>\n",
       "      <td>A6014-S.DAT</td>\n",
       "      <td>6116</td>\n",
       "    </tr>\n",
       "    <tr>\n",
       "      <th>3</th>\n",
       "      <td>A6016-S.DAT</td>\n",
       "      <td>5914</td>\n",
       "    </tr>\n",
       "    <tr>\n",
       "      <th>4</th>\n",
       "      <td>A6018-S.DAT</td>\n",
       "      <td>5889</td>\n",
       "    </tr>\n",
       "  </tbody>\n",
       "</table>\n",
       "</div>"
      ],
      "text/plain": [
       "          Name  Size\n",
       "0      a18.DAT   945\n",
       "1    a18sm.DAT  1795\n",
       "2  A6014-S.DAT  6116\n",
       "3  A6016-S.DAT  5914\n",
       "4  A6018-S.DAT  5889"
      ]
     },
     "execution_count": 763,
     "metadata": {},
     "output_type": "execute_result"
    }
   ],
   "source": [
    "df_dat = pd.read_csv('data/dat_files_index.csv', usecols=('name', 'size'))\n",
    "df_dat.rename(columns={'name':'Name', 'size':'Size'}, inplace=True)\n",
    "print(df_dat.shape)\n",
    "df_dat.head()"
   ]
  },
  {
   "cell_type": "code",
   "execution_count": 764,
   "metadata": {},
   "outputs": [
    {
     "name": "stdout",
     "output_type": "stream",
     "text": [
      "Nombre de doublons dans la bigtable : 0\n",
      "[]\n"
     ]
    }
   ],
   "source": [
    "# Checking if the dataset contains duplicates\n",
    "doublon_datfile = df_dat['Name'].value_counts().index[df_dat['Name'].value_counts().values > 1]\n",
    "print(f'Nombre de doublons dans la bigtable : {len(doublon_datfile)}')\n",
    "print([i for i in doublon_datfile])"
   ]
  },
  {
   "cell_type": "code",
   "execution_count": 765,
   "metadata": {},
   "outputs": [
    {
     "name": "stdout",
     "output_type": "stream",
     "text": [
      "(6324, 2)\n"
     ]
    },
    {
     "data": {
      "text/html": [
       "<div>\n",
       "<style scoped>\n",
       "    .dataframe tbody tr th:only-of-type {\n",
       "        vertical-align: middle;\n",
       "    }\n",
       "\n",
       "    .dataframe tbody tr th {\n",
       "        vertical-align: top;\n",
       "    }\n",
       "\n",
       "    .dataframe thead th {\n",
       "        text-align: right;\n",
       "    }\n",
       "</style>\n",
       "<table border=\"1\" class=\"dataframe\">\n",
       "  <thead>\n",
       "    <tr style=\"text-align: right;\">\n",
       "      <th></th>\n",
       "      <th>Name</th>\n",
       "      <th>Family</th>\n",
       "    </tr>\n",
       "  </thead>\n",
       "  <tbody>\n",
       "    <tr>\n",
       "      <th>0</th>\n",
       "      <td>63A108 MOD C</td>\n",
       "      <td>NASA</td>\n",
       "    </tr>\n",
       "    <tr>\n",
       "      <th>1</th>\n",
       "      <td>A18</td>\n",
       "      <td>Uncategorized</td>\n",
       "    </tr>\n",
       "    <tr>\n",
       "      <th>2</th>\n",
       "      <td>A18 (SMOOTHED)</td>\n",
       "      <td>Uncategorized</td>\n",
       "    </tr>\n",
       "    <tr>\n",
       "      <th>3</th>\n",
       "      <td>A6014-S</td>\n",
       "      <td>Ayers</td>\n",
       "    </tr>\n",
       "    <tr>\n",
       "      <th>4</th>\n",
       "      <td>A6016-S</td>\n",
       "      <td>Ayers</td>\n",
       "    </tr>\n",
       "  </tbody>\n",
       "</table>\n",
       "</div>"
      ],
      "text/plain": [
       "             Name         Family\n",
       "0    63A108 MOD C           NASA\n",
       "1             A18  Uncategorized\n",
       "2  A18 (SMOOTHED)  Uncategorized\n",
       "3         A6014-S          Ayers\n",
       "4         A6016-S          Ayers"
      ]
     },
     "execution_count": 765,
     "metadata": {},
     "output_type": "execute_result"
    }
   ],
   "source": [
    "df_bigtable = pd.read_csv('data/ailes_avion.csv', usecols=('Name', 'Family'))\n",
    "print(df_bigtable.shape)\n",
    "df_bigtable.head()"
   ]
  },
  {
   "cell_type": "code",
   "execution_count": 766,
   "metadata": {},
   "outputs": [
    {
     "name": "stdout",
     "output_type": "stream",
     "text": [
      "Nombre de doublons dans la bigtable : 2\n",
      "['FX 66-17AII-182', 'BOEING 737 MIDSPAN']\n"
     ]
    }
   ],
   "source": [
    "# Checking if the dataset contains duplicates\n",
    "doublon_bigtable = df_bigtable['Name'].value_counts().index[df_bigtable['Name'].value_counts().values > 1]\n",
    "print(f'Nombre de doublons dans la bigtable : {len(doublon_bigtable)}')\n",
    "print([i for i in doublon_bigtable])"
   ]
  },
  {
   "cell_type": "markdown",
   "metadata": {},
   "source": [
    "### Execute Basic Regex and exceptions"
   ]
  },
  {
   "cell_type": "code",
   "execution_count": 767,
   "metadata": {},
   "outputs": [],
   "source": [
    "# Create a column Name_modified with all names in lowercase and without the .DAT ending \n",
    "df_dat['Name_modified'] =  df_dat['Name'].apply(lambda x : (re.split(\".DAT$\", str(x)))[0])\n",
    "df_dat['Name_modified'] = df_dat['Name_modified'].apply(lambda x : str(x).lower())\n",
    "# Create a column Name_modified with all names in lowercase\n",
    "df_bigtable['Name_modified'] = df_bigtable['Name'].apply(lambda x : str(x).lower())"
   ]
  },
  {
   "cell_type": "code",
   "execution_count": 768,
   "metadata": {},
   "outputs": [],
   "source": [
    "# Manual affectation of the duplicates after verification\n",
    "df_bigtable.loc[596, ['Name_modified']] = 'fx6617ai'\n",
    "df_bigtable.loc[597, ['Name_modified']] = 'fx6617a2'\n",
    "df_bigtable.loc[154, ['Name_modified']] = 'b737c'\n",
    "df_bigtable.loc[155, ['Name_modified']] = 'b737b'"
   ]
  },
  {
   "cell_type": "code",
   "execution_count": 769,
   "metadata": {},
   "outputs": [],
   "source": [
    "# Family exceptions beginning by 'g'\n",
    "df_bigtable.loc[df_bigtable['Name_modified'] == 'gu25-5(11)8', 'Name_modified'] = 'gu255118'\n",
    "df_bigtable.loc[df_bigtable['Name_modified'] == 'gs-1', 'Name_modified'] = 'gs1'\n",
    "df_bigtable.loc[df_bigtable['Name_modified'] == 'griffith 30% suction airfoil', 'Name_modified'] = 'griffith30symsuction'\n",
    "df_bigtable.loc[df_bigtable['Name_modified'] == 'goe 167 (v.karman prop.2)', 'Name_modified'] = 'goe167'\n",
    "df_bigtable.loc[df_bigtable['Name_modified'] == 'glenn martin 2', 'Name_modified'] = 'glennmartin2'\n",
    "df_bigtable.loc[df_bigtable['Name_modified'] == 'glenn martin 3', 'Name_modified'] = 'glennmartin3'\n",
    "df_bigtable.loc[df_bigtable['Name_modified'] == 'glenn martin 4', 'Name_modified'] = 'glennmartin4'"
   ]
  },
  {
   "cell_type": "code",
   "execution_count": 770,
   "metadata": {},
   "outputs": [],
   "source": [
    "df_bigtable.loc[df_bigtable['Name_modified'] == 'eppler 377mod', 'Name_modified'] = 'e377m'\n",
    "df_bigtable.loc[df_bigtable['Name_modified'] == 'eppler e193gu-k24', 'Name_modified'] = 'e193gu-k24'\n",
    "df_bigtable.loc[df_bigtable['Name_modified'] == 'eppler ste 87(-3)-914', 'Name_modified'] = 'ste87391'\n",
    "df_bigtable.loc[df_bigtable['Name_modified'] == 'eppler ste 871-514', 'Name_modified'] = 'ste87151'\n",
    "df_bigtable.loc[df_bigtable['Name_modified'] == 'eppler stf 863-615', 'Name_modified'] = 'stf86361'"
   ]
  },
  {
   "cell_type": "code",
   "execution_count": 771,
   "metadata": {},
   "outputs": [],
   "source": [
    "df_bigtable.loc[df_bigtable['Name_modified'] == 'aquila 9.3% smoothed', 'Name_modified'] = 'aquilasm'\n",
    "df_bigtable.loc[df_bigtable['Name_modified'] == 'bergey bw-3 (smoothed)', 'Name_modified'] = 'bw3'\n",
    "df_bigtable.loc[df_bigtable['Name_modified'] == 'clark-y 11.7% smoothed', 'Name_modified'] = 'clarkysm'\n",
    "df_bigtable.loc[df_bigtable['Name_modified'] == 'cody robertson cr 001 r/c hand-launch low reynolds number airfoil (smoothed)', 'Name_modified'] = 'cr001sm'\n",
    "df_bigtable.loc[df_bigtable['Name_modified'] == 'dale house dh4009 (smoothed) used on the storm r/c aerobatic aircraft', 'Name_modified'] = 'dh4009sm'\n",
    "df_bigtable.loc[df_bigtable['Name_modified'] == 'fx 60-100 10.0% smoothed', 'Name_modified'] = 'fx60100sm'\n",
    "df_bigtable.loc[df_bigtable['Name_modified'] == 'fx 63-137 13.7% smoothed', 'Name_modified'] = 'fx63137sm'\n",
    "df_bigtable.loc[df_bigtable['Name_modified'] == 'fx 74-cl5-140 mod (smoothed)', 'Name_modified'] = 'fx74modsm'\n",
    "df_bigtable.loc[df_bigtable['Name_modified'] == 'mb253515 15.0% smoothed', 'Name_modified'] = 'mb253515sm'\n",
    "df_bigtable.loc[df_bigtable['Name_modified'] == 'r140 12.04% (smoothed)', 'Name_modified'] = 'r140sm'\n",
    "df_bigtable.loc[df_bigtable['Name_modified'] == 'spica 11.73% smoothed', 'Name_modified'] = 'spicasm'\n",
    "df_bigtable.loc[df_bigtable['Name_modified'] == 'usnps4 (smoothed)', 'Name_modified'] = 'usnps4'\n",
    "df_bigtable.loc[df_bigtable['Name_modified'] == 'wb-135/35 13.5% smoothed', 'Name_modified'] = 'wb13535sm'"
   ]
  },
  {
   "cell_type": "code",
   "execution_count": 772,
   "metadata": {},
   "outputs": [],
   "source": [
    "df_bigtable.loc[df_bigtable['Name_modified'] == 'boeing 707 .08 span', 'Name_modified'] = 'b707a'\n",
    "df_bigtable.loc[df_bigtable['Name_modified'] == 'boeing 707 .19 span', 'Name_modified'] = 'b707b'\n",
    "df_bigtable.loc[df_bigtable['Name_modified'] == 'boeing 707 .40 span', 'Name_modified'] = 'b707c'\n",
    "df_bigtable.loc[df_bigtable['Name_modified'] == 'boeing 707 .54 span', 'Name_modified'] = 'b707d'\n",
    "df_bigtable.loc[df_bigtable['Name_modified'] == 'boeing 707 .99 span', 'Name_modified'] = 'b707e'\n",
    "df_bigtable.loc[df_bigtable['Name_modified'] == 'boeing 103', 'Name_modified'] = 'boe103'\n",
    "df_bigtable.loc[df_bigtable['Name_modified'] == 'boeing 106', 'Name_modified'] = 'boe106'\n",
    "df_bigtable.loc[df_bigtable['Name_modified'] == 'boeing 737 root', 'Name_modified'] = 'b737a'\n",
    "df_bigtable.loc[df_bigtable['Name_modified'] == 'boeing 737 outboard', 'Name_modified'] = 'b737d'\n",
    "df_bigtable.loc[df_bigtable['Name_modified'] == 'kc-135 bl124.32', 'Name_modified'] = 'kc135b'\n",
    "df_bigtable.loc[df_bigtable['Name_modified'] == 'kc-135 bl200.76', 'Name_modified'] = 'kc135c'\n",
    "df_bigtable.loc[df_bigtable['Name_modified'] == 'kc-135 bl351.6', 'Name_modified'] = 'kc135d'\n",
    "df_bigtable.loc[df_bigtable['Name_modified'] == 'kc-135 bl52.44', 'Name_modified'] = 'kc135a'"
   ]
  },
  {
   "cell_type": "code",
   "execution_count": 773,
   "metadata": {},
   "outputs": [],
   "source": [
    "df_bigtable.loc[df_bigtable['Name_modified'] == 'naca m6 (65%)', 'Name_modified'] = 'm6_65'\n",
    "df_bigtable.loc[df_bigtable['Name_modified'] == 'naca m6 (85%)', 'Name_modified'] = 'm6_85'"
   ]
  },
  {
   "cell_type": "markdown",
   "metadata": {},
   "source": [
    "# Functions"
   ]
  },
  {
   "cell_type": "markdown",
   "metadata": {},
   "source": [
    "### Basic Functions"
   ]
  },
  {
   "cell_type": "code",
   "execution_count": 774,
   "metadata": {},
   "outputs": [],
   "source": [
    "# Function to merge both dataset and return the df merged\n",
    "def merge_df(df_bigtable, df_dat, on_column):\n",
    "    df_merge = pd.merge(df_bigtable, df_dat, on=on_column, how='left', suffixes=('_big', '_dat'))\n",
    "    nb_mismatch = df_merge[df_merge['Name_dat'].isna()].shape[0]\n",
    "    nb_match = df_merge.shape[0] - nb_mismatch\n",
    "    print(f'Le dataset contient {df_merge.shape[0]} valeurs dont {nb_match} correspondent aux fichiers dat.')\n",
    "    print(f'Il reste {nb_mismatch} valeurs à matcher.')\n",
    "    df_merge.head()\n",
    "    return df_merge\n",
    "\n",
    "\n",
    "# Function to get the list of family fully matched\n",
    "def get_family_done(df_merge, nb):\n",
    "    family = df_merge.groupby(['Family']).count()\n",
    "    mask_family = (family['Name_big'] == family['Name_dat'])\n",
    "    res = family[mask_family].Name_big.sort_values(ascending=False).head(nb)\n",
    "    print(res)\n",
    "    return res\n",
    "\n",
    "\n",
    "# Function to get the list of missing values per family aka mismatch\n",
    "def groupna_family(df_merge, nb):\n",
    "    family = df_merge.groupby(['Family']).count()\n",
    "    mask_family = (family['Name_big'] != family['Name_dat'])\n",
    "    family_na = family[mask_family].copy()\n",
    "    family_na['nb_na'] = family_na['Name_big'] - family_na['Size']\n",
    "    # We are interested by the 'nb' families with the most of na\n",
    "    print(family_na['nb_na'].sort_values(ascending=False).head(nb))\n",
    "\n",
    "\n",
    "# Function to iinitialize df_big et df_dat\n",
    "# We want to look through the wings left in each dataframe in order to avoid corrupting good matchs\n",
    "def initiate_df_left(df_bigtable, df_dat, df_merge):\n",
    "    # Create df_dat_left and df_big_left\n",
    "    df_dat_left = pd.merge(df_bigtable, df_dat, on='Name_modified', how='right', suffixes=('_big', '_dat'))\n",
    "    df_dat_left = df_dat_left[df_dat_left['Name_big'].isna()].copy()\n",
    "    print(f\"Unmatched values left in the dat folder : {df_dat_left.shape}\")\n",
    "    df_big_left = df_merge[df_merge['Name_dat'].isna()].copy()\n",
    "    print(f\"Unmatched values left in big table : {df_big_left.shape}\")\n",
    "\n",
    "    # Create a new column for each df containing the first letter of each wing\n",
    "    df_dat_left['First letter'] = [x[0] for x in df_dat_left['Name_modified'].values]\n",
    "    df_big_left['First letter'] = [x[0] for x in df_big_left['Name_modified'].values]\n",
    "\n",
    "    # Create a new column for each df with z copy of the modified name to further work on\n",
    "    df_dat_left['Name_modified_by_family'] = df_dat_left['Name_modified'].copy()\n",
    "    df_big_left['Name_modified_by_family'] = df_big_left['Name_modified'].copy()\n",
    "\n",
    "    # Create a new column for each df with z copy of the modified name to further work on\n",
    "    df_dat_left['Name_modified_by_pattern'] = df_dat_left['Name_modified'].copy()\n",
    "    df_big_left['Name_modified_by_pattern'] = df_big_left['Name_modified'].copy()\n",
    "\n",
    "\n",
    "    # df_dat_left ----> ['Name_big', 'Family', 'Name_modified', 'Name_dat', 'Size', 'First letter', 'Name_modified_by_family']\n",
    "    # Name_big and Family are NaN\n",
    "    df_dat_left.drop(columns=['Name_big', 'Family'], inplace=True)\n",
    "    # df_big_left ----> ['Name_big', 'Family', 'Name_modified', 'Name_dat', 'Size', 'First letter', 'Name_modified_by_family']\n",
    "    # Name_dat and Size are NaN\n",
    "    df_big_left.drop(columns=['Name_dat', 'Size'], inplace=True)\n",
    "\n",
    "    return df_dat_left, df_big_left"
   ]
  },
  {
   "cell_type": "markdown",
   "metadata": {},
   "source": [
    "### Functions to match using specifig family pattern"
   ]
  },
  {
   "cell_type": "code",
   "execution_count": 775,
   "metadata": {},
   "outputs": [],
   "source": [
    "# Function to create filter by first letter\n",
    "def get_letter_group(df_dat_left, df_big_left, letter):\n",
    "    big_letter = df_big_left[df_big_left['First letter'] == letter]\n",
    "    dat_letter = df_dat_left[df_dat_left['First letter'] == letter]\n",
    "    print(f'Big table number of wings left beginning by {letter} : {big_letter.shape}')\n",
    "    print(f'Dat folder number of wings left beginning by {letter} : {dat_letter.shape}')\n",
    "    print(f'Difference : {big_letter.shape[0] - dat_letter.shape[0]}')\n",
    "    return big_letter, dat_letter\n",
    "\n",
    "\n",
    "# Function to pass through pattern\n",
    "def try_pattern_family(big_letter, family, pattern_list):\n",
    "    big_letter = big_letter.copy()\n",
    "    for pattern in pattern_list:\n",
    "        # Apply pattern\n",
    "        big_letter.loc[big_letter['Family'] == family, 'Name_modified_by_family'] = big_letter.loc[big_letter['Family'] == family, 'Name_modified_by_family'].apply(pattern)\n",
    "    return big_letter\n",
    "\n",
    "\n",
    "# Function to incorporate the new name found (Name_modified_by_family) into the dataset with the bigtable wings left to match\n",
    "def incorporate_family_pattern(df_big_left, big_letter):\n",
    "    df_big_left = pd.merge(df_big_left, big_letter[['Name_big', 'Name_modified_by_family']], on='Name_big', how='left', suffixes=('_left', '_big'))\n",
    "    df_big_left['Name_modified_by_family_big'] = df_big_left['Name_modified_by_family_big'].fillna(df_big_left['Name_modified_by_family_left'])\n",
    "    df_big_left.drop([\"Name_modified_by_family_left\"], inplace=True, axis=1)\n",
    "    df_big_left.rename(columns={'Name_modified_by_family_big':'Name_modified_by_family'}, inplace=True)\n",
    "    return df_big_left"
   ]
  },
  {
   "cell_type": "markdown",
   "metadata": {},
   "source": [
    "### Functions to match using global pattern"
   ]
  },
  {
   "cell_type": "code",
   "execution_count": 776,
   "metadata": {},
   "outputs": [],
   "source": [
    "def set_df_left(df_dat_left, df_merge, on_column):\n",
    "    # Create df_dat_left and df_big_left\n",
    "    df_dat_left = pd.merge(df_merge, df_dat_left, on=on_column, how='right', suffixes=('_big', '_dat'))\n",
    "    df_dat_left = df_dat_left[df_dat_left['Name_big'].isna()]\n",
    "    df_dat_left.dropna(axis=1, how='all', inplace=True)\n",
    "    df_dat_left = df_dat_left.set_axis([re.sub('_dat', \"\", str(col)) for col in df_dat_left.columns], axis=1)\n",
    "    df_dat_left.rename(columns={'Name':'Name_dat'}, inplace=True)\n",
    "    print(f\"Unmatched values left in the dat folder : {df_dat_left.shape}\")\n",
    "    df_big_left = df_merge[df_merge['Name_dat'].isna()].copy()\n",
    "    df_big_left.dropna(axis=1, how='all', inplace=True)\n",
    "    df_big_left = df_big_left.set_axis([re.sub('_big', \"\", str(col)) for col in df_big_left.columns], axis=1)\n",
    "    df_big_left.rename(columns={'Name':'Name_big'}, inplace=True)\n",
    "    print(f\"Unmatched values left in big table : {df_big_left.shape}\")\n",
    "    return df_dat_left, df_big_left\n",
    "\n",
    "\n",
    "def try_pattern(df_big_left, df_dat_left, pattern_list):\n",
    "    df_big_left['Name_modified_by_pattern'] = df_big_left['Name_modified'].copy()\n",
    "    df_big_left['Name_modified_by_pattern'] = df_big_left['Name_modified'].copy()\n",
    "\n",
    "    for pattern in pattern_list:\n",
    "        df_big_left['Name_modified_by_pattern'] = df_big_left.loc[:, 'Name_modified_by_pattern'].apply(pattern)\n",
    "        df_dat_left['Name_modified_by_pattern'] = df_dat_left.loc[:, 'Name_modified_by_pattern'].apply(pattern)\n",
    "\n",
    "    return df_dat_left, df_big_left"
   ]
  },
  {
   "cell_type": "markdown",
   "metadata": {},
   "source": [
    "# Application"
   ]
  },
  {
   "cell_type": "code",
   "execution_count": 777,
   "metadata": {},
   "outputs": [
    {
     "name": "stdout",
     "output_type": "stream",
     "text": [
      "Le dataset contient 6324 valeurs dont 4949 correspondent aux fichiers dat.\n",
      "Il reste 1375 valeurs à matcher.\n",
      "Famille complètes : \n",
      "Family\n",
      "NACA 65-series       608\n",
      "NACA 66-series       604\n",
      "NACA 67-series       548\n",
      "NACA 5-digit         401\n",
      "Habbe                137\n",
      "Horten               133\n",
      "Joukowsky            132\n",
      "Riblett 30-series    114\n",
      "Riblett 40-series    110\n",
      "Riblett 37-series    110\n",
      "Name: Name_big, dtype: int64\n",
      "Nombre de familles total :  68\n"
     ]
    }
   ],
   "source": [
    "df_merge = merge_df(df_bigtable, df_dat, 'Name_modified')\n",
    "print('Famille complètes : ')\n",
    "done_list = get_family_done(df_merge,10)\n",
    "print(\"Nombre de familles total : \", len(df_bigtable['Family'].unique()))"
   ]
  },
  {
   "cell_type": "code",
   "execution_count": 778,
   "metadata": {},
   "outputs": [],
   "source": [
    "# DROP only after all matching is done \n",
    "df_dat.drop(df_dat[df_dat['Name_modified'].str.contains('horten')].index, inplace=True)\n",
    "df_dat.drop(df_dat[df_dat['Name_modified'].str.contains('joukowsky')].index, inplace=True)"
   ]
  },
  {
   "cell_type": "code",
   "execution_count": 779,
   "metadata": {},
   "outputs": [
    {
     "name": "stdout",
     "output_type": "stream",
     "text": [
      "(4949, 5)\n"
     ]
    }
   ],
   "source": [
    "# Store the match in a dataframe \n",
    "df_match = df_merge[df_merge['Name_dat'].isna() == False].copy()\n",
    "print(df_match.shape)"
   ]
  },
  {
   "cell_type": "markdown",
   "metadata": {},
   "source": [
    "### **1. Create dataframes with wings left to match**"
   ]
  },
  {
   "cell_type": "code",
   "execution_count": 780,
   "metadata": {},
   "outputs": [
    {
     "name": "stdout",
     "output_type": "stream",
     "text": [
      "Unmatched values left in the dat folder : (2366, 5)\n",
      "Unmatched values left in big table : (1375, 5)\n"
     ]
    }
   ],
   "source": [
    "df_dat_left, df_big_left = initiate_df_left(df_bigtable, df_dat, df_merge)"
   ]
  },
  {
   "cell_type": "markdown",
   "metadata": {},
   "source": [
    "### **2. Regex to match the family Yost,Eiffel,Eppler**"
   ]
  },
  {
   "cell_type": "code",
   "execution_count": 781,
   "metadata": {},
   "outputs": [
    {
     "name": "stdout",
     "output_type": "stream",
     "text": [
      "Family\n",
      "Gottingen        381\n",
      "Eppler           196\n",
      "Uncategorized    138\n",
      "Wortmann         107\n",
      "NASA              54\n",
      "Name: nb_na, dtype: int64\n"
     ]
    }
   ],
   "source": [
    "groupna_family(df_merge, 5)"
   ]
  },
  {
   "cell_type": "markdown",
   "metadata": {},
   "source": [
    "- Family yost : correspondance if deleting the spaces points and / from big e\n",
    "- Family eiffel : correspondance if deleting the spaces and content between parenthesis + special case for eiffel 10 (wright) - 1903 wright flyer airfoil\t\n",
    "- Family eppler : correspondance if replacing eppler by e and removing spaces"
   ]
  },
  {
   "cell_type": "code",
   "execution_count": 782,
   "metadata": {},
   "outputs": [
    {
     "name": "stdout",
     "output_type": "stream",
     "text": [
      "Big table number of wings left beginning by e : (216, 6)\n",
      "Dat folder number of wings left beginning by e : (217, 6)\n",
      "Difference : -1\n"
     ]
    }
   ],
   "source": [
    "big_e, dat_e = get_letter_group(df_dat_left, df_big_left, 'e')"
   ]
  },
  {
   "cell_type": "code",
   "execution_count": 783,
   "metadata": {},
   "outputs": [],
   "source": [
    "yost = [lambda x : (re.sub(\"\\s\", \"\", str(x))), \n",
    "        lambda x : (re.sub(\"\\.\", \"\", str(x))), \n",
    "        lambda x : (re.sub(\"/\", \"\", str(x)))]\n",
    "\n",
    "eiffel = [lambda x : (re.sub('\\(.*?\\)', \"\", str(x))), \n",
    "          lambda x : (re.sub(\"\\s\", \"\", str(x))), \n",
    "          lambda x : (re.split(\"-\", str(x)))[0]]\n",
    "\n",
    "eppler = [lambda x : (re.sub(\"eppler\", \"e\", str(x))),\n",
    "          lambda x : (re.sub(\"ee\", \"e\", str(x))),\n",
    "          lambda x : (re.sub(\"hydrofoil\", \"\", str(x))),\n",
    "          lambda x : (re.sub(\"strut\", \"\", str(x))),\n",
    "          lambda x : (re.sub(\"-\", \"\", str(x))),\n",
    "          lambda x : (re.sub(\"\\(\", \"\", str(x))),\n",
    "          lambda x : (re.sub(\"\\)\", \"\", str(x))),\n",
    "          lambda x : (re.sub(\"\\s\", \"\", str(x)))]\n",
    "\n",
    "big_e = try_pattern_family(big_e, 'Yost', yost)\n",
    "big_e = try_pattern_family(big_e, 'Eiffel', eiffel)\n",
    "big_e = try_pattern_family(big_e, 'Eppler', eppler)\n"
   ]
  },
  {
   "cell_type": "code",
   "execution_count": 784,
   "metadata": {},
   "outputs": [
    {
     "name": "stdout",
     "output_type": "stream",
     "text": [
      "Le dataset contient 1375 valeurs dont 208 correspondent aux fichiers dat.\n",
      "Il reste 1167 valeurs à matcher.\n"
     ]
    }
   ],
   "source": [
    "# Function to incorporate the new name found (Name_modified_by_family) into the dataset with the bigtable wings left to match\n",
    "df_big_left = incorporate_family_pattern(df_big_left, big_e)\n",
    "# Merge to match \n",
    "df_merge = merge_df(df_big_left, df_dat_left, 'Name_modified_by_family')\n",
    "# Concat the new match to the storage df \n",
    "df_big_match = df_merge[df_merge['Name_dat'].isna() == False].copy()\n",
    "df_match =  pd.concat([df_match, df_big_match], ignore_index=True,axis=0)"
   ]
  },
  {
   "cell_type": "markdown",
   "metadata": {},
   "source": [
    "### **3. Regex to match the family Gottingen**"
   ]
  },
  {
   "cell_type": "code",
   "execution_count": 785,
   "metadata": {},
   "outputs": [
    {
     "name": "stdout",
     "output_type": "stream",
     "text": [
      "Unmatched values left in the dat folder : (2158, 6)\n",
      "Unmatched values left in big table : (1167, 6)\n",
      "Big table number of wings left beginning by g : (399, 6)\n",
      "Dat folder number of wings left beginning by g : (401, 6)\n",
      "Difference : -2\n"
     ]
    }
   ],
   "source": [
    "df_dat_left, df_big_left = set_df_left(df_dat_left, df_merge, 'Name_modified_by_family')\n",
    "big_g, dat_g = get_letter_group(df_dat_left, df_big_left, 'g')"
   ]
  },
  {
   "cell_type": "code",
   "execution_count": 786,
   "metadata": {},
   "outputs": [
    {
     "name": "stdout",
     "output_type": "stream",
     "text": [
      "Le dataset contient 1167 valeurs dont 372 correspondent aux fichiers dat.\n",
      "Il reste 795 valeurs à matcher.\n"
     ]
    }
   ],
   "source": [
    "gottingen = [lambda x : (re.sub(\"\\s\", \"\", str(x))), lambda x : (re.sub('\\(.*?\\)', \"\", str(x)))]\n",
    "big_g = try_pattern_family(big_g, 'Gottingen', gottingen)\n",
    "# Incorporating the new name found (Name_modified_by_family) into the dataset with the bigtable wings left to match\n",
    "df_big_left = incorporate_family_pattern(df_big_left, big_g)\n",
    "# Merge to match \n",
    "df_merge = merge_df(df_big_left, df_dat_left, 'Name_modified_by_family')\n",
    "# Concat the new match to the storage df \n",
    "df_big_match = df_merge[df_merge['Name_dat'].isna() == False].copy()\n",
    "df_match =  pd.concat([df_match, df_big_match], ignore_index=True,axis=0)"
   ]
  },
  {
   "cell_type": "markdown",
   "metadata": {},
   "source": [
    "### **4. Global regex with quick manual verif**"
   ]
  },
  {
   "cell_type": "code",
   "execution_count": 787,
   "metadata": {},
   "outputs": [
    {
     "name": "stdout",
     "output_type": "stream",
     "text": [
      "Unmatched values left in the dat folder : (1786, 6)\n",
      "Unmatched values left in big table : (795, 6)\n"
     ]
    }
   ],
   "source": [
    "df_dat_left, df_big_left = set_df_left(df_dat_left, df_merge, 'Name_modified_by_family')"
   ]
  },
  {
   "cell_type": "code",
   "execution_count": 788,
   "metadata": {},
   "outputs": [
    {
     "name": "stdout",
     "output_type": "stream",
     "text": [
      "Le dataset contient 795 valeurs dont 245 correspondent aux fichiers dat.\n",
      "Il reste 550 valeurs à matcher.\n"
     ]
    }
   ],
   "source": [
    "pattern_global =[lambda x : (re.sub(\"\\s\", \"\", str(x))), \n",
    "                 lambda x : (re.sub(\"-\", \"\", str(x))), \n",
    "                 lambda x : (re.sub(\"%\", \"\", str(x)))]\n",
    "df_dat_left, df_big_left = try_pattern(df_big_left, df_dat_left, pattern_global)\n",
    "df_merge = merge_df(df_big_left, df_dat_left, 'Name_modified_by_pattern')\n",
    "# Concat the new match to the storage df \n",
    "df_big_match = df_merge[df_merge['Name_dat'].isna() == False].copy()\n",
    "df_match =  pd.concat([df_match, df_big_match], ignore_index=True,axis=0)"
   ]
  },
  {
   "cell_type": "code",
   "execution_count": 789,
   "metadata": {},
   "outputs": [
    {
     "name": "stdout",
     "output_type": "stream",
     "text": [
      "Family\n",
      "Uncategorized    100\n",
      "NASA              49\n",
      "Hepperle          49\n",
      "Selig et. al.     48\n",
      "Quabeck           42\n",
      "Leinauer          25\n",
      "Wortmann          22\n",
      "NACA/Munk         22\n",
      "Boeing            19\n",
      "Barth             16\n",
      "Name: nb_na, dtype: int64\n"
     ]
    }
   ],
   "source": [
    "groupna_family(df_merge, 10)"
   ]
  },
  {
   "cell_type": "markdown",
   "metadata": {},
   "source": [
    "### **5. keep trying**"
   ]
  },
  {
   "cell_type": "code",
   "execution_count": 790,
   "metadata": {},
   "outputs": [
    {
     "name": "stdout",
     "output_type": "stream",
     "text": [
      "Unmatched values left in the dat folder : (1541, 6)\n",
      "Unmatched values left in big table : (550, 6)\n"
     ]
    }
   ],
   "source": [
    "df_dat_left, df_big_left = set_df_left(df_dat_left, df_merge, 'Name_modified_by_pattern')"
   ]
  },
  {
   "cell_type": "code",
   "execution_count": 791,
   "metadata": {},
   "outputs": [
    {
     "name": "stdout",
     "output_type": "stream",
     "text": [
      "Le dataset contient 550 valeurs dont 126 correspondent aux fichiers dat.\n",
      "Il reste 424 valeurs à matcher.\n"
     ]
    }
   ],
   "source": [
    "pattern_global =[lambda x : (re.sub(\"\\s\", \"\", str(x))),\n",
    "                 lambda x : (re.sub(\"\\.\", \"\", str(x))),\n",
    "                 lambda x : (re.sub(\",\", \"\", str(x))),\n",
    "                 lambda x : (re.sub(\"/\", \"\", str(x))),\n",
    "                 lambda x : (re.sub(\"-\", \"\", str(x))),\n",
    "                 lambda x : (re.sub(\"_\", \"\", str(x))),  \n",
    "                 lambda x : (re.sub(\"%\", \"\", str(x))),\n",
    "                 lambda x : (re.sub(\"\\(\", \"\", str(x))),\n",
    "                 lambda x : (re.sub(\"\\)\", \"\", str(x)))]\n",
    "df_dat_left, df_big_left = try_pattern(df_big_left, df_dat_left, pattern_global)\n",
    "df_merge = merge_df(df_big_left, df_dat_left, 'Name_modified_by_pattern')\n",
    "# Concat the new match to the storage df \n",
    "df_big_match = df_merge[df_merge['Name_dat'].isna() == False].copy()\n",
    "df_match =  pd.concat([df_match, df_big_match], ignore_index=True,axis=0)"
   ]
  },
  {
   "cell_type": "code",
   "execution_count": 792,
   "metadata": {},
   "outputs": [
    {
     "name": "stdout",
     "output_type": "stream",
     "text": [
      "Family\n",
      "Uncategorized    89\n",
      "Hepperle         49\n",
      "Selig et. al.    48\n",
      "Leinauer         25\n",
      "NACA/Munk        22\n",
      "NASA             20\n",
      "Boeing           19\n",
      "Wortmann         19\n",
      "Lockheed         14\n",
      "Gulfstream       14\n",
      "Name: nb_na, dtype: int64\n"
     ]
    }
   ],
   "source": [
    "groupna_family(df_merge, 10)"
   ]
  },
  {
   "cell_type": "markdown",
   "metadata": {},
   "source": [
    "### **6. Smooth -> sm**"
   ]
  },
  {
   "cell_type": "code",
   "execution_count": 793,
   "metadata": {},
   "outputs": [
    {
     "name": "stdout",
     "output_type": "stream",
     "text": [
      "Unmatched values left in the dat folder : (1415, 6)\n",
      "Unmatched values left in big table : (424, 6)\n"
     ]
    }
   ],
   "source": [
    "df_dat_left, df_big_left = set_df_left(df_dat_left, df_merge, 'Name_modified_by_pattern')"
   ]
  },
  {
   "cell_type": "code",
   "execution_count": 794,
   "metadata": {},
   "outputs": [
    {
     "name": "stdout",
     "output_type": "stream",
     "text": [
      "Le dataset contient 424 valeurs dont 13 correspondent aux fichiers dat.\n",
      "Il reste 411 valeurs à matcher.\n"
     ]
    }
   ],
   "source": [
    "pattern_global =[lambda x : (re.sub(\"\\s\", \"\", str(x))),\n",
    "                 lambda x : (re.sub(\"\\.\", \"\", str(x))),\n",
    "                 lambda x : (re.sub(\",\", \"\", str(x))),\n",
    "                 lambda x : (re.sub(\"/\", \"\", str(x))),\n",
    "                 lambda x : (re.sub(\"-\", \"\", str(x))),\n",
    "                 lambda x : (re.sub(\"_\", \"\", str(x))),  \n",
    "                 lambda x : (re.sub(\"%\", \"\", str(x))),\n",
    "                 lambda x : (re.sub(\"\\(\", \"\", str(x))),\n",
    "                 lambda x : (re.sub(\"\\)\", \"\", str(x))),\n",
    "                 lambda x : (re.sub(\"smoothed\", \"sm\", str(x)))]\n",
    "df_dat_left, df_big_left = try_pattern(df_big_left, df_dat_left, pattern_global)\n",
    "df_merge = merge_df(df_big_left, df_dat_left, 'Name_modified_by_pattern')\n",
    "# Concat the new match to the storage df \n",
    "df_big_match = df_merge[df_merge['Name_dat'].isna() == False].copy()\n",
    "df_match =  pd.concat([df_match, df_big_match], ignore_index=True,axis=0)"
   ]
  },
  {
   "cell_type": "markdown",
   "metadata": {},
   "source": [
    "### **7. Removing whats between parenthesis with manual verif**"
   ]
  },
  {
   "cell_type": "code",
   "execution_count": 795,
   "metadata": {},
   "outputs": [
    {
     "name": "stdout",
     "output_type": "stream",
     "text": [
      "Unmatched values left in the dat folder : (1402, 6)\n",
      "Unmatched values left in big table : (411, 6)\n"
     ]
    }
   ],
   "source": [
    "df_dat_left, df_big_left = set_df_left(df_dat_left, df_merge, 'Name_modified_by_pattern')"
   ]
  },
  {
   "cell_type": "code",
   "execution_count": 796,
   "metadata": {},
   "outputs": [
    {
     "name": "stdout",
     "output_type": "stream",
     "text": [
      "Le dataset contient 411 valeurs dont 29 correspondent aux fichiers dat.\n",
      "Il reste 382 valeurs à matcher.\n"
     ]
    }
   ],
   "source": [
    "pattern_global =[lambda x : (re.sub('\\(.*?\\)', \"\", str(x))),\n",
    "                 lambda x : (re.sub(\"\\s\", \"\", str(x)))]\n",
    "df_dat_left, df_big_left = try_pattern(df_big_left, df_dat_left, pattern_global)\n",
    "\n",
    "df_big_left['parenthesis_content'] = df_big_left['Name_modified'].copy()\n",
    "df_big_left['parenthesis_content'] = df_big_left.loc[:, 'parenthesis_content'].apply(lambda x : (re.findall('\\(.*?\\)', str(x))))\n",
    "df_dat_left['parenthesis_content'] = df_dat_left['Name_modified'].copy()\n",
    "df_dat_left['parenthesis_content'] = df_dat_left.loc[:, 'parenthesis_content'].apply(lambda x : (re.findall('\\(.*?\\)', str(x))))\n",
    "\n",
    "df_merge = merge_df(df_big_left, df_dat_left, 'Name_modified_by_pattern')\n",
    "# Concat the new match to the storage df \n",
    "df_big_match = df_merge[df_merge['Name_dat'].isna() == False].copy()\n",
    "df_match =  pd.concat([df_match, df_big_match], ignore_index=True,axis=0)"
   ]
  },
  {
   "cell_type": "code",
   "execution_count": 797,
   "metadata": {},
   "outputs": [
    {
     "name": "stdout",
     "output_type": "stream",
     "text": [
      "Family\n",
      "Uncategorized    70\n",
      "Hepperle         49\n",
      "Selig et. al.    28\n",
      "Leinauer         25\n",
      "NACA/Munk        22\n",
      "Name: nb_na, dtype: int64\n"
     ]
    }
   ],
   "source": [
    "groupna_family(df_merge, 5)"
   ]
  },
  {
   "cell_type": "markdown",
   "metadata": {},
   "source": [
    "### **8. Family Hepperle**"
   ]
  },
  {
   "cell_type": "code",
   "execution_count": 798,
   "metadata": {},
   "outputs": [
    {
     "name": "stdout",
     "output_type": "stream",
     "text": [
      "Unmatched values left in the dat folder : (1373, 7)\n",
      "Unmatched values left in big table : (382, 7)\n",
      "Big table number of wings left beginning by m : (57, 7)\n",
      "Dat folder number of wings left beginning by m : (86, 7)\n",
      "Difference : -29\n"
     ]
    }
   ],
   "source": [
    "df_dat_left, df_big_left = set_df_left(df_dat_left, df_merge, 'Name_modified_by_pattern')\n",
    "big_m, dat_m = get_letter_group(df_dat_left, df_big_left, 'm')"
   ]
  },
  {
   "cell_type": "code",
   "execution_count": 799,
   "metadata": {},
   "outputs": [],
   "source": [
    "hepperle = [lambda x : (((re.split(\"\\s\", str(x)))[0])+(re.split(\"\\s\", str(x)))[1])]\n",
    "big_m = try_pattern_family(big_m, 'Hepperle', hepperle)"
   ]
  },
  {
   "cell_type": "code",
   "execution_count": 800,
   "metadata": {},
   "outputs": [
    {
     "name": "stdout",
     "output_type": "stream",
     "text": [
      "Le dataset contient 382 valeurs dont 49 correspondent aux fichiers dat.\n",
      "Il reste 333 valeurs à matcher.\n"
     ]
    }
   ],
   "source": [
    "df_big_left = incorporate_family_pattern(df_big_left, big_m)\n",
    "df_merge = merge_df(df_big_left, df_dat_left, 'Name_modified_by_family')\n",
    "# Concat the new match to the storage df \n",
    "df_big_match = df_merge[df_merge['Name_dat'].isna() == False].copy()\n",
    "df_match =  pd.concat([df_match, df_big_match], ignore_index=True,axis=0)"
   ]
  },
  {
   "cell_type": "markdown",
   "metadata": {},
   "source": [
    "### **9. Family NACA/Munk**"
   ]
  },
  {
   "cell_type": "code",
   "execution_count": 801,
   "metadata": {},
   "outputs": [
    {
     "name": "stdout",
     "output_type": "stream",
     "text": [
      "Unmatched values left in the dat folder : (1324, 7)\n",
      "Unmatched values left in big table : (333, 7)\n",
      "Big table number of wings left beginning by n : (55, 7)\n",
      "Dat folder number of wings left beginning by n : (1023, 7)\n",
      "Difference : -968\n"
     ]
    }
   ],
   "source": [
    "df_dat_left, df_big_left = set_df_left(df_dat_left, df_merge, 'Name_modified_by_family')\n",
    "big_n, dat_n = get_letter_group(df_dat_left, df_big_left, 'n')"
   ]
  },
  {
   "cell_type": "code",
   "execution_count": 802,
   "metadata": {},
   "outputs": [
    {
     "name": "stdout",
     "output_type": "stream",
     "text": [
      "Le dataset contient 333 valeurs dont 22 correspondent aux fichiers dat.\n",
      "Il reste 311 valeurs à matcher.\n"
     ]
    }
   ],
   "source": [
    "nacamunk = [lambda x : (re.sub(\"naca\",\"\", str(x))), lambda x : (re.sub(\"\\s\", \"\", str(x)))]\n",
    "big_n = try_pattern_family(big_n, 'NACA/Munk', nacamunk)\n",
    "df_big_left = incorporate_family_pattern(df_big_left, big_n)\n",
    "df_merge = merge_df(df_big_left, df_dat_left, 'Name_modified_by_family')\n",
    "df_dat_left.drop(df_dat_left[df_dat_left['Name_modified'].str.contains('naca')].index, inplace=True)\n",
    "# Concat the new match to the storage df \n",
    "df_big_match = df_merge[df_merge['Name_dat'].isna() == False].copy()\n",
    "df_match =  pd.concat([df_match, df_big_match], ignore_index=True,axis=0)"
   ]
  },
  {
   "cell_type": "markdown",
   "metadata": {},
   "source": [
    "### **10. Family Gulfstream**"
   ]
  },
  {
   "cell_type": "code",
   "execution_count": 803,
   "metadata": {},
   "outputs": [
    {
     "name": "stdout",
     "output_type": "stream",
     "text": [
      "Unmatched values left in the dat folder : (323, 7)\n",
      "Unmatched values left in big table : (311, 7)\n"
     ]
    }
   ],
   "source": [
    "df_dat_left, df_big_left = set_df_left(df_dat_left, df_merge, 'Name_modified_by_family')"
   ]
  },
  {
   "cell_type": "code",
   "execution_count": 804,
   "metadata": {},
   "outputs": [
    {
     "name": "stdout",
     "output_type": "stream",
     "text": [
      "Le dataset contient 311 valeurs dont 14 correspondent aux fichiers dat.\n",
      "Il reste 297 valeurs à matcher.\n"
     ]
    }
   ],
   "source": [
    "# As much of giii rows in both dataset its the Gulfstream family \n",
    "giii_dat = df_dat_left[df_dat_left['Name_modified'].str.contains(\"giii\")]\n",
    "giii_big = df_big_left[df_big_left['Name_modified'].str.contains(\"giii\")]\n",
    "giinb = giii_big['Name_modified'].apply(lambda x : (re.findall('\\d+', str(x))))\n",
    "giinb = [int(nb[0]) for nb in giinb.values]\n",
    "giinb = sorted(giinb)\n",
    "giiiletter = ['a', 'b', 'c', 'd', 'e', 'f', 'g', 'h', 'i', 'j', 'k', 'l', 'm', 'n']\n",
    "dict_giii = {}\n",
    "[dict_giii.update({('giiibl'+str(nb)) : ('giii'+str(letter))}) for nb, letter in zip(giinb, giiiletter)]\n",
    "df_big_left['Name_modified_by_pattern'] = df_big_left['Name_modified_by_pattern'].map(dict_giii).fillna(df_big_left['Name_modified_by_pattern'])\n",
    "\n",
    "df_merge = merge_df(df_big_left, df_dat_left, 'Name_modified_by_pattern')\n",
    "# Concat the new match to the storage df \n",
    "df_big_match = df_merge[df_merge['Name_dat'].isna() == False].copy()\n",
    "df_match =  pd.concat([df_match, df_big_match], ignore_index=True,axis=0)"
   ]
  },
  {
   "cell_type": "markdown",
   "metadata": {},
   "source": [
    "### **11. Store results of matchmaking**"
   ]
  },
  {
   "cell_type": "code",
   "execution_count": 805,
   "metadata": {},
   "outputs": [
    {
     "name": "stdout",
     "output_type": "stream",
     "text": [
      "(6027, 6)\n"
     ]
    },
    {
     "data": {
      "text/html": [
       "<div>\n",
       "<style scoped>\n",
       "    .dataframe tbody tr th:only-of-type {\n",
       "        vertical-align: middle;\n",
       "    }\n",
       "\n",
       "    .dataframe tbody tr th {\n",
       "        vertical-align: top;\n",
       "    }\n",
       "\n",
       "    .dataframe thead th {\n",
       "        text-align: right;\n",
       "    }\n",
       "</style>\n",
       "<table border=\"1\" class=\"dataframe\">\n",
       "  <thead>\n",
       "    <tr style=\"text-align: right;\">\n",
       "      <th></th>\n",
       "      <th>Name_big</th>\n",
       "      <th>Family</th>\n",
       "      <th>Name_modified</th>\n",
       "      <th>Name_dat</th>\n",
       "      <th>Size</th>\n",
       "      <th>SimilarFunction</th>\n",
       "    </tr>\n",
       "  </thead>\n",
       "  <tbody>\n",
       "    <tr>\n",
       "      <th>0</th>\n",
       "      <td>A18</td>\n",
       "      <td>Uncategorized</td>\n",
       "      <td>a18</td>\n",
       "      <td>a18.DAT</td>\n",
       "      <td>945.0</td>\n",
       "      <td>False</td>\n",
       "    </tr>\n",
       "    <tr>\n",
       "      <th>1</th>\n",
       "      <td>A6014-S</td>\n",
       "      <td>Ayers</td>\n",
       "      <td>a6014-s</td>\n",
       "      <td>A6014-S.DAT</td>\n",
       "      <td>6116.0</td>\n",
       "      <td>False</td>\n",
       "    </tr>\n",
       "    <tr>\n",
       "      <th>2</th>\n",
       "      <td>A6016-S</td>\n",
       "      <td>Ayers</td>\n",
       "      <td>a6016-s</td>\n",
       "      <td>A6016-S.DAT</td>\n",
       "      <td>5914.0</td>\n",
       "      <td>False</td>\n",
       "    </tr>\n",
       "    <tr>\n",
       "      <th>3</th>\n",
       "      <td>A6018-S</td>\n",
       "      <td>Ayers</td>\n",
       "      <td>a6018-s</td>\n",
       "      <td>A6018-S.DAT</td>\n",
       "      <td>5889.0</td>\n",
       "      <td>False</td>\n",
       "    </tr>\n",
       "    <tr>\n",
       "      <th>4</th>\n",
       "      <td>A6020-S</td>\n",
       "      <td>Ayers</td>\n",
       "      <td>a6020-s</td>\n",
       "      <td>A6020-S.DAT</td>\n",
       "      <td>6116.0</td>\n",
       "      <td>False</td>\n",
       "    </tr>\n",
       "  </tbody>\n",
       "</table>\n",
       "</div>"
      ],
      "text/plain": [
       "  Name_big         Family Name_modified     Name_dat    Size  SimilarFunction\n",
       "0      A18  Uncategorized           a18      a18.DAT   945.0            False\n",
       "1  A6014-S          Ayers       a6014-s  A6014-S.DAT  6116.0            False\n",
       "2  A6016-S          Ayers       a6016-s  A6016-S.DAT  5914.0            False\n",
       "3  A6018-S          Ayers       a6018-s  A6018-S.DAT  5889.0            False\n",
       "4  A6020-S          Ayers       a6020-s  A6020-S.DAT  6116.0            False"
      ]
     },
     "execution_count": 805,
     "metadata": {},
     "output_type": "execute_result"
    }
   ],
   "source": [
    "df_match = df_match[['Name_big', 'Family', 'Name_modified', 'Name_dat', 'Size']]\n",
    "df_match.to_csv('data/df_match.csv')\n",
    "df_match['SimilarFunction'] = False\n",
    "print(df_match.shape)\n",
    "df_match.head()"
   ]
  },
  {
   "cell_type": "markdown",
   "metadata": {},
   "source": [
    "# Similar test"
   ]
  },
  {
   "cell_type": "markdown",
   "metadata": {},
   "source": [
    "### Init"
   ]
  },
  {
   "cell_type": "code",
   "execution_count": 806,
   "metadata": {},
   "outputs": [
    {
     "name": "stdout",
     "output_type": "stream",
     "text": [
      "Unmatched values left in the dat folder : (309, 7)\n",
      "Unmatched values left in big table : (297, 7)\n"
     ]
    }
   ],
   "source": [
    "# Get the unmatched names of each dataset\n",
    "df_dat_left, df_big_left = set_df_left(df_dat_left, df_merge, 'Name_modified_by_pattern')\n",
    "\n",
    "# Choose some regex to uniformize the names left\n",
    "pattern_global =[lambda x : (re.sub(\"\\s\", \"\", str(x))),\n",
    "                 lambda x : (re.sub(\"\\.\", \"\", str(x))),\n",
    "                 lambda x : (re.sub(\",\", \"\", str(x))),\n",
    "                 lambda x : (re.sub(\"/\", \"\", str(x))),\n",
    "                 lambda x : (re.sub(\"-\", \"\", str(x))),\n",
    "                 lambda x : (re.sub(\"_\", \"\", str(x))),  \n",
    "                 lambda x : (re.sub(\"%\", \"\", str(x))),\n",
    "                 lambda x : (re.sub(\"\\(\", \"\", str(x))),\n",
    "                 lambda x : (re.sub(\"\\)\", \"\", str(x))),\n",
    "                 lambda x : (re.sub(\"smoothed\", \"sm\", str(x)))]\n",
    "\n",
    "# Apply the pattern before trying to match by similarities\n",
    "df_dat_left, df_big_left = try_pattern(df_big_left, df_dat_left, pattern_global)\n",
    "\n",
    "# Download the dataframe left before the similarity affectation if needed\n",
    "df_dat_left.to_csv('data/df_dat_left.csv')\n",
    "df_big_left.to_csv('data/df_big_left.csv')"
   ]
  },
  {
   "cell_type": "code",
   "execution_count": 807,
   "metadata": {},
   "outputs": [],
   "source": [
    "# Found 1 error with the correction below \n",
    "df_big_left.loc[df_big_left['Name_modified_by_pattern'] == 'hq17', 'Name_modified_by_pattern'] = 'hq17'\n",
    "df_big_left.loc[df_big_left['Name_modified_by_pattern'] == 'qa001sm', 'Name_modified_by_pattern'] =  'qa001sm'\n",
    "df_big_left.loc[df_big_left['Name_modified_by_pattern'] == 'qa002sm', 'Name_modified_by_pattern'] =  'qa002sm'\n",
    "df_big_left.loc[df_big_left['Name_modified_by_pattern'] == 's301010384', 'Name_modified_by_pattern'] =  's3010'\n",
    "df_big_left.loc[df_big_left['Name_modified_by_pattern'] == 's301409585', 'Name_modified_by_pattern'] =  's3014'\n",
    "df_big_left.loc[df_big_left['Name_modified_by_pattern'] == 's301609587', 'Name_modified_by_pattern'] =  's3016'\n",
    "df_big_left.loc[df_big_left['Name_modified_by_pattern'] == 's302109584', 'Name_modified_by_pattern'] =  's3021'\n",
    "df_big_left.loc[df_big_left['Name_modified_by_pattern'] == 'qa002', 'Name_modified_by_pattern'] =  'qa002'\n",
    "df_big_left.loc[df_big_left['Name_modified_by_pattern'] == 'jh817', 'Name_modified_by_pattern'] =  'jh817'\n",
    "\n",
    "df_big_left.loc[df_big_left['Name_modified_by_pattern'] == 'du80176v1', 'Name_modified_by_pattern'] = 'du80176v1'\n",
    "df_big_left.loc[df_big_left['Name_modified_by_pattern'] == 'jh25', 'Name_modified_by_pattern'] = 'jh25'\n",
    "df_big_left.loc[df_big_left['Name_modified_by_pattern'] == 'qa001', 'Name_modified_by_pattern'] =  'qa001'\n",
    "df_big_left.loc[df_big_left['Name_modified_by_pattern'] == 'qa003', 'Name_modified_by_pattern'] =  'qa003'\n",
    "df_big_left.loc[df_big_left['Name_modified_by_pattern'] == 'du80141', 'Name_modified_by_pattern'] =  'du80141'\n",
    "df_big_left.loc[df_big_left['Name_modified_by_pattern'] == 'hawkertempest61semispan', 'Name_modified_by_pattern'] =  'tempest2'\n",
    "df_big_left.loc[df_big_left['Name_modified_by_pattern'] == 'hawkertempest375semispan', 'Name_modified_by_pattern'] =  'tempest1'\n",
    "df_big_left.loc[df_big_left['Name_modified_by_pattern'] == 'hawkertempest9677semispan', 'Name_modified_by_pattern'] =  'tempest3'\n",
    "df_big_left.loc[df_big_left['Name_modified_by_pattern'] == 'du80176v1alt', 'Name_modified_by_pattern'] =  'du80176v1alt'\n",
    "df_big_left.loc[df_big_left['Name_modified_by_pattern'] == 'lockheedc141bl0', 'Name_modified_by_pattern'] =  'c141a'\n",
    "df_big_left.loc[df_big_left['Name_modified_by_pattern'] == 's1010hpvairfoil', 'Name_modified_by_pattern'] =  's1010'\n",
    "\n",
    "df_big_left.loc[df_big_left['Name_modified_by_pattern'] == 'fage&collins1', 'Name_modified_by_pattern'] = 'fg1'\n",
    "df_big_left.loc[df_big_left['Name_modified_by_pattern'] == 'fage&collins2', 'Name_modified_by_pattern'] = 'fg2'\n",
    "df_big_left.loc[df_big_left['Name_modified_by_pattern'] == 'fage&collins3', 'Name_modified_by_pattern'] = 'fg3'\n",
    "df_big_left.loc[df_big_left['Name_modified_by_pattern'] == 'fage&collins4', 'Name_modified_by_pattern'] = 'fg4'\n",
    "df_big_left.loc[df_big_left['Name_modified_by_pattern'] == 'defiantcanardbl110', 'Name_modified_by_pattern'] = 'defcnd2'\n",
    "df_big_left.loc[df_big_left['Name_modified_by_pattern'] == 'defiantcanardbl145', 'Name_modified_by_pattern'] = 'defcnd3'\n",
    "\n",
    "df_big_left.loc[df_big_left['Name_modified_by_pattern'] == 'marskepioneerianaca2311243012ahybrid', 'Name_modified_by_pattern'] = 'marske2'\n",
    "df_big_left.loc[df_big_left['Name_modified_by_pattern'] == 'marskepioneeriidrootnaca431012a24112hybrid', 'Name_modified_by_pattern'] = 'marske3'\n",
    "df_big_left.loc[df_big_left['Name_modified_by_pattern'] == 'marskepioneeriidtipnaca431012a', 'Name_modified_by_pattern'] = 'marske4'\n",
    "df_big_left.loc[df_big_left['Name_modified_by_pattern'] == 'marskepioneeriidtipnaca431012a*833hybrid', 'Name_modified_by_pattern'] = 'marske4'\n",
    "df_big_left.loc[df_big_left['Name_modified_by_pattern'] == 'marskemonarchnaca43012a', 'Name_modified_by_pattern'] = 'marske5'\n",
    "df_big_left.loc[df_big_left['Name_modified_by_pattern'] == 'lockheedgeorgiasupercritical', 'Name_modified_by_pattern'] = 'lg10sc'\n",
    "df_big_left.loc[df_big_left['Name_modified_by_pattern'] == 'be656865tc75cambersuitableforf1atowlinegliderc', 'Name_modified_by_pattern'] = 'be6568'\n",
    "df_big_left.loc[df_big_left['Name_modified_by_pattern'] == 'be669966maxtc99maxcamberclmax21atre100000trans', 'Name_modified_by_pattern'] = 'be6699'\n",
    "df_big_left.loc[df_big_left['Name_modified_by_pattern'] == 'sikorskysc1094r8', 'Name_modified_by_pattern'] = 'sc1094r8'\n",
    "df_big_left.loc[df_big_left['Name_modified_by_pattern'] == 'dragonflycanard', 'Name_modified_by_pattern'] = 'drgnfly'\n",
    "\n",
    "df_big_left.loc[df_big_left['Name_modified_by_pattern'] == 'davisbasicb24wing', 'Name_modified_by_pattern'] = 'davis_corrected'\n",
    "df_big_left.loc[df_big_left['Name_modified_by_pattern'] == 'lockheedc141bl1136', 'Name_modified_by_pattern'] = 'c141b'\n",
    "df_big_left.loc[df_big_left['Name_modified_by_pattern'] == 'lockheedc141bl42657', 'Name_modified_by_pattern'] = 'c141c'\n",
    "df_big_left.loc[df_big_left['Name_modified_by_pattern'] == 'lockheedc141bl61061', 'Name_modified_by_pattern'] = 'c141d'\n",
    "df_big_left.loc[df_big_left['Name_modified_by_pattern'] == 'lockheedc141bl76111', 'Name_modified_by_pattern'] = 'c141e'\n",
    "df_big_left.loc[df_big_left['Name_modified_by_pattern'] == 'lockheedc141bl95889', 'Name_modified_by_pattern'] = 'c141f'\n",
    "df_big_left.loc[df_big_left['Name_modified_by_pattern'] == 'lockheedc5abl1256', 'Name_modified_by_pattern'] = 'c5e'\n",
    "df_big_left.loc[df_big_left['Name_modified_by_pattern'] == 'lockheedc5abl576', 'Name_modified_by_pattern'] = 'c5c'\n",
    "df_big_left.loc[df_big_left['Name_modified_by_pattern'] == 'lockheedc5abl7586', 'Name_modified_by_pattern'] = 'c5d'\n",
    "df_big_left.loc[df_big_left['Name_modified_by_pattern'] == 'marskexm1df1430', 'Name_modified_by_pattern'] = 'marske1'\n",
    "df_big_left.loc[df_big_left['Name_modified_by_pattern'] == 'naca001034a=08cli=02', 'Name_modified_by_pattern'] = 'naca001034a08cli0'\n",
    "df_big_left.loc[df_big_left['Name_modified_by_pattern'] == 'ronczlowdragflyingwing', 'Name_modified_by_pattern'] = 'marske7'"
   ]
  },
  {
   "cell_type": "code",
   "execution_count": 808,
   "metadata": {},
   "outputs": [
    {
     "name": "stdout",
     "output_type": "stream",
     "text": [
      "Le dataset contient 297 valeurs dont 33 correspondent aux fichiers dat.\n",
      "Il reste 264 valeurs à matcher.\n",
      "(6060, 7)\n",
      "Index(['Name_big', 'Family', 'Name_modified', 'Name_dat', 'Size',\n",
      "       'SimilarFunction', 'checked'],\n",
      "      dtype='object')\n",
      "Unmatched values left in the dat folder : (277, 7)\n",
      "Unmatched values left in big table : (264, 7)\n"
     ]
    }
   ],
   "source": [
    "# Merge the verified result \n",
    "df_merge = merge_df(df_big_left, df_dat_left, 'Name_modified_by_pattern')\n",
    "# Concat the new match to the storage df \n",
    "df_big_match = df_merge[df_merge['Name_dat'].isna() == False].copy()\n",
    "df_match =  pd.concat([df_match, df_big_match], ignore_index=True,axis=0)\n",
    "df_match = df_match[['Name_big', 'Family', 'Name_modified', 'Name_dat', 'Size', 'SimilarFunction']]\n",
    "df_match.loc[df_match['SimilarFunction'].isna(), 'SimilarFunction'] = True\n",
    "df_match['checked'] = True\n",
    "print(df_match.shape)\n",
    "print(df_match.columns)\n",
    "df_dat_left, df_big_left = set_df_left(df_dat_left, df_merge, 'Name_modified_by_pattern')"
   ]
  },
  {
   "cell_type": "code",
   "execution_count": 809,
   "metadata": {},
   "outputs": [],
   "source": [
    "# Get list of names to try matching\n",
    "list_big_modified = df_big_left['Name_modified'].values\n",
    "list_dat_modified = df_dat_left['Name_modified'].values\n",
    "\n",
    "list_big_modified_by_pattern = df_big_left['Name_modified_by_pattern'].values\n",
    "list_dat_modified_by_pattern = df_dat_left['Name_modified_by_pattern'].values\n",
    "\n",
    "list_big_modified_by_family = df_big_left['Name_modified_by_family'].values\n",
    "list_dat_modified_by_family = df_dat_left['Name_modified_by_family'].values"
   ]
  },
  {
   "cell_type": "markdown",
   "metadata": {},
   "source": [
    "### Function"
   ]
  },
  {
   "cell_type": "code",
   "execution_count": 810,
   "metadata": {},
   "outputs": [],
   "source": [
    "from difflib import SequenceMatcher\n",
    "def similar(a, b):\n",
    "    return SequenceMatcher(None, a, b).ratio()\n",
    "\n",
    "from fuzzywuzzy import fuzz\n",
    "def similar_fuzz(string1, string2):\n",
    "    return fuzz.partial_ratio(string1, string2)\n",
    "\n",
    "def find_match(list_big, list_dat):\n",
    "    ratio = []\n",
    "    word = []\n",
    "    match = []\n",
    "    partial_match = []\n",
    "    partial_ratio = []\n",
    "\n",
    "    for i in list_big:\n",
    "        maxscore = 0\n",
    "        maxpartial = 0\n",
    "        storeword = \"temp\"\n",
    "        storeword_partial = \"temp\"\n",
    "        for j in list_dat:\n",
    "            score = similar(i,j)\n",
    "            partial_score = similar_fuzz(i,j)\n",
    "            if (score > maxscore):\n",
    "                maxscore = score\n",
    "                storeword = j\n",
    "            # Equal score are not handled by this function\n",
    "            # It could be a great improvement \n",
    "            #if (score == maxscore):\n",
    "            if (partial_score > maxpartial):\n",
    "                maxpartial = partial_score\n",
    "                storeword_partial = j\n",
    "        word.append(i)\n",
    "        match.append(storeword)\n",
    "        ratio.append(maxscore)\n",
    "        partial_match.append(storeword_partial)\n",
    "        partial_ratio.append(maxpartial)\n",
    "        df_similar = pd.DataFrame(data={'Name' : word, 'Match' : match, 'Score' : ratio, 'Match_2' : partial_match, 'Score_2' : partial_ratio})\n",
    "    return df_similar"
   ]
  },
  {
   "cell_type": "code",
   "execution_count": 811,
   "metadata": {},
   "outputs": [],
   "source": [
    "def manual_verif_by_score(df, score):\n",
    "    max_born = score\n",
    "    min_born = score - 0.1\n",
    "    mask_score = (df['Score'] < max_born) & (df['Score'] >= min_born)\n",
    "    return df[mask_score].sort_values(by=['Score'], ascending=False)\n",
    "\n",
    "def manual_validation(df, score):\n",
    "    max_born = score\n",
    "    min_born = score - 0.1\n",
    "    mask_score = (df['Score'] < max_born) & (df['Score'] >= min_born)\n",
    "    df.loc[df[mask_score].index, 'checked'] = True\n",
    "    return df"
   ]
  },
  {
   "cell_type": "markdown",
   "metadata": {},
   "source": [
    "### Test"
   ]
  },
  {
   "cell_type": "code",
   "execution_count": 812,
   "metadata": {},
   "outputs": [
    {
     "name": "stdout",
     "output_type": "stream",
     "text": [
      "0.875\n",
      "0.9655172413793104\n",
      "0.9411764705882353\n"
     ]
    }
   ],
   "source": [
    "df_similar_modified = find_match(list_big_modified, list_dat_modified)\n",
    "df_similar_modified_by_pattern = find_match(list_big_modified_by_pattern, list_dat_modified_by_pattern)\n",
    "df_similar_modified_by_family = find_match(list_big_modified_by_family, list_dat_modified_by_family)\n",
    "print(df_similar_modified['Score'].max())\n",
    "print(df_similar_modified_by_pattern['Score'].max())\n",
    "print(df_similar_modified_by_family['Score'].max())"
   ]
  },
  {
   "cell_type": "markdown",
   "metadata": {},
   "source": [
    "We will work with df_big_left since it contains the best score among the three."
   ]
  },
  {
   "cell_type": "code",
   "execution_count": 813,
   "metadata": {},
   "outputs": [],
   "source": [
    "# We create some columns to store the result of basic verif\n",
    "df_similar_modified_by_pattern['checked'] = False\n",
    "df_similar_modified_by_pattern['same'] = False\n",
    "df_similar_modified_by_pattern['unique'] = False\n",
    "\n",
    "# We check if the match found are unique and if the 2 match found are the same\n",
    "mask_unique = df_similar_modified_by_pattern['Match'].value_counts() == 1\n",
    "index_unique = mask_unique[mask_unique == True].index.to_list()\n",
    "name_all = df_similar_modified_by_pattern['Match'].to_list()\n",
    "unique_col = []\n",
    "for name in name_all:\n",
    "    if(name in index_unique):\n",
    "        unique_col.append(True)\n",
    "    else:\n",
    "        unique_col.append(False)\n",
    "df_similar_modified_by_pattern['unique'] = unique_col\n",
    "df_similar_modified_by_pattern.loc[(df_similar_modified_by_pattern['Match'] == df_similar_modified_by_pattern['Match_2']), 'same'] = True"
   ]
  },
  {
   "cell_type": "markdown",
   "metadata": {},
   "source": [
    "### Result where the match is unique"
   ]
  },
  {
   "cell_type": "code",
   "execution_count": 814,
   "metadata": {},
   "outputs": [
    {
     "name": "stdout",
     "output_type": "stream",
     "text": [
      "(174, 8)\n"
     ]
    },
    {
     "data": {
      "text/html": [
       "<div>\n",
       "<style scoped>\n",
       "    .dataframe tbody tr th:only-of-type {\n",
       "        vertical-align: middle;\n",
       "    }\n",
       "\n",
       "    .dataframe tbody tr th {\n",
       "        vertical-align: top;\n",
       "    }\n",
       "\n",
       "    .dataframe thead th {\n",
       "        text-align: right;\n",
       "    }\n",
       "</style>\n",
       "<table border=\"1\" class=\"dataframe\">\n",
       "  <thead>\n",
       "    <tr style=\"text-align: right;\">\n",
       "      <th></th>\n",
       "      <th>Name</th>\n",
       "      <th>Match</th>\n",
       "      <th>Score</th>\n",
       "      <th>Match_2</th>\n",
       "      <th>Score_2</th>\n",
       "      <th>checked</th>\n",
       "      <th>same</th>\n",
       "      <th>unique</th>\n",
       "    </tr>\n",
       "  </thead>\n",
       "  <tbody>\n",
       "    <tr>\n",
       "      <th>1</th>\n",
       "      <td>ag44ct02f</td>\n",
       "      <td>ag44ct02r</td>\n",
       "      <td>0.888889</td>\n",
       "      <td>ag44ct02r</td>\n",
       "      <td>89</td>\n",
       "      <td>False</td>\n",
       "      <td>True</td>\n",
       "      <td>True</td>\n",
       "    </tr>\n",
       "    <tr>\n",
       "      <th>2</th>\n",
       "      <td>ag455ct02frot</td>\n",
       "      <td>ag455ct02r</td>\n",
       "      <td>0.869565</td>\n",
       "      <td>ag455ct02r</td>\n",
       "      <td>90</td>\n",
       "      <td>False</td>\n",
       "      <td>True</td>\n",
       "      <td>True</td>\n",
       "    </tr>\n",
       "    <tr>\n",
       "      <th>3</th>\n",
       "      <td>ag45c03f</td>\n",
       "      <td>ag45c03</td>\n",
       "      <td>0.933333</td>\n",
       "      <td>ag45c03</td>\n",
       "      <td>100</td>\n",
       "      <td>False</td>\n",
       "      <td>True</td>\n",
       "      <td>True</td>\n",
       "    </tr>\n",
       "    <tr>\n",
       "      <th>4</th>\n",
       "      <td>ag45ct02f</td>\n",
       "      <td>ag45ct02r</td>\n",
       "      <td>0.888889</td>\n",
       "      <td>ag455ct02r</td>\n",
       "      <td>89</td>\n",
       "      <td>False</td>\n",
       "      <td>False</td>\n",
       "      <td>True</td>\n",
       "    </tr>\n",
       "    <tr>\n",
       "      <th>5</th>\n",
       "      <td>ag46c03f</td>\n",
       "      <td>ag46c03</td>\n",
       "      <td>0.933333</td>\n",
       "      <td>ag46c03</td>\n",
       "      <td>100</td>\n",
       "      <td>False</td>\n",
       "      <td>True</td>\n",
       "      <td>True</td>\n",
       "    </tr>\n",
       "  </tbody>\n",
       "</table>\n",
       "</div>"
      ],
      "text/plain": [
       "            Name       Match     Score     Match_2  Score_2  checked   same  \\\n",
       "1      ag44ct02f   ag44ct02r  0.888889   ag44ct02r       89    False   True   \n",
       "2  ag455ct02frot  ag455ct02r  0.869565  ag455ct02r       90    False   True   \n",
       "3       ag45c03f     ag45c03  0.933333     ag45c03      100    False   True   \n",
       "4      ag45ct02f   ag45ct02r  0.888889  ag455ct02r       89    False  False   \n",
       "5       ag46c03f     ag46c03  0.933333     ag46c03      100    False   True   \n",
       "\n",
       "   unique  \n",
       "1    True  \n",
       "2    True  \n",
       "3    True  \n",
       "4    True  \n",
       "5    True  "
      ]
     },
     "execution_count": 814,
     "metadata": {},
     "output_type": "execute_result"
    }
   ],
   "source": [
    "df = df_similar_modified_by_pattern[df_similar_modified_by_pattern['unique'] == True].copy()\n",
    "print(df.shape)\n",
    "df.head()"
   ]
  },
  {
   "cell_type": "code",
   "execution_count": 815,
   "metadata": {},
   "outputs": [
    {
     "name": "stdout",
     "output_type": "stream",
     "text": [
      "1.0 : (26, 8)\n",
      "0.9 : (49, 8)\n",
      "0.8 : (39, 8)\n",
      "0.7 : (28, 8)\n",
      "0.6 : (10, 8)\n",
      "0.5 : (12, 8)\n",
      "0.4 : (5, 8)\n",
      "0.3 : (1, 8)\n",
      "0.2 : (0, 8)\n"
     ]
    },
    {
     "data": {
      "text/plain": [
       "[None, None, None, None, None, None, None, None, None]"
      ]
     },
     "execution_count": 815,
     "metadata": {},
     "output_type": "execute_result"
    }
   ],
   "source": [
    "[print(f'{x/10} : {manual_verif_by_score(df, x/10).shape}') for x in range(10,1,-1)]"
   ]
  },
  {
   "cell_type": "code",
   "execution_count": 816,
   "metadata": {},
   "outputs": [],
   "source": [
    "manual_verif_by_score(df, 1)\n",
    "df = manual_validation(df, 1)"
   ]
  },
  {
   "cell_type": "code",
   "execution_count": 817,
   "metadata": {},
   "outputs": [],
   "source": [
    "manual_verif_by_score(df, 0.9)\n",
    "df = manual_validation(df, 0.9)"
   ]
  },
  {
   "cell_type": "code",
   "execution_count": 818,
   "metadata": {},
   "outputs": [],
   "source": [
    "# Found 1 error with the correction below \n",
    "df.loc[df['Name'] == 'jwl0438821', 'Match'] =  'jwl043'\n",
    "manual_verif_by_score(df, 0.8)\n",
    "df = manual_validation(df, 0.8)"
   ]
  },
  {
   "cell_type": "code",
   "execution_count": 819,
   "metadata": {},
   "outputs": [],
   "source": [
    "# Found 1 error with the correction below \n",
    "df.loc[df['Name'] == 'ssv2316vansrv10', 'Match'] =  'ssv2316'\n",
    "manual_verif_by_score(df, 0.7)\n",
    "df = manual_validation(df, 0.7)"
   ]
  },
  {
   "cell_type": "code",
   "execution_count": 820,
   "metadata": {},
   "outputs": [],
   "source": [
    "# Found 4 error with the correction below \n",
    "df.loc[df['Name'] == 'uag92170sf', 'Match'] =  'uag92170sf'\n",
    "df.loc[df['Name'] == 'grummank2', 'Match'] =  'k2'\n",
    "df.loc[df['Name'] == 'grummank3', 'Match'] =  'k3'\n",
    "df.loc[df['Name'] == 'jh35', 'Match'] =  'jh35'\n",
    "\n",
    "manual_verif_by_score(df, 0.6)\n",
    "df = manual_validation(df, 0.6)"
   ]
  },
  {
   "cell_type": "code",
   "execution_count": 821,
   "metadata": {},
   "outputs": [],
   "source": [
    "manual_verif_by_score(df, 0.5)\n",
    "df = manual_validation(df, 0.5)"
   ]
  },
  {
   "cell_type": "code",
   "execution_count": 822,
   "metadata": {},
   "outputs": [],
   "source": [
    "# Found 1 error with the correction below \n",
    "df.loc[df['Name'] == 'lockheedc5abl4882', 'Match'] =  'c5b'\n",
    "\n",
    "manual_verif_by_score(df, 0.4)\n",
    "df = manual_validation(df, 0.4)"
   ]
  },
  {
   "cell_type": "code",
   "execution_count": 823,
   "metadata": {},
   "outputs": [],
   "source": [
    "# Found 1 error with the correction below \n",
    "df.loc[df['Name'] == 'flyingwingpeewee30', 'Match'] =  'flyingwingpeeWee30'\n",
    "\n",
    "manual_verif_by_score(df, 0.3)\n",
    "df = manual_validation(df, 0.3)"
   ]
  },
  {
   "cell_type": "code",
   "execution_count": 824,
   "metadata": {},
   "outputs": [],
   "source": [
    "df.loc[df['checked'] != True, 'checked'] =  True"
   ]
  },
  {
   "cell_type": "code",
   "execution_count": 825,
   "metadata": {},
   "outputs": [
    {
     "data": {
      "text/html": [
       "<div>\n",
       "<style scoped>\n",
       "    .dataframe tbody tr th:only-of-type {\n",
       "        vertical-align: middle;\n",
       "    }\n",
       "\n",
       "    .dataframe tbody tr th {\n",
       "        vertical-align: top;\n",
       "    }\n",
       "\n",
       "    .dataframe thead th {\n",
       "        text-align: right;\n",
       "    }\n",
       "</style>\n",
       "<table border=\"1\" class=\"dataframe\">\n",
       "  <thead>\n",
       "    <tr style=\"text-align: right;\">\n",
       "      <th></th>\n",
       "      <th>Name</th>\n",
       "      <th>Match</th>\n",
       "      <th>Score</th>\n",
       "      <th>Match_2</th>\n",
       "      <th>Score_2</th>\n",
       "      <th>checked</th>\n",
       "      <th>same</th>\n",
       "      <th>unique</th>\n",
       "    </tr>\n",
       "  </thead>\n",
       "  <tbody>\n",
       "    <tr>\n",
       "      <th>1</th>\n",
       "      <td>ag44ct02f</td>\n",
       "      <td>ag44ct02r</td>\n",
       "      <td>0.888889</td>\n",
       "      <td>ag44ct02r</td>\n",
       "      <td>89</td>\n",
       "      <td>True</td>\n",
       "      <td>True</td>\n",
       "      <td>True</td>\n",
       "    </tr>\n",
       "    <tr>\n",
       "      <th>2</th>\n",
       "      <td>ag455ct02frot</td>\n",
       "      <td>ag455ct02r</td>\n",
       "      <td>0.869565</td>\n",
       "      <td>ag455ct02r</td>\n",
       "      <td>90</td>\n",
       "      <td>True</td>\n",
       "      <td>True</td>\n",
       "      <td>True</td>\n",
       "    </tr>\n",
       "    <tr>\n",
       "      <th>3</th>\n",
       "      <td>ag45c03f</td>\n",
       "      <td>ag45c03</td>\n",
       "      <td>0.933333</td>\n",
       "      <td>ag45c03</td>\n",
       "      <td>100</td>\n",
       "      <td>True</td>\n",
       "      <td>True</td>\n",
       "      <td>True</td>\n",
       "    </tr>\n",
       "    <tr>\n",
       "      <th>4</th>\n",
       "      <td>ag45ct02f</td>\n",
       "      <td>ag45ct02r</td>\n",
       "      <td>0.888889</td>\n",
       "      <td>ag455ct02r</td>\n",
       "      <td>89</td>\n",
       "      <td>True</td>\n",
       "      <td>False</td>\n",
       "      <td>True</td>\n",
       "    </tr>\n",
       "    <tr>\n",
       "      <th>5</th>\n",
       "      <td>ag46c03f</td>\n",
       "      <td>ag46c03</td>\n",
       "      <td>0.933333</td>\n",
       "      <td>ag46c03</td>\n",
       "      <td>100</td>\n",
       "      <td>True</td>\n",
       "      <td>True</td>\n",
       "      <td>True</td>\n",
       "    </tr>\n",
       "  </tbody>\n",
       "</table>\n",
       "</div>"
      ],
      "text/plain": [
       "            Name       Match     Score     Match_2  Score_2  checked   same  \\\n",
       "1      ag44ct02f   ag44ct02r  0.888889   ag44ct02r       89     True   True   \n",
       "2  ag455ct02frot  ag455ct02r  0.869565  ag455ct02r       90     True   True   \n",
       "3       ag45c03f     ag45c03  0.933333     ag45c03      100     True   True   \n",
       "4      ag45ct02f   ag45ct02r  0.888889  ag455ct02r       89     True  False   \n",
       "5       ag46c03f     ag46c03  0.933333     ag46c03      100     True   True   \n",
       "\n",
       "   unique  \n",
       "1    True  \n",
       "2    True  \n",
       "3    True  \n",
       "4    True  \n",
       "5    True  "
      ]
     },
     "execution_count": 825,
     "metadata": {},
     "output_type": "execute_result"
    }
   ],
   "source": [
    "df.head()"
   ]
  },
  {
   "cell_type": "code",
   "execution_count": 826,
   "metadata": {},
   "outputs": [
    {
     "data": {
      "text/html": [
       "<div>\n",
       "<style scoped>\n",
       "    .dataframe tbody tr th:only-of-type {\n",
       "        vertical-align: middle;\n",
       "    }\n",
       "\n",
       "    .dataframe tbody tr th {\n",
       "        vertical-align: top;\n",
       "    }\n",
       "\n",
       "    .dataframe thead th {\n",
       "        text-align: right;\n",
       "    }\n",
       "</style>\n",
       "<table border=\"1\" class=\"dataframe\">\n",
       "  <thead>\n",
       "    <tr style=\"text-align: right;\">\n",
       "      <th></th>\n",
       "      <th>Name_big</th>\n",
       "      <th>Family</th>\n",
       "      <th>Name_modified</th>\n",
       "      <th>First letter</th>\n",
       "      <th>Name_modified_by_pattern</th>\n",
       "      <th>parenthesis_content</th>\n",
       "      <th>Name_modified_by_family</th>\n",
       "    </tr>\n",
       "  </thead>\n",
       "  <tbody>\n",
       "    <tr>\n",
       "      <th>0</th>\n",
       "      <td>63A108 MOD C</td>\n",
       "      <td>NASA</td>\n",
       "      <td>63a108 mod c</td>\n",
       "      <td>6</td>\n",
       "      <td>63a108modc</td>\n",
       "      <td>[]</td>\n",
       "      <td>63a108 mod c</td>\n",
       "    </tr>\n",
       "    <tr>\n",
       "      <th>1</th>\n",
       "      <td>AG44CT -02F</td>\n",
       "      <td>Drela</td>\n",
       "      <td>ag44ct -02f</td>\n",
       "      <td>a</td>\n",
       "      <td>ag44ct02f</td>\n",
       "      <td>[]</td>\n",
       "      <td>ag44ct -02f</td>\n",
       "    </tr>\n",
       "    <tr>\n",
       "      <th>2</th>\n",
       "      <td>AG455CT -02F ROT.</td>\n",
       "      <td>Drela</td>\n",
       "      <td>ag455ct -02f rot.</td>\n",
       "      <td>a</td>\n",
       "      <td>ag455ct02frot</td>\n",
       "      <td>[]</td>\n",
       "      <td>ag455ct -02f rot.</td>\n",
       "    </tr>\n",
       "    <tr>\n",
       "      <th>3</th>\n",
       "      <td>AG45C -03F</td>\n",
       "      <td>Drela</td>\n",
       "      <td>ag45c -03f</td>\n",
       "      <td>a</td>\n",
       "      <td>ag45c03f</td>\n",
       "      <td>[]</td>\n",
       "      <td>ag45c -03f</td>\n",
       "    </tr>\n",
       "    <tr>\n",
       "      <th>4</th>\n",
       "      <td>AG45CT -02F</td>\n",
       "      <td>Drela</td>\n",
       "      <td>ag45ct -02f</td>\n",
       "      <td>a</td>\n",
       "      <td>ag45ct02f</td>\n",
       "      <td>[]</td>\n",
       "      <td>ag45ct -02f</td>\n",
       "    </tr>\n",
       "  </tbody>\n",
       "</table>\n",
       "</div>"
      ],
      "text/plain": [
       "            Name_big Family      Name_modified First letter  \\\n",
       "0       63A108 MOD C   NASA       63a108 mod c            6   \n",
       "1        AG44CT -02F  Drela        ag44ct -02f            a   \n",
       "2  AG455CT -02F ROT.  Drela  ag455ct -02f rot.            a   \n",
       "3         AG45C -03F  Drela         ag45c -03f            a   \n",
       "4        AG45CT -02F  Drela        ag45ct -02f            a   \n",
       "\n",
       "  Name_modified_by_pattern parenthesis_content Name_modified_by_family  \n",
       "0               63a108modc                  []            63a108 mod c  \n",
       "1                ag44ct02f                  []             ag44ct -02f  \n",
       "2            ag455ct02frot                  []       ag455ct -02f rot.  \n",
       "3                 ag45c03f                  []              ag45c -03f  \n",
       "4                ag45ct02f                  []             ag45ct -02f  "
      ]
     },
     "execution_count": 826,
     "metadata": {},
     "output_type": "execute_result"
    }
   ],
   "source": [
    "df_big_left.head()"
   ]
  },
  {
   "cell_type": "markdown",
   "metadata": {},
   "source": [
    "### Store the result"
   ]
  },
  {
   "cell_type": "code",
   "execution_count": 827,
   "metadata": {},
   "outputs": [
    {
     "data": {
      "text/plain": [
       "(174, 8)"
      ]
     },
     "execution_count": 827,
     "metadata": {},
     "output_type": "execute_result"
    }
   ],
   "source": [
    "df.shape"
   ]
  },
  {
   "cell_type": "code",
   "execution_count": 828,
   "metadata": {},
   "outputs": [
    {
     "name": "stdout",
     "output_type": "stream",
     "text": [
      "Le dataset contient 264 valeurs dont 174 correspondent aux fichiers dat.\n",
      "Il reste 90 valeurs à matcher.\n"
     ]
    }
   ],
   "source": [
    "# Merge the verified result \n",
    "df['Name_similar'] = df['Name'].copy()\n",
    "df_big_left['Name_similar'] = df_big_left['Name_modified_by_pattern'].copy()\n",
    "\n",
    "df_merge = pd.merge(df_big_left, df, on='Name_similar', how='left', suffixes=('_big', '_match'))\n",
    "nb_mismatch = df_merge[df_merge['Match'].isna()].shape[0]\n",
    "nb_match = df_merge.shape[0] - nb_mismatch\n",
    "print(f'Le dataset contient {df_merge.shape[0]} valeurs dont {nb_match} correspondent aux fichiers dat.')\n",
    "print(f'Il reste {nb_mismatch} valeurs à matcher.')"
   ]
  },
  {
   "cell_type": "code",
   "execution_count": 829,
   "metadata": {},
   "outputs": [
    {
     "name": "stdout",
     "output_type": "stream",
     "text": [
      "(6234, 9)\n"
     ]
    },
    {
     "data": {
      "text/html": [
       "<div>\n",
       "<style scoped>\n",
       "    .dataframe tbody tr th:only-of-type {\n",
       "        vertical-align: middle;\n",
       "    }\n",
       "\n",
       "    .dataframe tbody tr th {\n",
       "        vertical-align: top;\n",
       "    }\n",
       "\n",
       "    .dataframe thead th {\n",
       "        text-align: right;\n",
       "    }\n",
       "</style>\n",
       "<table border=\"1\" class=\"dataframe\">\n",
       "  <thead>\n",
       "    <tr style=\"text-align: right;\">\n",
       "      <th></th>\n",
       "      <th>Name_big</th>\n",
       "      <th>Family</th>\n",
       "      <th>Name_modified</th>\n",
       "      <th>Name_dat</th>\n",
       "      <th>Size</th>\n",
       "      <th>SimilarFunction</th>\n",
       "      <th>checked</th>\n",
       "      <th>Name_similar</th>\n",
       "      <th>Name_modified_by_pattern</th>\n",
       "    </tr>\n",
       "  </thead>\n",
       "  <tbody>\n",
       "    <tr>\n",
       "      <th>0</th>\n",
       "      <td>A18</td>\n",
       "      <td>Uncategorized</td>\n",
       "      <td>a18</td>\n",
       "      <td>a18.DAT</td>\n",
       "      <td>945.0</td>\n",
       "      <td>False</td>\n",
       "      <td>True</td>\n",
       "      <td>NaN</td>\n",
       "      <td>NaN</td>\n",
       "    </tr>\n",
       "    <tr>\n",
       "      <th>1</th>\n",
       "      <td>A6014-S</td>\n",
       "      <td>Ayers</td>\n",
       "      <td>a6014-s</td>\n",
       "      <td>A6014-S.DAT</td>\n",
       "      <td>6116.0</td>\n",
       "      <td>False</td>\n",
       "      <td>True</td>\n",
       "      <td>NaN</td>\n",
       "      <td>NaN</td>\n",
       "    </tr>\n",
       "    <tr>\n",
       "      <th>2</th>\n",
       "      <td>A6016-S</td>\n",
       "      <td>Ayers</td>\n",
       "      <td>a6016-s</td>\n",
       "      <td>A6016-S.DAT</td>\n",
       "      <td>5914.0</td>\n",
       "      <td>False</td>\n",
       "      <td>True</td>\n",
       "      <td>NaN</td>\n",
       "      <td>NaN</td>\n",
       "    </tr>\n",
       "    <tr>\n",
       "      <th>3</th>\n",
       "      <td>A6018-S</td>\n",
       "      <td>Ayers</td>\n",
       "      <td>a6018-s</td>\n",
       "      <td>A6018-S.DAT</td>\n",
       "      <td>5889.0</td>\n",
       "      <td>False</td>\n",
       "      <td>True</td>\n",
       "      <td>NaN</td>\n",
       "      <td>NaN</td>\n",
       "    </tr>\n",
       "    <tr>\n",
       "      <th>4</th>\n",
       "      <td>A6020-S</td>\n",
       "      <td>Ayers</td>\n",
       "      <td>a6020-s</td>\n",
       "      <td>A6020-S.DAT</td>\n",
       "      <td>6116.0</td>\n",
       "      <td>False</td>\n",
       "      <td>True</td>\n",
       "      <td>NaN</td>\n",
       "      <td>NaN</td>\n",
       "    </tr>\n",
       "  </tbody>\n",
       "</table>\n",
       "</div>"
      ],
      "text/plain": [
       "  Name_big         Family Name_modified     Name_dat    Size SimilarFunction  \\\n",
       "0      A18  Uncategorized           a18      a18.DAT   945.0           False   \n",
       "1  A6014-S          Ayers       a6014-s  A6014-S.DAT  6116.0           False   \n",
       "2  A6016-S          Ayers       a6016-s  A6016-S.DAT  5914.0           False   \n",
       "3  A6018-S          Ayers       a6018-s  A6018-S.DAT  5889.0           False   \n",
       "4  A6020-S          Ayers       a6020-s  A6020-S.DAT  6116.0           False   \n",
       "\n",
       "  checked Name_similar Name_modified_by_pattern  \n",
       "0    True          NaN                      NaN  \n",
       "1    True          NaN                      NaN  \n",
       "2    True          NaN                      NaN  \n",
       "3    True          NaN                      NaN  \n",
       "4    True          NaN                      NaN  "
      ]
     },
     "execution_count": 829,
     "metadata": {},
     "output_type": "execute_result"
    }
   ],
   "source": [
    "df_big_match = df_merge[df_merge['Match'].isna() == False].copy()\n",
    "df_big_match = df_big_match[['Name_big', 'Family', 'Name_similar', 'Match', 'checked']]\n",
    "df_big_match.rename(columns={\"Match\": \"Name_modified_by_pattern\"},inplace=True)\n",
    "df_match =  pd.concat([df_match, df_big_match], ignore_index=True,axis=0)\n",
    "print(df_match.shape)\n",
    "df_match.head()"
   ]
  },
  {
   "cell_type": "code",
   "execution_count": 830,
   "metadata": {},
   "outputs": [],
   "source": [
    "# Complete with Name dat file\n",
    "df_match = pd.merge(df_match, df_dat_left[['Name_modified_by_pattern', 'Name_dat', 'Size']], on='Name_modified_by_pattern', how='left', suffixes=('_match', '_left'))\n",
    "df_match['Name_dat'] = df_match['Name_dat_match'].fillna(df_match['Name_dat_left'])\n",
    "df_match['Size'] = df_match['Size_match'].fillna(df_match['Size_left'])\n",
    "df_match.drop(columns=['Name_dat_match', 'Size_match', 'Name_modified_by_pattern', 'Name_dat_left', 'Size_left'], inplace=True)"
   ]
  },
  {
   "cell_type": "code",
   "execution_count": 831,
   "metadata": {},
   "outputs": [
    {
     "data": {
      "text/html": [
       "<div>\n",
       "<style scoped>\n",
       "    .dataframe tbody tr th:only-of-type {\n",
       "        vertical-align: middle;\n",
       "    }\n",
       "\n",
       "    .dataframe tbody tr th {\n",
       "        vertical-align: top;\n",
       "    }\n",
       "\n",
       "    .dataframe thead th {\n",
       "        text-align: right;\n",
       "    }\n",
       "</style>\n",
       "<table border=\"1\" class=\"dataframe\">\n",
       "  <thead>\n",
       "    <tr style=\"text-align: right;\">\n",
       "      <th></th>\n",
       "      <th>Name_big</th>\n",
       "      <th>Family</th>\n",
       "      <th>Name_modified</th>\n",
       "      <th>SimilarFunction</th>\n",
       "      <th>checked</th>\n",
       "      <th>Name_similar</th>\n",
       "      <th>Name_dat</th>\n",
       "      <th>Size</th>\n",
       "    </tr>\n",
       "  </thead>\n",
       "  <tbody>\n",
       "    <tr>\n",
       "      <th>6132</th>\n",
       "      <td>JH35</td>\n",
       "      <td>Hammond</td>\n",
       "      <td>NaN</td>\n",
       "      <td>NaN</td>\n",
       "      <td>True</td>\n",
       "      <td>jh35</td>\n",
       "      <td>NaN</td>\n",
       "      <td>NaN</td>\n",
       "    </tr>\n",
       "    <tr>\n",
       "      <th>6229</th>\n",
       "      <td>UAG92 170/SF</td>\n",
       "      <td>Uncategorized</td>\n",
       "      <td>NaN</td>\n",
       "      <td>NaN</td>\n",
       "      <td>True</td>\n",
       "      <td>uag92170sf</td>\n",
       "      <td>NaN</td>\n",
       "      <td>NaN</td>\n",
       "    </tr>\n",
       "  </tbody>\n",
       "</table>\n",
       "</div>"
      ],
      "text/plain": [
       "          Name_big         Family Name_modified SimilarFunction checked  \\\n",
       "6132          JH35        Hammond           NaN             NaN    True   \n",
       "6229  UAG92 170/SF  Uncategorized           NaN             NaN    True   \n",
       "\n",
       "     Name_similar Name_dat  Size  \n",
       "6132         jh35      NaN   NaN  \n",
       "6229   uag92170sf      NaN   NaN  "
      ]
     },
     "execution_count": 831,
     "metadata": {},
     "output_type": "execute_result"
    }
   ],
   "source": [
    "##### Exceptions !!!!!!\n",
    "df_match[df_match['Name_dat'].isna()]"
   ]
  },
  {
   "cell_type": "markdown",
   "metadata": {},
   "source": [
    "### Result not unique"
   ]
  },
  {
   "cell_type": "code",
   "execution_count": 832,
   "metadata": {},
   "outputs": [
    {
     "name": "stdout",
     "output_type": "stream",
     "text": [
      "Unmatched values left in the dat folder : (105, 8)\n",
      "Unmatched values left in big table : (90, 8)\n"
     ]
    }
   ],
   "source": [
    "# Get the dataset with the unmatched values left\n",
    "# Merge the verified result \n",
    "df['Match_similar'] = df['Match'].copy()\n",
    "df_dat_left['Match_similar'] = df_dat_left['Name_modified_by_pattern'].copy()\n",
    "df_dat_left = pd.merge(df, df_dat_left, on='Match_similar', how='right', suffixes=('_match', '_dat'))\n",
    "df_dat_left = df_dat_left[df_dat_left['Match'].isna()]\n",
    "df_dat_left.dropna(axis=1, how='all', inplace=True)\n",
    "print(f\"Unmatched values left in the dat folder : {df_dat_left.shape}\")\n",
    "\n",
    "df_big_left = df_merge[df_merge['Match'].isna()].copy()\n",
    "df_big_left.dropna(axis=1, how='all', inplace=True)\n",
    "print(f\"Unmatched values left in big table : {df_big_left.shape}\")\n",
    "\n",
    "df_big_left = df_big_left[['Name_big', 'Family', 'Name_modified', 'Name_similar', 'parenthesis_content']]\n",
    "df_dat_left = df_dat_left[['Match_similar', 'Name_modified', 'Name_dat', 'parenthesis_content']]"
   ]
  },
  {
   "cell_type": "code",
   "execution_count": 833,
   "metadata": {},
   "outputs": [],
   "source": [
    "# relaunch similar on df left\n",
    "# Get list of names to try matching\n",
    "list_big_left = df_big_left['Name_similar'].values\n",
    "error_list = ['hq17', 'qa001sm', 'qa002sm', 'qa001', 'qa002', 'qa003',\n",
    "              'jh817', 'jh25', 'du80176v1', 'du80141','naca001034a08cli0']\n",
    "list_big_left = [name for name in list_big_left if name not in error_list]\n",
    "list_dat_left = df_dat_left['Match_similar'].values\n",
    "df_similar_left = find_match(list_big_left, list_dat_left)"
   ]
  },
  {
   "cell_type": "code",
   "execution_count": 834,
   "metadata": {},
   "outputs": [],
   "source": [
    "# error_list = ['hq17', 'qa001sm', 'qa002sm', 'qa001', 'qa002', 'qa003',\n",
    "#               'jh817', 'jh25', 'jh35', 'du8017v1alt', 'du80176v1', 'du80141',\n",
    "#               'uag9217sf', 'naca001034a08cli0']"
   ]
  },
  {
   "cell_type": "code",
   "execution_count": 835,
   "metadata": {},
   "outputs": [],
   "source": [
    "# error not in list_big_left : du8017v1alt, uag9217sf, jh35   du80176v1alt\n",
    "error_list = ['hq17', 'qa001sm', 'qa002sm', 'qa001', 'qa002', 'qa003',\n",
    "              'jh817', 'jh25', 'du80176v1', 'du80141','naca001034a08cli0', 'du80176v1alt']"
   ]
  },
  {
   "cell_type": "code",
   "execution_count": 836,
   "metadata": {},
   "outputs": [
    {
     "name": "stdout",
     "output_type": "stream",
     "text": [
      "1.0 : (6, 5)\n",
      "0.9 : (11, 5)\n",
      "0.8 : (25, 5)\n",
      "0.7 : (3, 5)\n",
      "0.6 : (6, 5)\n",
      "0.5 : (10, 5)\n",
      "0.4 : (15, 5)\n",
      "0.3 : (3, 5)\n",
      "0.2 : (0, 5)\n"
     ]
    },
    {
     "data": {
      "text/plain": [
       "[None, None, None, None, None, None, None, None, None]"
      ]
     },
     "execution_count": 836,
     "metadata": {},
     "output_type": "execute_result"
    }
   ],
   "source": [
    "[print(f'{x/10} : {manual_verif_by_score(df_similar_left, x/10).shape}') for x in range(10,1,-1)]"
   ]
  },
  {
   "cell_type": "code",
   "execution_count": 837,
   "metadata": {},
   "outputs": [],
   "source": [
    "manual_verif_by_score(df_similar_left, 1)\n",
    "df_similar_left = manual_validation(df_similar_left, 1)"
   ]
  },
  {
   "cell_type": "code",
   "execution_count": 838,
   "metadata": {},
   "outputs": [],
   "source": [
    "# Found 1 error with the correction below \n",
    "manual_verif_by_score(df_similar_left, 0.9)\n",
    "# match 2 is better than 1\n",
    "mask_score = (df_similar_left['Score'] >= 0.8) & (df_similar_left['Score'] <= 0.9)\n",
    "df_similar_left.loc[df_similar_left[mask_score].index, 'Match'] = df_similar_left.loc[df_similar_left[mask_score].index, 'Match_2']\n",
    "df_similar_left = manual_validation(df_similar_left, 0.9)"
   ]
  },
  {
   "cell_type": "code",
   "execution_count": 839,
   "metadata": {},
   "outputs": [],
   "source": [
    "manual_verif_by_score(df_similar_left, 0.8)\n",
    "# match 2 is better than 1\n",
    "mask_score = (df_similar_left['Score'] >= 0.7) & (df_similar_left['Score'] <= 0.8)\n",
    "df_similar_left.loc[df_similar_left[mask_score].index, 'Match'] = df_similar_left.loc[df_similar_left[mask_score].index, 'Match_2']\n",
    "df_similar_left = manual_validation(df_similar_left, 0.8)"
   ]
  },
  {
   "cell_type": "code",
   "execution_count": 840,
   "metadata": {},
   "outputs": [],
   "source": [
    "manual_verif_by_score(df_similar_left, 0.7)\n",
    "df_similar_left = manual_validation(df_similar_left, 0.7)"
   ]
  },
  {
   "cell_type": "code",
   "execution_count": 841,
   "metadata": {},
   "outputs": [
    {
     "data": {
      "text/html": [
       "<div>\n",
       "<style scoped>\n",
       "    .dataframe tbody tr th:only-of-type {\n",
       "        vertical-align: middle;\n",
       "    }\n",
       "\n",
       "    .dataframe tbody tr th {\n",
       "        vertical-align: top;\n",
       "    }\n",
       "\n",
       "    .dataframe thead th {\n",
       "        text-align: right;\n",
       "    }\n",
       "</style>\n",
       "<table border=\"1\" class=\"dataframe\">\n",
       "  <thead>\n",
       "    <tr style=\"text-align: right;\">\n",
       "      <th></th>\n",
       "      <th>Name</th>\n",
       "      <th>Match</th>\n",
       "      <th>Score</th>\n",
       "      <th>Match_2</th>\n",
       "      <th>Score_2</th>\n",
       "      <th>checked</th>\n",
       "    </tr>\n",
       "  </thead>\n",
       "  <tbody>\n",
       "    <tr>\n",
       "      <th>5</th>\n",
       "      <td>ah217version</td>\n",
       "      <td>ah217</td>\n",
       "      <td>0.588235</td>\n",
       "      <td>ah217</td>\n",
       "      <td>100</td>\n",
       "      <td>NaN</td>\n",
       "    </tr>\n",
       "    <tr>\n",
       "      <th>8</th>\n",
       "      <td>amsoil1rutancanard</td>\n",
       "      <td>amsoil1</td>\n",
       "      <td>0.560000</td>\n",
       "      <td>amsoil1</td>\n",
       "      <td>100</td>\n",
       "      <td>NaN</td>\n",
       "    </tr>\n",
       "    <tr>\n",
       "      <th>23</th>\n",
       "      <td>deesokay230</td>\n",
       "      <td>oa206</td>\n",
       "      <td>0.500000</td>\n",
       "      <td>oa206</td>\n",
       "      <td>60</td>\n",
       "      <td>NaN</td>\n",
       "    </tr>\n",
       "    <tr>\n",
       "      <th>24</th>\n",
       "      <td>du80176v1alt</td>\n",
       "      <td>du861372</td>\n",
       "      <td>0.500000</td>\n",
       "      <td>vr1</td>\n",
       "      <td>67</td>\n",
       "      <td>NaN</td>\n",
       "    </tr>\n",
       "    <tr>\n",
       "      <th>34</th>\n",
       "      <td>jhsym10</td>\n",
       "      <td>n5h10</td>\n",
       "      <td>0.500000</td>\n",
       "      <td>m12</td>\n",
       "      <td>67</td>\n",
       "      <td>NaN</td>\n",
       "    </tr>\n",
       "    <tr>\n",
       "      <th>76</th>\n",
       "      <td>swallowp30</td>\n",
       "      <td>jwl030</td>\n",
       "      <td>0.500000</td>\n",
       "      <td>jwl030</td>\n",
       "      <td>50</td>\n",
       "      <td>NaN</td>\n",
       "    </tr>\n",
       "  </tbody>\n",
       "</table>\n",
       "</div>"
      ],
      "text/plain": [
       "                  Name     Match     Score  Match_2  Score_2 checked\n",
       "5         ah217version     ah217  0.588235    ah217      100     NaN\n",
       "8   amsoil1rutancanard   amsoil1  0.560000  amsoil1      100     NaN\n",
       "23         deesokay230     oa206  0.500000    oa206       60     NaN\n",
       "24        du80176v1alt  du861372  0.500000      vr1       67     NaN\n",
       "34             jhsym10     n5h10  0.500000      m12       67     NaN\n",
       "76          swallowp30    jwl030  0.500000   jwl030       50     NaN"
      ]
     },
     "execution_count": 841,
     "metadata": {},
     "output_type": "execute_result"
    }
   ],
   "source": [
    "manual_verif_by_score(df_similar_left, 0.6)"
   ]
  },
  {
   "cell_type": "code",
   "execution_count": 842,
   "metadata": {},
   "outputs": [
    {
     "data": {
      "text/html": [
       "<div>\n",
       "<style scoped>\n",
       "    .dataframe tbody tr th:only-of-type {\n",
       "        vertical-align: middle;\n",
       "    }\n",
       "\n",
       "    .dataframe tbody tr th {\n",
       "        vertical-align: top;\n",
       "    }\n",
       "\n",
       "    .dataframe thead th {\n",
       "        text-align: right;\n",
       "    }\n",
       "</style>\n",
       "<table border=\"1\" class=\"dataframe\">\n",
       "  <thead>\n",
       "    <tr style=\"text-align: right;\">\n",
       "      <th></th>\n",
       "      <th>Name</th>\n",
       "      <th>Match</th>\n",
       "      <th>Score</th>\n",
       "      <th>Match_2</th>\n",
       "      <th>Score_2</th>\n",
       "      <th>checked</th>\n",
       "    </tr>\n",
       "  </thead>\n",
       "  <tbody>\n",
       "    <tr>\n",
       "      <th>56</th>\n",
       "      <td>naca66218155a=6p51root</td>\n",
       "      <td>p51droot</td>\n",
       "      <td>0.466667</td>\n",
       "      <td>p51droot</td>\n",
       "      <td>93</td>\n",
       "      <td>NaN</td>\n",
       "    </tr>\n",
       "    <tr>\n",
       "      <th>12</th>\n",
       "      <td>boeingvertolv43012158</td>\n",
       "      <td>v43012</td>\n",
       "      <td>0.444444</td>\n",
       "      <td>v43012</td>\n",
       "      <td>100</td>\n",
       "      <td>NaN</td>\n",
       "    </tr>\n",
       "    <tr>\n",
       "      <th>13</th>\n",
       "      <td>boeingvertolv43015248</td>\n",
       "      <td>v43012</td>\n",
       "      <td>0.444444</td>\n",
       "      <td>v43015</td>\n",
       "      <td>100</td>\n",
       "      <td>NaN</td>\n",
       "    </tr>\n",
       "    <tr>\n",
       "      <th>21</th>\n",
       "      <td>cyranoiip30</td>\n",
       "      <td>raf30md</td>\n",
       "      <td>0.444444</td>\n",
       "      <td>m3</td>\n",
       "      <td>50</td>\n",
       "      <td>NaN</td>\n",
       "    </tr>\n",
       "    <tr>\n",
       "      <th>30</th>\n",
       "      <td>horstmannandquasthq300gdmod2</td>\n",
       "      <td>hq300gd2</td>\n",
       "      <td>0.444444</td>\n",
       "      <td>hq300gd2</td>\n",
       "      <td>88</td>\n",
       "      <td>NaN</td>\n",
       "    </tr>\n",
       "    <tr>\n",
       "      <th>55</th>\n",
       "      <td>naca6621812a=6p51tip</td>\n",
       "      <td>p51dtip</td>\n",
       "      <td>0.444444</td>\n",
       "      <td>p51dtip</td>\n",
       "      <td>92</td>\n",
       "      <td>NaN</td>\n",
       "    </tr>\n",
       "    <tr>\n",
       "      <th>57</th>\n",
       "      <td>naca001264a=08cli=02</td>\n",
       "      <td>a63a108c</td>\n",
       "      <td>0.428571</td>\n",
       "      <td>c5a</td>\n",
       "      <td>67</td>\n",
       "      <td>NaN</td>\n",
       "    </tr>\n",
       "    <tr>\n",
       "      <th>67</th>\n",
       "      <td>republics3</td>\n",
       "      <td>rhodesg30</td>\n",
       "      <td>0.421053</td>\n",
       "      <td>s3</td>\n",
       "      <td>100</td>\n",
       "      <td>NaN</td>\n",
       "    </tr>\n",
       "    <tr>\n",
       "      <th>58</th>\n",
       "      <td>nplfromarccp1372</td>\n",
       "      <td>hsnlf213</td>\n",
       "      <td>0.416667</td>\n",
       "      <td>nplx</td>\n",
       "      <td>75</td>\n",
       "      <td>NaN</td>\n",
       "    </tr>\n",
       "    <tr>\n",
       "      <th>69</th>\n",
       "      <td>roncz1046voyagercanard</td>\n",
       "      <td>oneradsharpte</td>\n",
       "      <td>0.400000</td>\n",
       "      <td>r1046</td>\n",
       "      <td>80</td>\n",
       "      <td>NaN</td>\n",
       "    </tr>\n",
       "  </tbody>\n",
       "</table>\n",
       "</div>"
      ],
      "text/plain": [
       "                            Name          Match     Score   Match_2  Score_2  \\\n",
       "56        naca66218155a=6p51root       p51droot  0.466667  p51droot       93   \n",
       "12         boeingvertolv43012158         v43012  0.444444    v43012      100   \n",
       "13         boeingvertolv43015248         v43012  0.444444    v43015      100   \n",
       "21                   cyranoiip30        raf30md  0.444444        m3       50   \n",
       "30  horstmannandquasthq300gdmod2       hq300gd2  0.444444  hq300gd2       88   \n",
       "55          naca6621812a=6p51tip        p51dtip  0.444444   p51dtip       92   \n",
       "57          naca001264a=08cli=02       a63a108c  0.428571       c5a       67   \n",
       "67                    republics3      rhodesg30  0.421053        s3      100   \n",
       "58              nplfromarccp1372       hsnlf213  0.416667      nplx       75   \n",
       "69        roncz1046voyagercanard  oneradsharpte  0.400000     r1046       80   \n",
       "\n",
       "   checked  \n",
       "56     NaN  \n",
       "12     NaN  \n",
       "13     NaN  \n",
       "21     NaN  \n",
       "30     NaN  \n",
       "55     NaN  \n",
       "57     NaN  \n",
       "67     NaN  \n",
       "58     NaN  \n",
       "69     NaN  "
      ]
     },
     "execution_count": 842,
     "metadata": {},
     "output_type": "execute_result"
    }
   ],
   "source": [
    "manual_verif_by_score(df_similar_left, 0.5)"
   ]
  },
  {
   "cell_type": "code",
   "execution_count": 843,
   "metadata": {},
   "outputs": [],
   "source": [
    "df_similar_left.loc[df_similar_left['checked'].isna(), 'Match'] = None"
   ]
  },
  {
   "cell_type": "markdown",
   "metadata": {},
   "source": [
    "### Store the result"
   ]
  },
  {
   "cell_type": "code",
   "execution_count": 844,
   "metadata": {},
   "outputs": [
    {
     "name": "stdout",
     "output_type": "stream",
     "text": [
      "Le dataset contient 90 valeurs dont 45 correspondent aux fichiers dat.\n",
      "Il reste 45 valeurs à matcher.\n"
     ]
    }
   ],
   "source": [
    "# Merge the verified result \n",
    "df_similar_left['Name_similar'] = df_similar_left['Name'].copy()\n",
    "df_merge = pd.merge(df_big_left, df_similar_left, on='Name_similar', how='left', suffixes=('_big', '_match'))\n",
    "nb_mismatch = df_merge[df_merge['Match'].isna()].shape[0]\n",
    "nb_match = df_merge.shape[0] - nb_mismatch\n",
    "print(f'Le dataset contient {df_merge.shape[0]} valeurs dont {nb_match} correspondent aux fichiers dat.')\n",
    "print(f'Il reste {nb_mismatch} valeurs à matcher.')"
   ]
  },
  {
   "cell_type": "code",
   "execution_count": 845,
   "metadata": {},
   "outputs": [
    {
     "name": "stdout",
     "output_type": "stream",
     "text": [
      "(6279, 9)\n"
     ]
    }
   ],
   "source": [
    "df_big_match = df_merge[df_merge['Match'].isna() == False].copy()\n",
    "df_big_match = df_big_match[['Name_big', 'Family', 'Name_similar', 'Match', 'checked']]\n",
    "df_big_match.rename(columns={\"Match\": \"Match_similar\"},inplace=True)\n",
    "df_match =  pd.concat([df_match, df_big_match], ignore_index=True,axis=0)\n",
    "print(df_match.shape)"
   ]
  },
  {
   "cell_type": "code",
   "execution_count": 846,
   "metadata": {},
   "outputs": [],
   "source": [
    "# Complete with Name dat file\n",
    "df_match = pd.merge(df_match, df_dat_left[['Match_similar', 'Name_modified', 'Name_dat']], on='Match_similar', how='left', suffixes=('_match', '_left'))\n",
    "df_match['Name_dat'] = df_match['Name_dat_match'].fillna(df_match['Name_dat_left'])\n",
    "df_match['Name_modified'] = df_match['Name_modified_match'].fillna(df_match['Name_modified_left'])\n",
    "df_match.drop(columns=['Name_dat_match', 'Name_dat_left', 'Name_modified_match', 'Name_modified_left'], inplace=True)"
   ]
  },
  {
   "cell_type": "code",
   "execution_count": 847,
   "metadata": {},
   "outputs": [
    {
     "data": {
      "text/html": [
       "<div>\n",
       "<style scoped>\n",
       "    .dataframe tbody tr th:only-of-type {\n",
       "        vertical-align: middle;\n",
       "    }\n",
       "\n",
       "    .dataframe tbody tr th {\n",
       "        vertical-align: top;\n",
       "    }\n",
       "\n",
       "    .dataframe thead th {\n",
       "        text-align: right;\n",
       "    }\n",
       "</style>\n",
       "<table border=\"1\" class=\"dataframe\">\n",
       "  <thead>\n",
       "    <tr style=\"text-align: right;\">\n",
       "      <th></th>\n",
       "      <th>Name_big</th>\n",
       "      <th>Family</th>\n",
       "      <th>SimilarFunction</th>\n",
       "      <th>checked</th>\n",
       "      <th>Name_similar</th>\n",
       "      <th>Size</th>\n",
       "      <th>Match_similar</th>\n",
       "      <th>Name_dat</th>\n",
       "      <th>Name_modified</th>\n",
       "    </tr>\n",
       "  </thead>\n",
       "  <tbody>\n",
       "    <tr>\n",
       "      <th>6274</th>\n",
       "      <td>SD7032-099-88</td>\n",
       "      <td>Selig et. al.</td>\n",
       "      <td>NaN</td>\n",
       "      <td>True</td>\n",
       "      <td>sd703209988</td>\n",
       "      <td>NaN</td>\n",
       "      <td>sd7032</td>\n",
       "      <td>sd7032.DAT</td>\n",
       "      <td>sd7032</td>\n",
       "    </tr>\n",
       "    <tr>\n",
       "      <th>6275</th>\n",
       "      <td>SD7037-092-88</td>\n",
       "      <td>Selig et. al.</td>\n",
       "      <td>NaN</td>\n",
       "      <td>True</td>\n",
       "      <td>sd703709288</td>\n",
       "      <td>NaN</td>\n",
       "      <td>sd7037</td>\n",
       "      <td>sd7037.DAT</td>\n",
       "      <td>sd7037</td>\n",
       "    </tr>\n",
       "    <tr>\n",
       "      <th>6276</th>\n",
       "      <td>SD8000-089-88</td>\n",
       "      <td>Selig et. al.</td>\n",
       "      <td>NaN</td>\n",
       "      <td>True</td>\n",
       "      <td>sd800008988</td>\n",
       "      <td>NaN</td>\n",
       "      <td>sd8000</td>\n",
       "      <td>sd8000.DAT</td>\n",
       "      <td>sd8000</td>\n",
       "    </tr>\n",
       "    <tr>\n",
       "      <th>6277</th>\n",
       "      <td>SD8020-010-88</td>\n",
       "      <td>Selig et. al.</td>\n",
       "      <td>NaN</td>\n",
       "      <td>True</td>\n",
       "      <td>sd802001088</td>\n",
       "      <td>NaN</td>\n",
       "      <td>sd8020</td>\n",
       "      <td>sd8020.DAT</td>\n",
       "      <td>sd8020</td>\n",
       "    </tr>\n",
       "    <tr>\n",
       "      <th>6278</th>\n",
       "      <td>TH 25816 HALE</td>\n",
       "      <td>Uncategorized</td>\n",
       "      <td>NaN</td>\n",
       "      <td>True</td>\n",
       "      <td>th25816hale</td>\n",
       "      <td>NaN</td>\n",
       "      <td>th25816</td>\n",
       "      <td>th25816.DAT</td>\n",
       "      <td>th25816</td>\n",
       "    </tr>\n",
       "  </tbody>\n",
       "</table>\n",
       "</div>"
      ],
      "text/plain": [
       "           Name_big         Family SimilarFunction checked Name_similar  Size  \\\n",
       "6274  SD7032-099-88  Selig et. al.             NaN    True  sd703209988   NaN   \n",
       "6275  SD7037-092-88  Selig et. al.             NaN    True  sd703709288   NaN   \n",
       "6276  SD8000-089-88  Selig et. al.             NaN    True  sd800008988   NaN   \n",
       "6277  SD8020-010-88  Selig et. al.             NaN    True  sd802001088   NaN   \n",
       "6278  TH 25816 HALE  Uncategorized             NaN    True  th25816hale   NaN   \n",
       "\n",
       "     Match_similar     Name_dat Name_modified  \n",
       "6274        sd7032   sd7032.DAT        sd7032  \n",
       "6275        sd7037   sd7037.DAT        sd7037  \n",
       "6276        sd8000   sd8000.DAT        sd8000  \n",
       "6277        sd8020   sd8020.DAT        sd8020  \n",
       "6278       th25816  th25816.DAT       th25816  "
      ]
     },
     "execution_count": 847,
     "metadata": {},
     "output_type": "execute_result"
    }
   ],
   "source": [
    "df_match.tail(5)"
   ]
  },
  {
   "cell_type": "code",
   "execution_count": 848,
   "metadata": {},
   "outputs": [
    {
     "data": {
      "text/html": [
       "<div>\n",
       "<style scoped>\n",
       "    .dataframe tbody tr th:only-of-type {\n",
       "        vertical-align: middle;\n",
       "    }\n",
       "\n",
       "    .dataframe tbody tr th {\n",
       "        vertical-align: top;\n",
       "    }\n",
       "\n",
       "    .dataframe thead th {\n",
       "        text-align: right;\n",
       "    }\n",
       "</style>\n",
       "<table border=\"1\" class=\"dataframe\">\n",
       "  <thead>\n",
       "    <tr style=\"text-align: right;\">\n",
       "      <th></th>\n",
       "      <th>Name_big</th>\n",
       "      <th>Family</th>\n",
       "      <th>SimilarFunction</th>\n",
       "      <th>checked</th>\n",
       "      <th>Name_similar</th>\n",
       "      <th>Size</th>\n",
       "      <th>Match_similar</th>\n",
       "      <th>Name_dat</th>\n",
       "      <th>Name_modified</th>\n",
       "    </tr>\n",
       "  </thead>\n",
       "  <tbody>\n",
       "    <tr>\n",
       "      <th>6132</th>\n",
       "      <td>JH35</td>\n",
       "      <td>Hammond</td>\n",
       "      <td>NaN</td>\n",
       "      <td>True</td>\n",
       "      <td>jh35</td>\n",
       "      <td>NaN</td>\n",
       "      <td>NaN</td>\n",
       "      <td>NaN</td>\n",
       "      <td>NaN</td>\n",
       "    </tr>\n",
       "    <tr>\n",
       "      <th>6229</th>\n",
       "      <td>UAG92 170/SF</td>\n",
       "      <td>Uncategorized</td>\n",
       "      <td>NaN</td>\n",
       "      <td>True</td>\n",
       "      <td>uag92170sf</td>\n",
       "      <td>NaN</td>\n",
       "      <td>NaN</td>\n",
       "      <td>NaN</td>\n",
       "      <td>NaN</td>\n",
       "    </tr>\n",
       "  </tbody>\n",
       "</table>\n",
       "</div>"
      ],
      "text/plain": [
       "          Name_big         Family SimilarFunction checked Name_similar  Size  \\\n",
       "6132          JH35        Hammond             NaN    True         jh35   NaN   \n",
       "6229  UAG92 170/SF  Uncategorized             NaN    True   uag92170sf   NaN   \n",
       "\n",
       "     Match_similar Name_dat Name_modified  \n",
       "6132           NaN      NaN           NaN  \n",
       "6229           NaN      NaN           NaN  "
      ]
     },
     "execution_count": 848,
     "metadata": {},
     "output_type": "execute_result"
    }
   ],
   "source": [
    "##### Exceptions !!!!!!\n",
    "df_match[df_match['Name_dat'].isna()]"
   ]
  },
  {
   "cell_type": "code",
   "execution_count": 849,
   "metadata": {},
   "outputs": [],
   "source": [
    "# df_match.to_csv('index_90left.csv')"
   ]
  },
  {
   "cell_type": "markdown",
   "metadata": {},
   "source": [
    "### Last wings"
   ]
  },
  {
   "cell_type": "code",
   "execution_count": 850,
   "metadata": {},
   "outputs": [
    {
     "name": "stdout",
     "output_type": "stream",
     "text": [
      "Unmatched values left in the dat folder : (60, 4)\n",
      "Unmatched values left in big table : (45, 9)\n"
     ]
    }
   ],
   "source": [
    "# Get the dataset with the unmatched values left\n",
    "# Merge the verified result \n",
    "df_similar_left['Match_similar'] = df_similar_left['Match'].copy()\n",
    "df_dat_left = pd.merge(df_similar_left, df_dat_left, on='Match_similar', how='right', suffixes=('_match', '_dat'))\n",
    "df_dat_left = df_dat_left[df_dat_left['Match'].isna()]\n",
    "df_dat_left.dropna(axis=1, how='all', inplace=True)\n",
    "print(f\"Unmatched values left in the dat folder : {df_dat_left.shape}\")\n",
    "\n",
    "df_big_left = df_merge[df_merge['Match'].isna()].copy()\n",
    "df_big_left.dropna(axis=1, how='all', inplace=True)\n",
    "print(f\"Unmatched values left in big table : {df_big_left.shape}\")\n",
    "\n",
    "df_big_left = df_big_left[['Name_big', 'Family', 'Name_modified', 'Name_similar', 'parenthesis_content']]\n",
    "df_dat_left = df_dat_left[['Match_similar', 'Name_modified', 'Name_dat', 'parenthesis_content']]"
   ]
  },
  {
   "cell_type": "code",
   "execution_count": 851,
   "metadata": {},
   "outputs": [],
   "source": [
    "# Get list of names to try matching\n",
    "list_big_left = df_big_left['Name_similar'].values\n",
    "error_list = ['hq17', 'qa001sm', 'qa002sm', 'qa001', 'qa002', 'qa003',\n",
    "              'jh817', 'jh25', 'du80176v1', 'du80141','naca001034a08cli0', \n",
    "              'cyranoiip30', 'du80176v1alt', 'flyingwingpeewee30']\n",
    "list_big_left = [name for name in list_big_left if name not in error_list]\n",
    "list_dat_left = df_dat_left['Match_similar'].values\n",
    "\n",
    "df_similar_left2 = find_match(list_big_left, list_dat_left)"
   ]
  },
  {
   "cell_type": "code",
   "execution_count": 852,
   "metadata": {},
   "outputs": [
    {
     "name": "stdout",
     "output_type": "stream",
     "text": [
      "1.0 : (0, 5)\n",
      "0.9 : (0, 5)\n",
      "0.8 : (0, 5)\n",
      "0.7 : (0, 5)\n",
      "0.6 : (2, 5)\n",
      "0.5 : (6, 5)\n",
      "0.4 : (19, 5)\n",
      "0.3 : (3, 5)\n",
      "0.2 : (1, 5)\n",
      "0.1 : (0, 5)\n"
     ]
    },
    {
     "data": {
      "text/plain": [
       "[None, None, None, None, None, None, None, None, None, None]"
      ]
     },
     "execution_count": 852,
     "metadata": {},
     "output_type": "execute_result"
    }
   ],
   "source": [
    "[print(f'{x/10} : {manual_verif_by_score(df_similar_left2, x/10).shape}') for x in range(10,0,-1)]"
   ]
  },
  {
   "cell_type": "code",
   "execution_count": 853,
   "metadata": {},
   "outputs": [
    {
     "name": "stdout",
     "output_type": "stream",
     "text": [
      "(17, 7)\n",
      "(14, 7)\n"
     ]
    }
   ],
   "source": [
    "df_similar_left2['unique'] = False\n",
    "df_similar_left2['checked'] = False\n",
    "mask_unique = df_similar_left2['Match'].value_counts() == 1\n",
    "index_unique = mask_unique[mask_unique == True].index.to_list()\n",
    "name_all = df_similar_left2['Match'].to_list()\n",
    "unique_col = []\n",
    "for name in name_all:\n",
    "    if(name in index_unique):\n",
    "        unique_col.append(True)\n",
    "    else:\n",
    "        unique_col.append(False)\n",
    "df_similar_left2['unique'] = unique_col\n",
    "#df_similar_left2.drop(index=[14,19,30,44], axis=0, inplace=True)\n",
    "df_unique = df_similar_left2[df_similar_left2['unique'] == True].copy()\n",
    "df_duplicates = df_similar_left2[df_similar_left2['unique'] == False].copy()\n",
    "print(df_unique.shape)\n",
    "print(df_duplicates.shape)"
   ]
  },
  {
   "cell_type": "code",
   "execution_count": 854,
   "metadata": {},
   "outputs": [],
   "source": [
    "# df_unique seems all good \n",
    "df_unique.loc[df_unique['Name'] == 'nyugrummank1', 'Match'] = 'k1'\n",
    "df_similar_left2.loc[df_similar_left2['unique'] == True, 'checked'] = True\n",
    "df_unique['checked'] = True"
   ]
  },
  {
   "cell_type": "code",
   "execution_count": 856,
   "metadata": {},
   "outputs": [],
   "source": [
    "df_duplicates.loc[df_duplicates['Name'] == 'boeingvertolvr1', 'Match'] = 'vr1'\n",
    "df_duplicates.loc[df_duplicates['Name'] == 'nplfromarccp1372', 'Match'] = 'nplx'\n",
    "df_duplicates.loc[df_duplicates['Name'] == 'amsoil1rutancanard', 'Match'] = 'amsoil1'\n",
    "df_duplicates.loc[df_duplicates['Name'] == 'republics3', 'Match'] = 's3'\n",
    "df_duplicates.loc[df_duplicates['Name'] == 'boeingvertolv43012158', 'Match'] = 'v43012'\n",
    "df_duplicates.loc[df_duplicates['Name'] == 'boeingvertolv43015248', 'Match'] = 'v43015'\n",
    "df_duplicates.loc[df_duplicates['Name'] == 'naca66218155a=6p51root', 'Match'] = 'p51hroot'\n",
    "df_duplicates.loc[df_duplicates['Name'] == 'roncz1082voyagerrootouteraftwing', 'Match'] = 'r1082'\n",
    "df_duplicates.loc[df_duplicates['Name'] == 'roncz1082tvoyagertipouteraftwing', 'Match'] = 'r1082t'"
   ]
  },
  {
   "cell_type": "code",
   "execution_count": 857,
   "metadata": {},
   "outputs": [],
   "source": [
    "df_duplicates.loc[:, 'checked'] = True\n",
    "df_duplicates.loc[df_duplicates['Name'] == 'deesokay230', 'checked'] = False\n",
    "df_duplicates.loc[df_duplicates['Name'] == 'naca001264a=08cli=02', 'checked'] = False\n",
    "df_duplicates.loc[df_duplicates['Name'] == 'x35lowdragbody', 'checked'] = False\n",
    "df_duplicates.loc[df_duplicates['Name'] == 'jhsym10', 'checked'] = False\n",
    "df_duplicates.loc[df_duplicates['Name'] == 'swallowp30', 'checked'] = False\n",
    "df_final = pd.concat([df_duplicates[df_duplicates['checked'] == True], df_unique], ignore_index=True,axis=0)"
   ]
  },
  {
   "cell_type": "code",
   "execution_count": 859,
   "metadata": {},
   "outputs": [
    {
     "name": "stdout",
     "output_type": "stream",
     "text": [
      "Le dataset contient 45 valeurs dont 26 correspondent aux fichiers dat.\n",
      "Il reste 19 valeurs à matcher.\n"
     ]
    }
   ],
   "source": [
    "# Merge the verified result \n",
    "df_final['Name_similar'] = df_final['Name'].copy()\n",
    "df_merge = pd.merge(df_big_left, df_final, on='Name_similar', how='left', suffixes=('_big', '_match'))\n",
    "nb_mismatch = df_merge[df_merge['Match'].isna()].shape[0]\n",
    "nb_match = df_merge.shape[0] - nb_mismatch\n",
    "print(f'Le dataset contient {df_merge.shape[0]} valeurs dont {nb_match} correspondent aux fichiers dat.')\n",
    "print(f'Il reste {nb_mismatch} valeurs à matcher.')"
   ]
  },
  {
   "cell_type": "code",
   "execution_count": 860,
   "metadata": {},
   "outputs": [
    {
     "name": "stdout",
     "output_type": "stream",
     "text": [
      "(6305, 9)\n"
     ]
    },
    {
     "data": {
      "text/html": [
       "<div>\n",
       "<style scoped>\n",
       "    .dataframe tbody tr th:only-of-type {\n",
       "        vertical-align: middle;\n",
       "    }\n",
       "\n",
       "    .dataframe tbody tr th {\n",
       "        vertical-align: top;\n",
       "    }\n",
       "\n",
       "    .dataframe thead th {\n",
       "        text-align: right;\n",
       "    }\n",
       "</style>\n",
       "<table border=\"1\" class=\"dataframe\">\n",
       "  <thead>\n",
       "    <tr style=\"text-align: right;\">\n",
       "      <th></th>\n",
       "      <th>Name_big</th>\n",
       "      <th>Family</th>\n",
       "      <th>SimilarFunction</th>\n",
       "      <th>checked</th>\n",
       "      <th>Name_similar</th>\n",
       "      <th>Size</th>\n",
       "      <th>Match_similar</th>\n",
       "      <th>Name_dat</th>\n",
       "      <th>Name_modified</th>\n",
       "    </tr>\n",
       "  </thead>\n",
       "  <tbody>\n",
       "    <tr>\n",
       "      <th>0</th>\n",
       "      <td>A18</td>\n",
       "      <td>Uncategorized</td>\n",
       "      <td>False</td>\n",
       "      <td>True</td>\n",
       "      <td>NaN</td>\n",
       "      <td>945.0</td>\n",
       "      <td>NaN</td>\n",
       "      <td>a18.DAT</td>\n",
       "      <td>a18</td>\n",
       "    </tr>\n",
       "    <tr>\n",
       "      <th>1</th>\n",
       "      <td>A6014-S</td>\n",
       "      <td>Ayers</td>\n",
       "      <td>False</td>\n",
       "      <td>True</td>\n",
       "      <td>NaN</td>\n",
       "      <td>6116.0</td>\n",
       "      <td>NaN</td>\n",
       "      <td>A6014-S.DAT</td>\n",
       "      <td>a6014-s</td>\n",
       "    </tr>\n",
       "    <tr>\n",
       "      <th>2</th>\n",
       "      <td>A6016-S</td>\n",
       "      <td>Ayers</td>\n",
       "      <td>False</td>\n",
       "      <td>True</td>\n",
       "      <td>NaN</td>\n",
       "      <td>5914.0</td>\n",
       "      <td>NaN</td>\n",
       "      <td>A6016-S.DAT</td>\n",
       "      <td>a6016-s</td>\n",
       "    </tr>\n",
       "    <tr>\n",
       "      <th>3</th>\n",
       "      <td>A6018-S</td>\n",
       "      <td>Ayers</td>\n",
       "      <td>False</td>\n",
       "      <td>True</td>\n",
       "      <td>NaN</td>\n",
       "      <td>5889.0</td>\n",
       "      <td>NaN</td>\n",
       "      <td>A6018-S.DAT</td>\n",
       "      <td>a6018-s</td>\n",
       "    </tr>\n",
       "    <tr>\n",
       "      <th>4</th>\n",
       "      <td>A6020-S</td>\n",
       "      <td>Ayers</td>\n",
       "      <td>False</td>\n",
       "      <td>True</td>\n",
       "      <td>NaN</td>\n",
       "      <td>6116.0</td>\n",
       "      <td>NaN</td>\n",
       "      <td>A6020-S.DAT</td>\n",
       "      <td>a6020-s</td>\n",
       "    </tr>\n",
       "  </tbody>\n",
       "</table>\n",
       "</div>"
      ],
      "text/plain": [
       "  Name_big         Family SimilarFunction checked Name_similar    Size  \\\n",
       "0      A18  Uncategorized           False    True          NaN   945.0   \n",
       "1  A6014-S          Ayers           False    True          NaN  6116.0   \n",
       "2  A6016-S          Ayers           False    True          NaN  5914.0   \n",
       "3  A6018-S          Ayers           False    True          NaN  5889.0   \n",
       "4  A6020-S          Ayers           False    True          NaN  6116.0   \n",
       "\n",
       "  Match_similar     Name_dat Name_modified  \n",
       "0           NaN      a18.DAT           a18  \n",
       "1           NaN  A6014-S.DAT       a6014-s  \n",
       "2           NaN  A6016-S.DAT       a6016-s  \n",
       "3           NaN  A6018-S.DAT       a6018-s  \n",
       "4           NaN  A6020-S.DAT       a6020-s  "
      ]
     },
     "execution_count": 860,
     "metadata": {},
     "output_type": "execute_result"
    }
   ],
   "source": [
    "df_big_match = df_merge[df_merge['Match'].isna() == False].copy()\n",
    "df_big_match = df_big_match[['Name_big', 'Family', 'Match', 'checked']]\n",
    "df_big_match.rename(columns={\"Match\": \"Name_modified\"},inplace=True)\n",
    "df_match =  pd.concat([df_match, df_big_match], ignore_index=True,axis=0)\n",
    "print(df_match.shape)\n",
    "df_match.head()"
   ]
  },
  {
   "cell_type": "code",
   "execution_count": 861,
   "metadata": {},
   "outputs": [
    {
     "data": {
      "text/html": [
       "<div>\n",
       "<style scoped>\n",
       "    .dataframe tbody tr th:only-of-type {\n",
       "        vertical-align: middle;\n",
       "    }\n",
       "\n",
       "    .dataframe tbody tr th {\n",
       "        vertical-align: top;\n",
       "    }\n",
       "\n",
       "    .dataframe thead th {\n",
       "        text-align: right;\n",
       "    }\n",
       "</style>\n",
       "<table border=\"1\" class=\"dataframe\">\n",
       "  <thead>\n",
       "    <tr style=\"text-align: right;\">\n",
       "      <th></th>\n",
       "      <th>Name_big</th>\n",
       "      <th>Family</th>\n",
       "      <th>SimilarFunction</th>\n",
       "      <th>checked</th>\n",
       "      <th>Name_similar</th>\n",
       "      <th>Size</th>\n",
       "      <th>Match_similar</th>\n",
       "      <th>Name_dat</th>\n",
       "      <th>Name_modified</th>\n",
       "    </tr>\n",
       "  </thead>\n",
       "  <tbody>\n",
       "    <tr>\n",
       "      <th>6285</th>\n",
       "      <td>BOEING VERTOL V43015-2.48</td>\n",
       "      <td>Boeing</td>\n",
       "      <td>NaN</td>\n",
       "      <td>True</td>\n",
       "      <td>NaN</td>\n",
       "      <td>NaN</td>\n",
       "      <td>NaN</td>\n",
       "      <td>NaN</td>\n",
       "      <td>v43015</td>\n",
       "    </tr>\n",
       "    <tr>\n",
       "      <th>6286</th>\n",
       "      <td>BOEING-VERTOL VR-1</td>\n",
       "      <td>Boeing</td>\n",
       "      <td>NaN</td>\n",
       "      <td>True</td>\n",
       "      <td>NaN</td>\n",
       "      <td>NaN</td>\n",
       "      <td>NaN</td>\n",
       "      <td>NaN</td>\n",
       "      <td>vr1</td>\n",
       "    </tr>\n",
       "    <tr>\n",
       "      <th>6287</th>\n",
       "      <td>BOEING-VERTOL VR-5</td>\n",
       "      <td>Boeing</td>\n",
       "      <td>NaN</td>\n",
       "      <td>True</td>\n",
       "      <td>NaN</td>\n",
       "      <td>NaN</td>\n",
       "      <td>NaN</td>\n",
       "      <td>NaN</td>\n",
       "      <td>vr5</td>\n",
       "    </tr>\n",
       "    <tr>\n",
       "      <th>6288</th>\n",
       "      <td>BOEING-VERTOL VR-7</td>\n",
       "      <td>Boeing</td>\n",
       "      <td>NaN</td>\n",
       "      <td>True</td>\n",
       "      <td>NaN</td>\n",
       "      <td>NaN</td>\n",
       "      <td>NaN</td>\n",
       "      <td>NaN</td>\n",
       "      <td>vr7</td>\n",
       "    </tr>\n",
       "    <tr>\n",
       "      <th>6289</th>\n",
       "      <td>BOEING-VERTOL VR-7 WITH TAB</td>\n",
       "      <td>Boeing</td>\n",
       "      <td>NaN</td>\n",
       "      <td>True</td>\n",
       "      <td>NaN</td>\n",
       "      <td>NaN</td>\n",
       "      <td>NaN</td>\n",
       "      <td>NaN</td>\n",
       "      <td>vr7b</td>\n",
       "    </tr>\n",
       "    <tr>\n",
       "      <th>6290</th>\n",
       "      <td>BOEING-VERTOL VR-8</td>\n",
       "      <td>Boeing</td>\n",
       "      <td>NaN</td>\n",
       "      <td>True</td>\n",
       "      <td>NaN</td>\n",
       "      <td>NaN</td>\n",
       "      <td>NaN</td>\n",
       "      <td>NaN</td>\n",
       "      <td>vr8</td>\n",
       "    </tr>\n",
       "    <tr>\n",
       "      <th>6291</th>\n",
       "      <td>BOEING-VERTOL VR-8 WITH TAB</td>\n",
       "      <td>Boeing</td>\n",
       "      <td>NaN</td>\n",
       "      <td>True</td>\n",
       "      <td>NaN</td>\n",
       "      <td>NaN</td>\n",
       "      <td>NaN</td>\n",
       "      <td>NaN</td>\n",
       "      <td>vr8b</td>\n",
       "    </tr>\n",
       "    <tr>\n",
       "      <th>6292</th>\n",
       "      <td>BOEING-VERTOL VR-9</td>\n",
       "      <td>Boeing</td>\n",
       "      <td>NaN</td>\n",
       "      <td>True</td>\n",
       "      <td>NaN</td>\n",
       "      <td>NaN</td>\n",
       "      <td>NaN</td>\n",
       "      <td>NaN</td>\n",
       "      <td>vr9</td>\n",
       "    </tr>\n",
       "    <tr>\n",
       "      <th>6293</th>\n",
       "      <td>HORSTMANN AND QUAST HQ-300 GD(MOD 2)</td>\n",
       "      <td>Uncategorized</td>\n",
       "      <td>NaN</td>\n",
       "      <td>True</td>\n",
       "      <td>NaN</td>\n",
       "      <td>NaN</td>\n",
       "      <td>NaN</td>\n",
       "      <td>NaN</td>\n",
       "      <td>hq300gd2</td>\n",
       "    </tr>\n",
       "    <tr>\n",
       "      <th>6294</th>\n",
       "      <td>HUGHES HELICOPTERS HH-02</td>\n",
       "      <td>Uncategorized</td>\n",
       "      <td>NaN</td>\n",
       "      <td>True</td>\n",
       "      <td>NaN</td>\n",
       "      <td>NaN</td>\n",
       "      <td>NaN</td>\n",
       "      <td>NaN</td>\n",
       "      <td>hh02</td>\n",
       "    </tr>\n",
       "    <tr>\n",
       "      <th>6295</th>\n",
       "      <td>LOCKHEED C-5A BL0</td>\n",
       "      <td>Lockheed</td>\n",
       "      <td>NaN</td>\n",
       "      <td>True</td>\n",
       "      <td>NaN</td>\n",
       "      <td>NaN</td>\n",
       "      <td>NaN</td>\n",
       "      <td>NaN</td>\n",
       "      <td>c5a</td>\n",
       "    </tr>\n",
       "    <tr>\n",
       "      <th>6296</th>\n",
       "      <td>NACA 66,2-(1.8)12 A=.6 P-51 TIP</td>\n",
       "      <td>NACA</td>\n",
       "      <td>NaN</td>\n",
       "      <td>True</td>\n",
       "      <td>NaN</td>\n",
       "      <td>NaN</td>\n",
       "      <td>NaN</td>\n",
       "      <td>NaN</td>\n",
       "      <td>p51htip</td>\n",
       "    </tr>\n",
       "    <tr>\n",
       "      <th>6297</th>\n",
       "      <td>NACA 66,2-(1.8)15.5 A=.6 P-51 ROOT</td>\n",
       "      <td>NACA</td>\n",
       "      <td>NaN</td>\n",
       "      <td>True</td>\n",
       "      <td>NaN</td>\n",
       "      <td>NaN</td>\n",
       "      <td>NaN</td>\n",
       "      <td>NaN</td>\n",
       "      <td>p51hroot</td>\n",
       "    </tr>\n",
       "    <tr>\n",
       "      <th>6298</th>\n",
       "      <td>NPL FROM ARC CP 1372</td>\n",
       "      <td>NPL</td>\n",
       "      <td>NaN</td>\n",
       "      <td>True</td>\n",
       "      <td>NaN</td>\n",
       "      <td>NaN</td>\n",
       "      <td>NaN</td>\n",
       "      <td>NaN</td>\n",
       "      <td>nplx</td>\n",
       "    </tr>\n",
       "    <tr>\n",
       "      <th>6299</th>\n",
       "      <td>NYU/GRUMMAN K-1</td>\n",
       "      <td>Uncategorized</td>\n",
       "      <td>NaN</td>\n",
       "      <td>True</td>\n",
       "      <td>NaN</td>\n",
       "      <td>NaN</td>\n",
       "      <td>NaN</td>\n",
       "      <td>NaN</td>\n",
       "      <td>k1</td>\n",
       "    </tr>\n",
       "    <tr>\n",
       "      <th>6300</th>\n",
       "      <td>PROPFAN CRUISE MISSILE WING</td>\n",
       "      <td>Uncategorized</td>\n",
       "      <td>NaN</td>\n",
       "      <td>True</td>\n",
       "      <td>NaN</td>\n",
       "      <td>NaN</td>\n",
       "      <td>NaN</td>\n",
       "      <td>NaN</td>\n",
       "      <td>pfcm</td>\n",
       "    </tr>\n",
       "    <tr>\n",
       "      <th>6301</th>\n",
       "      <td>REPUBLIC S-3</td>\n",
       "      <td>Uncategorized</td>\n",
       "      <td>NaN</td>\n",
       "      <td>True</td>\n",
       "      <td>NaN</td>\n",
       "      <td>NaN</td>\n",
       "      <td>NaN</td>\n",
       "      <td>NaN</td>\n",
       "      <td>s3</td>\n",
       "    </tr>\n",
       "    <tr>\n",
       "      <th>6302</th>\n",
       "      <td>RONCZ 1046 VOYAGER CANARD</td>\n",
       "      <td>Uncategorized</td>\n",
       "      <td>NaN</td>\n",
       "      <td>True</td>\n",
       "      <td>NaN</td>\n",
       "      <td>NaN</td>\n",
       "      <td>NaN</td>\n",
       "      <td>NaN</td>\n",
       "      <td>r1046</td>\n",
       "    </tr>\n",
       "    <tr>\n",
       "      <th>6303</th>\n",
       "      <td>RONCZ 1082 VOYAGER ROOT OUTER AFT WING</td>\n",
       "      <td>Uncategorized</td>\n",
       "      <td>NaN</td>\n",
       "      <td>True</td>\n",
       "      <td>NaN</td>\n",
       "      <td>NaN</td>\n",
       "      <td>NaN</td>\n",
       "      <td>NaN</td>\n",
       "      <td>r1082</td>\n",
       "    </tr>\n",
       "    <tr>\n",
       "      <th>6304</th>\n",
       "      <td>RONCZ 1082T VOYAGER TIP OUTER AFT WING</td>\n",
       "      <td>Uncategorized</td>\n",
       "      <td>NaN</td>\n",
       "      <td>True</td>\n",
       "      <td>NaN</td>\n",
       "      <td>NaN</td>\n",
       "      <td>NaN</td>\n",
       "      <td>NaN</td>\n",
       "      <td>r1082t</td>\n",
       "    </tr>\n",
       "  </tbody>\n",
       "</table>\n",
       "</div>"
      ],
      "text/plain": [
       "                                    Name_big         Family SimilarFunction  \\\n",
       "6285               BOEING VERTOL V43015-2.48         Boeing             NaN   \n",
       "6286                      BOEING-VERTOL VR-1         Boeing             NaN   \n",
       "6287                      BOEING-VERTOL VR-5         Boeing             NaN   \n",
       "6288                      BOEING-VERTOL VR-7         Boeing             NaN   \n",
       "6289             BOEING-VERTOL VR-7 WITH TAB         Boeing             NaN   \n",
       "6290                      BOEING-VERTOL VR-8         Boeing             NaN   \n",
       "6291             BOEING-VERTOL VR-8 WITH TAB         Boeing             NaN   \n",
       "6292                      BOEING-VERTOL VR-9         Boeing             NaN   \n",
       "6293    HORSTMANN AND QUAST HQ-300 GD(MOD 2)  Uncategorized             NaN   \n",
       "6294                HUGHES HELICOPTERS HH-02  Uncategorized             NaN   \n",
       "6295                       LOCKHEED C-5A BL0       Lockheed             NaN   \n",
       "6296         NACA 66,2-(1.8)12 A=.6 P-51 TIP           NACA             NaN   \n",
       "6297      NACA 66,2-(1.8)15.5 A=.6 P-51 ROOT           NACA             NaN   \n",
       "6298                    NPL FROM ARC CP 1372            NPL             NaN   \n",
       "6299                         NYU/GRUMMAN K-1  Uncategorized             NaN   \n",
       "6300             PROPFAN CRUISE MISSILE WING  Uncategorized             NaN   \n",
       "6301                            REPUBLIC S-3  Uncategorized             NaN   \n",
       "6302               RONCZ 1046 VOYAGER CANARD  Uncategorized             NaN   \n",
       "6303  RONCZ 1082 VOYAGER ROOT OUTER AFT WING  Uncategorized             NaN   \n",
       "6304  RONCZ 1082T VOYAGER TIP OUTER AFT WING  Uncategorized             NaN   \n",
       "\n",
       "     checked Name_similar  Size Match_similar Name_dat Name_modified  \n",
       "6285    True          NaN   NaN           NaN      NaN        v43015  \n",
       "6286    True          NaN   NaN           NaN      NaN           vr1  \n",
       "6287    True          NaN   NaN           NaN      NaN           vr5  \n",
       "6288    True          NaN   NaN           NaN      NaN           vr7  \n",
       "6289    True          NaN   NaN           NaN      NaN          vr7b  \n",
       "6290    True          NaN   NaN           NaN      NaN           vr8  \n",
       "6291    True          NaN   NaN           NaN      NaN          vr8b  \n",
       "6292    True          NaN   NaN           NaN      NaN           vr9  \n",
       "6293    True          NaN   NaN           NaN      NaN      hq300gd2  \n",
       "6294    True          NaN   NaN           NaN      NaN          hh02  \n",
       "6295    True          NaN   NaN           NaN      NaN           c5a  \n",
       "6296    True          NaN   NaN           NaN      NaN       p51htip  \n",
       "6297    True          NaN   NaN           NaN      NaN      p51hroot  \n",
       "6298    True          NaN   NaN           NaN      NaN          nplx  \n",
       "6299    True          NaN   NaN           NaN      NaN            k1  \n",
       "6300    True          NaN   NaN           NaN      NaN          pfcm  \n",
       "6301    True          NaN   NaN           NaN      NaN            s3  \n",
       "6302    True          NaN   NaN           NaN      NaN         r1046  \n",
       "6303    True          NaN   NaN           NaN      NaN         r1082  \n",
       "6304    True          NaN   NaN           NaN      NaN        r1082t  "
      ]
     },
     "execution_count": 861,
     "metadata": {},
     "output_type": "execute_result"
    }
   ],
   "source": [
    "df_match.tail(20)"
   ]
  },
  {
   "cell_type": "code",
   "execution_count": 862,
   "metadata": {},
   "outputs": [
    {
     "data": {
      "text/plain": [
       "6296"
      ]
     },
     "execution_count": 862,
     "metadata": {},
     "output_type": "execute_result"
    }
   ],
   "source": [
    "6279+17"
   ]
  },
  {
   "cell_type": "code",
   "execution_count": 863,
   "metadata": {},
   "outputs": [
    {
     "name": "stdout",
     "output_type": "stream",
     "text": [
      "Unmatched values left in the dat folder : (34, 4)\n",
      "Unmatched values left in big table : (19, 5)\n"
     ]
    }
   ],
   "source": [
    "# Get the dataset with the unmatched values left\n",
    "# Merge the verified result \n",
    "df_final['Match_similar'] = df_final['Match'].copy()\n",
    "df_dat_left = pd.merge(df_final, df_dat_left, on='Match_similar', how='right', suffixes=('_match', '_dat'))\n",
    "df_dat_left = df_dat_left[df_dat_left['Match'].isna()]\n",
    "df_dat_left.dropna(axis=1, how='all', inplace=True)\n",
    "print(f\"Unmatched values left in the dat folder : {df_dat_left.shape}\")\n",
    "\n",
    "df_big_left = df_merge[df_merge['Match'].isna()].copy()\n",
    "df_big_left.dropna(axis=1, how='all', inplace=True)\n",
    "print(f\"Unmatched values left in big table : {df_big_left.shape}\")\n",
    "\n",
    "df_big_left = df_big_left[['Name_big', 'Family', 'Name_modified', 'Name_similar', 'parenthesis_content']]\n",
    "df_dat_left = df_dat_left[['Match_similar', 'Name_modified', 'Name_dat', 'parenthesis_content']]"
   ]
  },
  {
   "cell_type": "code",
   "execution_count": 867,
   "metadata": {},
   "outputs": [
    {
     "data": {
      "text/html": [
       "<div>\n",
       "<style scoped>\n",
       "    .dataframe tbody tr th:only-of-type {\n",
       "        vertical-align: middle;\n",
       "    }\n",
       "\n",
       "    .dataframe tbody tr th {\n",
       "        vertical-align: top;\n",
       "    }\n",
       "\n",
       "    .dataframe thead th {\n",
       "        text-align: right;\n",
       "    }\n",
       "</style>\n",
       "<table border=\"1\" class=\"dataframe\">\n",
       "  <thead>\n",
       "    <tr style=\"text-align: right;\">\n",
       "      <th></th>\n",
       "      <th>Name_big</th>\n",
       "      <th>Name_similar</th>\n",
       "    </tr>\n",
       "  </thead>\n",
       "  <tbody>\n",
       "    <tr>\n",
       "      <th>14</th>\n",
       "      <td>CYRANO II P-30</td>\n",
       "      <td>cyranoiip30</td>\n",
       "    </tr>\n",
       "    <tr>\n",
       "      <th>15</th>\n",
       "      <td>DEES OKAY230</td>\n",
       "      <td>deesokay230</td>\n",
       "    </tr>\n",
       "    <tr>\n",
       "      <th>16</th>\n",
       "      <td>DU 80-141</td>\n",
       "      <td>du80141</td>\n",
       "    </tr>\n",
       "    <tr>\n",
       "      <th>17</th>\n",
       "      <td>DU 80-176 V1</td>\n",
       "      <td>du80176v1</td>\n",
       "    </tr>\n",
       "    <tr>\n",
       "      <th>18</th>\n",
       "      <td>DU 80-176 V1 ALT</td>\n",
       "      <td>du80176v1alt</td>\n",
       "    </tr>\n",
       "    <tr>\n",
       "      <th>19</th>\n",
       "      <td>FLYING WING PEE WEE 30</td>\n",
       "      <td>flyingwingpeewee30</td>\n",
       "    </tr>\n",
       "    <tr>\n",
       "      <th>21</th>\n",
       "      <td>HQ-17</td>\n",
       "      <td>hq17</td>\n",
       "    </tr>\n",
       "    <tr>\n",
       "      <th>23</th>\n",
       "      <td>JH25</td>\n",
       "      <td>jh25</td>\n",
       "    </tr>\n",
       "    <tr>\n",
       "      <th>24</th>\n",
       "      <td>JH817</td>\n",
       "      <td>jh817</td>\n",
       "    </tr>\n",
       "    <tr>\n",
       "      <th>25</th>\n",
       "      <td>JHSYM-10</td>\n",
       "      <td>jhsym10</td>\n",
       "    </tr>\n",
       "    <tr>\n",
       "      <th>29</th>\n",
       "      <td>NACA0010-34 A=0.8 C(LI)=0.2</td>\n",
       "      <td>naca001034a08cli0</td>\n",
       "    </tr>\n",
       "    <tr>\n",
       "      <th>30</th>\n",
       "      <td>NACA0012-64 A=0.8 C(LI)=0.2</td>\n",
       "      <td>naca001264a=08cli=02</td>\n",
       "    </tr>\n",
       "    <tr>\n",
       "      <th>34</th>\n",
       "      <td>QA001</td>\n",
       "      <td>qa001</td>\n",
       "    </tr>\n",
       "    <tr>\n",
       "      <th>35</th>\n",
       "      <td>QA001SM</td>\n",
       "      <td>qa001sm</td>\n",
       "    </tr>\n",
       "    <tr>\n",
       "      <th>36</th>\n",
       "      <td>QA002</td>\n",
       "      <td>qa002</td>\n",
       "    </tr>\n",
       "    <tr>\n",
       "      <th>37</th>\n",
       "      <td>QA002SM</td>\n",
       "      <td>qa002sm</td>\n",
       "    </tr>\n",
       "    <tr>\n",
       "      <th>38</th>\n",
       "      <td>QA003</td>\n",
       "      <td>qa003</td>\n",
       "    </tr>\n",
       "    <tr>\n",
       "      <th>43</th>\n",
       "      <td>SWALLOW P-30</td>\n",
       "      <td>swallowp30</td>\n",
       "    </tr>\n",
       "    <tr>\n",
       "      <th>44</th>\n",
       "      <td>X-35 LOW DRAG BODY</td>\n",
       "      <td>x35lowdragbody</td>\n",
       "    </tr>\n",
       "  </tbody>\n",
       "</table>\n",
       "</div>"
      ],
      "text/plain": [
       "                       Name_big          Name_similar\n",
       "14               CYRANO II P-30           cyranoiip30\n",
       "15                 DEES OKAY230           deesokay230\n",
       "16                    DU 80-141               du80141\n",
       "17                 DU 80-176 V1             du80176v1\n",
       "18             DU 80-176 V1 ALT          du80176v1alt\n",
       "19       FLYING WING PEE WEE 30    flyingwingpeewee30\n",
       "21                        HQ-17                  hq17\n",
       "23                         JH25                  jh25\n",
       "24                        JH817                 jh817\n",
       "25                     JHSYM-10               jhsym10\n",
       "29  NACA0010-34 A=0.8 C(LI)=0.2     naca001034a08cli0\n",
       "30  NACA0012-64 A=0.8 C(LI)=0.2  naca001264a=08cli=02\n",
       "34                        QA001                 qa001\n",
       "35                      QA001SM               qa001sm\n",
       "36                        QA002                 qa002\n",
       "37                      QA002SM               qa002sm\n",
       "38                        QA003                 qa003\n",
       "43                 SWALLOW P-30            swallowp30\n",
       "44           X-35 LOW DRAG BODY        x35lowdragbody"
      ]
     },
     "execution_count": 867,
     "metadata": {},
     "output_type": "execute_result"
    }
   ],
   "source": [
    "df_big_left[['Name_big', 'Name_similar']]"
   ]
  },
  {
   "cell_type": "code",
   "execution_count": 874,
   "metadata": {},
   "outputs": [
    {
     "data": {
      "text/html": [
       "<div>\n",
       "<style scoped>\n",
       "    .dataframe tbody tr th:only-of-type {\n",
       "        vertical-align: middle;\n",
       "    }\n",
       "\n",
       "    .dataframe tbody tr th {\n",
       "        vertical-align: top;\n",
       "    }\n",
       "\n",
       "    .dataframe thead th {\n",
       "        text-align: right;\n",
       "    }\n",
       "</style>\n",
       "<table border=\"1\" class=\"dataframe\">\n",
       "  <thead>\n",
       "    <tr style=\"text-align: right;\">\n",
       "      <th></th>\n",
       "      <th>Name_big</th>\n",
       "      <th>Family</th>\n",
       "      <th>SimilarFunction</th>\n",
       "      <th>Size</th>\n",
       "      <th>Name_dat</th>\n",
       "      <th>Name_modified</th>\n",
       "    </tr>\n",
       "  </thead>\n",
       "  <tbody>\n",
       "    <tr>\n",
       "      <th>0</th>\n",
       "      <td>A18</td>\n",
       "      <td>Uncategorized</td>\n",
       "      <td>False</td>\n",
       "      <td>945.0</td>\n",
       "      <td>a18.DAT</td>\n",
       "      <td>a18</td>\n",
       "    </tr>\n",
       "    <tr>\n",
       "      <th>1</th>\n",
       "      <td>A6014-S</td>\n",
       "      <td>Ayers</td>\n",
       "      <td>False</td>\n",
       "      <td>6116.0</td>\n",
       "      <td>A6014-S.DAT</td>\n",
       "      <td>a6014-s</td>\n",
       "    </tr>\n",
       "    <tr>\n",
       "      <th>2</th>\n",
       "      <td>A6016-S</td>\n",
       "      <td>Ayers</td>\n",
       "      <td>False</td>\n",
       "      <td>5914.0</td>\n",
       "      <td>A6016-S.DAT</td>\n",
       "      <td>a6016-s</td>\n",
       "    </tr>\n",
       "    <tr>\n",
       "      <th>3</th>\n",
       "      <td>A6018-S</td>\n",
       "      <td>Ayers</td>\n",
       "      <td>False</td>\n",
       "      <td>5889.0</td>\n",
       "      <td>A6018-S.DAT</td>\n",
       "      <td>a6018-s</td>\n",
       "    </tr>\n",
       "    <tr>\n",
       "      <th>4</th>\n",
       "      <td>A6020-S</td>\n",
       "      <td>Ayers</td>\n",
       "      <td>False</td>\n",
       "      <td>6116.0</td>\n",
       "      <td>A6020-S.DAT</td>\n",
       "      <td>a6020-s</td>\n",
       "    </tr>\n",
       "  </tbody>\n",
       "</table>\n",
       "</div>"
      ],
      "text/plain": [
       "  Name_big         Family SimilarFunction    Size     Name_dat Name_modified\n",
       "0      A18  Uncategorized           False   945.0      a18.DAT           a18\n",
       "1  A6014-S          Ayers           False  6116.0  A6014-S.DAT       a6014-s\n",
       "2  A6016-S          Ayers           False  5914.0  A6016-S.DAT       a6016-s\n",
       "3  A6018-S          Ayers           False  5889.0  A6018-S.DAT       a6018-s\n",
       "4  A6020-S          Ayers           False  6116.0  A6020-S.DAT       a6020-s"
      ]
     },
     "execution_count": 874,
     "metadata": {},
     "output_type": "execute_result"
    }
   ],
   "source": [
    "df_match.head()"
   ]
  },
  {
   "cell_type": "code",
   "execution_count": 875,
   "metadata": {},
   "outputs": [
    {
     "data": {
      "text/html": [
       "<div>\n",
       "<style scoped>\n",
       "    .dataframe tbody tr th:only-of-type {\n",
       "        vertical-align: middle;\n",
       "    }\n",
       "\n",
       "    .dataframe tbody tr th {\n",
       "        vertical-align: top;\n",
       "    }\n",
       "\n",
       "    .dataframe thead th {\n",
       "        text-align: right;\n",
       "    }\n",
       "</style>\n",
       "<table border=\"1\" class=\"dataframe\">\n",
       "  <thead>\n",
       "    <tr style=\"text-align: right;\">\n",
       "      <th></th>\n",
       "      <th>Match_similar</th>\n",
       "      <th>Name_modified</th>\n",
       "      <th>Name_dat</th>\n",
       "      <th>parenthesis_content</th>\n",
       "    </tr>\n",
       "  </thead>\n",
       "  <tbody>\n",
       "    <tr>\n",
       "      <th>1</th>\n",
       "      <td>ah93w480b</td>\n",
       "      <td>ah93w480b</td>\n",
       "      <td>ah93w480b.DAT</td>\n",
       "      <td>[]</td>\n",
       "    </tr>\n",
       "    <tr>\n",
       "      <th>7</th>\n",
       "      <td>dga1182</td>\n",
       "      <td>dga1182</td>\n",
       "      <td>dga1182.DAT</td>\n",
       "      <td>[]</td>\n",
       "    </tr>\n",
       "    <tr>\n",
       "      <th>8</th>\n",
       "      <td>e664ex</td>\n",
       "      <td>e664ex</td>\n",
       "      <td>e664ex.DAT</td>\n",
       "      <td>[]</td>\n",
       "    </tr>\n",
       "    <tr>\n",
       "      <th>9</th>\n",
       "      <td>fx71l150</td>\n",
       "      <td>fx71l150</td>\n",
       "      <td>fx71l150.DAT</td>\n",
       "      <td>[]</td>\n",
       "    </tr>\n",
       "    <tr>\n",
       "      <th>10</th>\n",
       "      <td>fx79w470a</td>\n",
       "      <td>fx79w470a</td>\n",
       "      <td>fx79w470a.DAT</td>\n",
       "      <td>[]</td>\n",
       "    </tr>\n",
       "  </tbody>\n",
       "</table>\n",
       "</div>"
      ],
      "text/plain": [
       "   Match_similar Name_modified       Name_dat parenthesis_content\n",
       "1      ah93w480b     ah93w480b  ah93w480b.DAT                  []\n",
       "7        dga1182       dga1182    dga1182.DAT                  []\n",
       "8         e664ex        e664ex     e664ex.DAT                  []\n",
       "9       fx71l150      fx71l150   fx71l150.DAT                  []\n",
       "10     fx79w470a     fx79w470a  fx79w470a.DAT                  []"
      ]
     },
     "execution_count": 875,
     "metadata": {},
     "output_type": "execute_result"
    }
   ],
   "source": [
    "df_dat_left.head()"
   ]
  },
  {
   "cell_type": "code",
   "execution_count": 868,
   "metadata": {},
   "outputs": [],
   "source": [
    "# Complete with Name dat file\n",
    "df_match = pd.merge(df_match, df_dat_left[['Match_similar', 'Name_modified', 'Name_dat']], on='Match_similar', how='left', suffixes=('_match', '_left'))\n",
    "df_match['Name_dat'] = df_match['Name_dat_match'].fillna(df_match['Name_dat_left'])\n",
    "df_match['Name_modified'] = df_match['Name_modified_match'].fillna(df_match['Name_modified_left'])\n",
    "df_match.drop(columns=['Name_dat_match', 'Name_dat_left', 'Name_modified_match', 'Name_modified_left'], inplace=True)"
   ]
  },
  {
   "cell_type": "code",
   "execution_count": 869,
   "metadata": {},
   "outputs": [
    {
     "data": {
      "text/plain": [
       "(6305, 9)"
      ]
     },
     "execution_count": 869,
     "metadata": {},
     "output_type": "execute_result"
    }
   ],
   "source": [
    "df_match.shape"
   ]
  },
  {
   "cell_type": "code",
   "execution_count": 870,
   "metadata": {},
   "outputs": [],
   "source": [
    "df_match.to_csv('index_save.csv')"
   ]
  },
  {
   "cell_type": "code",
   "execution_count": 871,
   "metadata": {},
   "outputs": [
    {
     "data": {
      "text/html": [
       "<div>\n",
       "<style scoped>\n",
       "    .dataframe tbody tr th:only-of-type {\n",
       "        vertical-align: middle;\n",
       "    }\n",
       "\n",
       "    .dataframe tbody tr th {\n",
       "        vertical-align: top;\n",
       "    }\n",
       "\n",
       "    .dataframe thead th {\n",
       "        text-align: right;\n",
       "    }\n",
       "</style>\n",
       "<table border=\"1\" class=\"dataframe\">\n",
       "  <thead>\n",
       "    <tr style=\"text-align: right;\">\n",
       "      <th></th>\n",
       "      <th>Name_big</th>\n",
       "      <th>Family</th>\n",
       "      <th>SimilarFunction</th>\n",
       "      <th>checked</th>\n",
       "      <th>Name_similar</th>\n",
       "      <th>Size</th>\n",
       "      <th>Match_similar</th>\n",
       "      <th>Name_dat</th>\n",
       "      <th>Name_modified</th>\n",
       "    </tr>\n",
       "  </thead>\n",
       "  <tbody>\n",
       "    <tr>\n",
       "      <th>0</th>\n",
       "      <td>A18</td>\n",
       "      <td>Uncategorized</td>\n",
       "      <td>False</td>\n",
       "      <td>True</td>\n",
       "      <td>NaN</td>\n",
       "      <td>945.0</td>\n",
       "      <td>NaN</td>\n",
       "      <td>a18.DAT</td>\n",
       "      <td>a18</td>\n",
       "    </tr>\n",
       "    <tr>\n",
       "      <th>1</th>\n",
       "      <td>A6014-S</td>\n",
       "      <td>Ayers</td>\n",
       "      <td>False</td>\n",
       "      <td>True</td>\n",
       "      <td>NaN</td>\n",
       "      <td>6116.0</td>\n",
       "      <td>NaN</td>\n",
       "      <td>A6014-S.DAT</td>\n",
       "      <td>a6014-s</td>\n",
       "    </tr>\n",
       "    <tr>\n",
       "      <th>2</th>\n",
       "      <td>A6016-S</td>\n",
       "      <td>Ayers</td>\n",
       "      <td>False</td>\n",
       "      <td>True</td>\n",
       "      <td>NaN</td>\n",
       "      <td>5914.0</td>\n",
       "      <td>NaN</td>\n",
       "      <td>A6016-S.DAT</td>\n",
       "      <td>a6016-s</td>\n",
       "    </tr>\n",
       "    <tr>\n",
       "      <th>3</th>\n",
       "      <td>A6018-S</td>\n",
       "      <td>Ayers</td>\n",
       "      <td>False</td>\n",
       "      <td>True</td>\n",
       "      <td>NaN</td>\n",
       "      <td>5889.0</td>\n",
       "      <td>NaN</td>\n",
       "      <td>A6018-S.DAT</td>\n",
       "      <td>a6018-s</td>\n",
       "    </tr>\n",
       "    <tr>\n",
       "      <th>4</th>\n",
       "      <td>A6020-S</td>\n",
       "      <td>Ayers</td>\n",
       "      <td>False</td>\n",
       "      <td>True</td>\n",
       "      <td>NaN</td>\n",
       "      <td>6116.0</td>\n",
       "      <td>NaN</td>\n",
       "      <td>A6020-S.DAT</td>\n",
       "      <td>a6020-s</td>\n",
       "    </tr>\n",
       "  </tbody>\n",
       "</table>\n",
       "</div>"
      ],
      "text/plain": [
       "  Name_big         Family SimilarFunction checked Name_similar    Size  \\\n",
       "0      A18  Uncategorized           False    True          NaN   945.0   \n",
       "1  A6014-S          Ayers           False    True          NaN  6116.0   \n",
       "2  A6016-S          Ayers           False    True          NaN  5914.0   \n",
       "3  A6018-S          Ayers           False    True          NaN  5889.0   \n",
       "4  A6020-S          Ayers           False    True          NaN  6116.0   \n",
       "\n",
       "  Match_similar     Name_dat Name_modified  \n",
       "0           NaN      a18.DAT           a18  \n",
       "1           NaN  A6014-S.DAT       a6014-s  \n",
       "2           NaN  A6016-S.DAT       a6016-s  \n",
       "3           NaN  A6018-S.DAT       a6018-s  \n",
       "4           NaN  A6020-S.DAT       a6020-s  "
      ]
     },
     "execution_count": 871,
     "metadata": {},
     "output_type": "execute_result"
    }
   ],
   "source": [
    "df_match.head()"
   ]
  },
  {
   "cell_type": "code",
   "execution_count": 872,
   "metadata": {},
   "outputs": [],
   "source": [
    "df_match['Name_modified'] = df_match['Name_modified'].fillna(df_match['Name_similar'])\n",
    "df_match.drop(columns=['checked', 'Match_similar', 'Name_similar'], inplace=True)"
   ]
  },
  {
   "cell_type": "code",
   "execution_count": 873,
   "metadata": {},
   "outputs": [],
   "source": [
    "df_match.to_csv('index_final.csv')"
   ]
  },
  {
   "cell_type": "code",
   "execution_count": 865,
   "metadata": {},
   "outputs": [],
   "source": [
    "# df_dat_left[['Match_similar', 'Name_dat']]"
   ]
  },
  {
   "cell_type": "code",
   "execution_count": 866,
   "metadata": {},
   "outputs": [],
   "source": [
    "# Name_big\n",
    "# CYRANO II P-30\n",
    "# FLYING WING PEE WEE 30\t\n",
    "# NACA0012-64 A=0.8 C(LI)=0.2\t\n",
    "# X-35 LOW DRAG BODY\t\n",
    "# JH35\n",
    "# UAG92 170/SF\t\n",
    "# Cyrano II P-30 cyranoiip30\n",
    "# jhsym10 JHSYM-10\n",
    "# naca6621812a=6p51tip\t not found\n",
    "# swallowp30 SwallowP-30\n",
    "# deesokay230 surement problème"
   ]
  }
 ],
 "metadata": {
  "kernelspec": {
   "display_name": "base",
   "language": "python",
   "name": "python3"
  },
  "language_info": {
   "codemirror_mode": {
    "name": "ipython",
    "version": 3
   },
   "file_extension": ".py",
   "mimetype": "text/x-python",
   "name": "python",
   "nbconvert_exporter": "python",
   "pygments_lexer": "ipython3",
   "version": "3.11.5"
  }
 },
 "nbformat": 4,
 "nbformat_minor": 2
}
