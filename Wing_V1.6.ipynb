{
 "cells": [
  {
   "cell_type": "markdown",
   "metadata": {},
   "source": [
    "https://www.kaggle.com/datasets/uciml/red-wine-quality-cortez-et-al-2009"
   ]
  },
  {
   "cell_type": "markdown",
   "metadata": {},
   "source": [
    "# Wing drawing"
   ]
  },
  {
   "cell_type": "code",
   "execution_count": 1,
   "metadata": {},
   "outputs": [
    {
     "data": {
      "application/vnd.jupyter.widget-view+json": {
       "model_id": "d74e087995c54bb59f8cc0de649f6cfa",
       "version_major": 2,
       "version_minor": 0
      },
      "text/plain": [
       "interactive(children=(FloatSlider(value=0.02, description='Max Camber (% of Chord):', max=0.15, step=0.01), Fl…"
      ]
     },
     "metadata": {},
     "output_type": "display_data"
    }
   ],
   "source": [
    "# ITERATION WITHOUT THE PICKLE MODEL, WITH THE UPDATED TITLE\n",
    "\n",
    "import numpy as np\n",
    "import matplotlib.pyplot as plt\n",
    "from ipywidgets import interactive\n",
    "\n",
    "def naca4(m, p, t, chord=1, n=100):\n",
    "    x = np.linspace(0, chord, n)\n",
    "\n",
    "    # Mean camber line\n",
    "    yc = np.where((x >= 0) & (x < p*chord),\n",
    "                  m * (x / np.power(p, 2)) * (2.0 * p - (x / chord)),\n",
    "                  m * ((chord - x) / np.power(1-p, 2)) * (1.0 + (x / chord) - 2.0 * p))\n",
    "\n",
    "    # Thickness distribution\n",
    "    yt = (t/0.20) * chord * (\n",
    "        0.2969 * np.sqrt(x/chord) - 0.1260 * (x/chord) - 0.3516 * np.power(x/chord, 2)\n",
    "        + 0.2843 * np.power(x/chord, 3) - 0.1015 * np.power(x/chord, 4))\n",
    "\n",
    "    # Upper and lower surfaces\n",
    "    upper_surface = yc + yt\n",
    "    lower_surface = yc - yt\n",
    "\n",
    "    return x, upper_surface, lower_surface\n",
    "\n",
    "def plot_airfoil(m=0.02, p=0.4, tt=12):\n",
    "    t = tt / 100\n",
    "    x, upper_surface, lower_surface = naca4(m, p, t, n=200)\n",
    "\n",
    "    plt.figure(figsize=(15, 6))\n",
    "    plt.plot(x, upper_surface, 'r-', label='Upper Surface')\n",
    "    plt.plot(x, lower_surface, 'b-', label='Lower Surface')\n",
    "    plt.plot(x, np.zeros_like(x), 'k--', label='Chord Line')  # Chord line\n",
    "    plt.fill_between(x, upper_surface, lower_surface, color='gray', alpha=0.5)\n",
    "    plt.axis('equal')\n",
    "\n",
    "    # Adjust title to reflect zero max camber\n",
    "    camber_position = 0 if m == 0 else int(p*10)\n",
    "    plt.title(f'Airplane Wing Cross-Section (NACA {int(m*100)}{camber_position}{tt})')\n",
    "\n",
    "    plt.xlabel('Chord Length')\n",
    "    plt.ylabel('Height')\n",
    "    plt.legend()\n",
    "    plt.grid(True)\n",
    "    plt.show()\n",
    "\n",
    "# Create interactive widgets without the chord slider\n",
    "interactive_plot = interactive(\n",
    "    plot_airfoil,\n",
    "    m=(0.00, 0.15, 0.01),\n",
    "    p=(0.1, 0.9, 0.1),\n",
    "    tt=(1, 25, 1)\n",
    ")\n",
    "\n",
    "# Adjust descriptions for remaining sliders\n",
    "interactive_plot.children[0].description = 'Max Camber (% of Chord):'\n",
    "interactive_plot.children[1].description = 'Pos of Max Camber (Chord Fraction):'\n",
    "interactive_plot.children[2].description = 'Max Thickness (% of Chord):'\n",
    "\n",
    "# Configure the output layout\n",
    "output = interactive_plot.children[-1]\n",
    "output.layout.height = '450px'\n",
    "\n",
    "# Display the interactive plot\n",
    "interactive_plot\n"
   ]
  },
  {
   "cell_type": "code",
   "execution_count": 2,
   "metadata": {},
   "outputs": [
    {
     "name": "stderr",
     "output_type": "stream",
     "text": [
      "C:\\Users\\adrie\\AppData\\Local\\Packages\\PythonSoftwareFoundation.Python.3.11_qbz5n2kfra8p0\\LocalCache\\local-packages\\Python311\\site-packages\\sklearn\\base.py:376: InconsistentVersionWarning: Trying to unpickle estimator LinearRegression from version 1.3.0 when using version 1.4.1.post1. This might lead to breaking code or invalid results. Use at your own risk. For more info please refer to:\n",
      "https://scikit-learn.org/stable/model_persistence.html#security-maintainability-limitations\n",
      "  warnings.warn(\n"
     ]
    },
    {
     "data": {
      "application/vnd.jupyter.widget-view+json": {
       "model_id": "d325ab64ce5147018d9eec7b1e07c305",
       "version_major": 2,
       "version_minor": 0
      },
      "text/plain": [
       "interactive(children=(FloatSlider(value=0.02, description='Max Camber (% of Chord):', max=0.15, step=0.01), Fl…"
      ]
     },
     "metadata": {},
     "output_type": "display_data"
    }
   ],
   "source": [
    "# ITERATION WITH PICKLE, NO UPDATE\n",
    "\n",
    "import numpy as np\n",
    "import matplotlib.pyplot as plt\n",
    "from ipywidgets import interactive\n",
    "import pickle\n",
    "\n",
    "# Load the machine learning model\n",
    "file_path = 'my_model.pkl'\n",
    "with open(file_path, 'rb') as file:\n",
    "    linear_regression_model = pickle.load(file)\n",
    "\n",
    "def naca4(m, p, t, chord=1, n=100):\n",
    "    x = np.linspace(0, chord, n)\n",
    "    yc = np.where((x >= 0) & (x < p*chord),\n",
    "                  m * (x / np.power(p, 2)) * (2.0 * p - (x / chord)),\n",
    "                  m * ((chord - x) / np.power(1-p, 2)) * (1.0 + (x / chord) - 2.0 * p))\n",
    "    yt = (t/0.20) * chord * (\n",
    "        0.2969 * np.sqrt(x/chord) - 0.1260 * (x/chord) - 0.3516 * np.power(x/chord, 2)\n",
    "        + 0.2843 * np.power(x/chord, 3) - 0.1015 * np.power(x/chord, 4))\n",
    "    upper_surface = yc + yt\n",
    "    lower_surface = yc - yt\n",
    "    return x, upper_surface, lower_surface\n",
    "\n",
    "def plot_airfoil(m=0.02, p=0.4, tt=12):\n",
    "    t = tt / 100\n",
    "    x, upper_surface, lower_surface = naca4(m, p, t, n=200)\n",
    "    plt.figure(figsize=(15, 6))\n",
    "    plt.plot(x, upper_surface, 'r-', label='Upper Surface')\n",
    "    plt.plot(x, lower_surface, 'b-', label='Lower Surface')\n",
    "    plt.plot(x, np.zeros_like(x), 'k--', label='Chord Line')\n",
    "    plt.fill_between(x, upper_surface, lower_surface, color='gray', alpha=0.5)\n",
    "    plt.axis('equal')\n",
    "    \n",
    "    # Use the linear regression model for prediction\n",
    "    X_test = np.array([[m, p, t]])\n",
    "    prediction = linear_regression_model.predict(X_test)\n",
    "    \n",
    "    # Adjust the title to include the model's prediction\n",
    "    camber_position = 0 if m == 0 else int(p*10)\n",
    "    plt.title(f'Airplane Wing Cross-Section (NACA {int(m*100)}{camber_position}{tt}) - Prediction: {prediction[0]}')\n",
    "    \n",
    "    plt.xlabel('Chord Length')\n",
    "    plt.ylabel('Height')\n",
    "    plt.legend()\n",
    "    plt.grid(True)\n",
    "    plt.show()\n",
    "\n",
    "interactive_plot = interactive(\n",
    "    plot_airfoil,\n",
    "    m=(0.00, 0.15, 0.01),\n",
    "    p=(0, 0.9, 0.1),\n",
    "    tt=(1, 25, 1)\n",
    ")\n",
    "\n",
    "interactive_plot.children[0].description = 'Max Camber (% of Chord):'\n",
    "interactive_plot.children[1].description = 'Pos of Max Camber (Chord Fraction):'\n",
    "interactive_plot.children[2].description = 'Max Thickness (% of Chord):'\n",
    "\n",
    "output = interactive_plot.children[-1]\n",
    "output.layout.height = '450px'\n",
    "\n",
    "interactive_plot\n"
   ]
  },
  {
   "cell_type": "code",
   "execution_count": 8,
   "metadata": {},
   "outputs": [
    {
     "name": "stderr",
     "output_type": "stream",
     "text": [
      "C:\\Users\\adrie\\AppData\\Local\\Packages\\PythonSoftwareFoundation.Python.3.11_qbz5n2kfra8p0\\LocalCache\\local-packages\\Python311\\site-packages\\sklearn\\base.py:376: InconsistentVersionWarning: Trying to unpickle estimator LinearRegression from version 1.3.0 when using version 1.4.1.post1. This might lead to breaking code or invalid results. Use at your own risk. For more info please refer to:\n",
      "https://scikit-learn.org/stable/model_persistence.html#security-maintainability-limitations\n",
      "  warnings.warn(\n"
     ]
    },
    {
     "data": {
      "application/vnd.jupyter.widget-view+json": {
       "model_id": "e1a88cd9a17c453eb69dcc791eef387c",
       "version_major": 2,
       "version_minor": 0
      },
      "text/plain": [
       "interactive(children=(FloatSlider(value=0.02, description='Max Camber (% of Chord):', max=0.15, step=0.01), Fl…"
      ]
     },
     "metadata": {},
     "output_type": "display_data"
    }
   ],
   "source": [
    "# ITERATION WITH PICKLE, m*100 and p*100, order in X-test changed\n",
    "\n",
    "import numpy as np\n",
    "import matplotlib.pyplot as plt\n",
    "from ipywidgets import interactive\n",
    "import pickle\n",
    "\n",
    "# Load the machine learning model\n",
    "file_path = 'my_model.pkl'\n",
    "with open(file_path, 'rb') as file:\n",
    "    linear_regression_model = pickle.load(file)\n",
    "\n",
    "def naca4(m, p, t, chord=1, n=100):\n",
    "    x = np.linspace(0, chord, n)\n",
    "    yc = np.where((x >= 0) & (x < p*chord),\n",
    "                  m * (x / np.power(p, 2)) * (2.0 * p - (x / chord)),\n",
    "                  m * ((chord - x) / np.power(1-p, 2)) * (1.0 + (x / chord) - 2.0 * p))\n",
    "    yt = (t/0.20) * chord * (\n",
    "        0.2969 * np.sqrt(x/chord) - 0.1260 * (x/chord) - 0.3516 * np.power(x/chord, 2)\n",
    "        + 0.2843 * np.power(x/chord, 3) - 0.1015 * np.power(x/chord, 4))\n",
    "    upper_surface = yc + yt\n",
    "    lower_surface = yc - yt\n",
    "    return x, upper_surface, lower_surface\n",
    "\n",
    "def plot_airfoil(m=0.02, p=0.4, tt=12):\n",
    "    t = tt / 100\n",
    "    x, upper_surface, lower_surface = naca4(m, p, t, n=200)\n",
    "    plt.figure(figsize=(15, 6))\n",
    "    plt.plot(x, upper_surface, 'r-', label='Upper Surface')\n",
    "    plt.plot(x, lower_surface, 'b-', label='Lower Surface')\n",
    "    plt.plot(x, np.zeros_like(x), 'k--', label='Chord Line')\n",
    "    plt.fill_between(x, upper_surface, lower_surface, color='gray', alpha=0.5)\n",
    "    plt.axis('equal')\n",
    "    \n",
    "    # order changed\n",
    "    X_test = np.array([[t ,p*100 , m*100]])  \n",
    "    prediction = linear_regression_model.predict(X_test)\n",
    "    \n",
    "    # Adjust the title to include the model's prediction\n",
    "    camber_position = 0 if m == 0 else int(p*10)\n",
    "    plt.title(f'Airplane Wing Cross-Section (NACA {int(m*100)}{camber_position}{tt}) - Prediction: {prediction[0]}')\n",
    "    \n",
    "    plt.xlabel('Chord Length')\n",
    "    plt.ylabel('Height')\n",
    "    plt.legend()\n",
    "    plt.grid(True)\n",
    "    plt.show()\n",
    "\n",
    "interactive_plot = interactive(\n",
    "    plot_airfoil,\n",
    "    m=(0.00, 0.15, 0.01),\n",
    "    p=(0, 0.9, 0.1),\n",
    "    tt=(1, 25, 1)\n",
    ")\n",
    "\n",
    "interactive_plot.children[0].description = 'Max Camber (% of Chord):'\n",
    "interactive_plot.children[1].description = 'Pos of Max Camber (Chord Fraction):'\n",
    "interactive_plot.children[2].description = 'Max Thickness (% of Chord):'\n",
    "\n",
    "output = interactive_plot.children[-1]\n",
    "output.layout.height = '450px'\n",
    "\n",
    "interactive_plot\n"
   ]
  }
 ],
 "metadata": {
  "kernelspec": {
   "display_name": "Python 3 (ipykernel)",
   "language": "python",
   "name": "python3"
  },
  "language_info": {
   "codemirror_mode": {
    "name": "ipython",
    "version": 3
   },
   "file_extension": ".py",
   "mimetype": "text/x-python",
   "name": "python",
   "nbconvert_exporter": "python",
   "pygments_lexer": "ipython3",
   "version": "3.11.8"
  }
 },
 "nbformat": 4,
 "nbformat_minor": 4
}
